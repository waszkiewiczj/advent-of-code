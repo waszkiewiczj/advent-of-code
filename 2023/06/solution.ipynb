{
 "cells": [
  {
   "cell_type": "markdown",
   "metadata": {},
   "source": [
    "# Day 6: Wait For It"
   ]
  },
  {
   "cell_type": "markdown",
   "metadata": {},
   "source": [
    "## Part 1\n",
    "\n",
    "The ferry quickly brings you across Island Island. After asking around, you discover that there is indeed normally a large pile of sand somewhere near here, but you don't see anything besides lots of water and the small island where the ferry has docked.\n",
    "\n",
    "As you try to figure out what to do next, you notice a poster on a wall near the ferry dock. \"Boat races! Open to the public! Grand prize is an all-expenses-paid trip to Desert Island!\" That must be where the sand comes from! Best of all, the boat races are starting in just a few minutes.\n",
    "\n",
    "You manage to sign up as a competitor in the boat races just in time. The organizer explains that it's not really a traditional race - instead, you will get a fixed amount of time during which your boat has to travel as far as it can, and you win if your boat goes the farthest.\n",
    "\n",
    "As part of signing up, you get a sheet of paper (your puzzle input) that lists the time allowed for each race and also the best distance ever recorded in that race. To guarantee you win the grand prize, you need to make sure you go farther in each race than the current record holder.\n",
    "\n",
    "The organizer brings you over to the area where the boat races are held. The boats are much smaller than you expected - they're actually toy boats, each with a big button on top. Holding down the button charges the boat, and releasing the button allows the boat to move. Boats move faster if their button was held longer, but time spent holding the button counts against the total race time. You can only hold the button at the start of the race, and boats don't move until the button is released.\n",
    "\n",
    "For example:\n",
    "\n",
    "```\n",
    "Time:      7  15   30\n",
    "Distance:  9  40  200\n",
    "```\n",
    "\n",
    "This document describes three races:\n",
    "\n",
    "- The first race lasts `7` milliseconds. The record distance in this race is `9` millimeters.\n",
    "- The second race lasts `15` milliseconds. The record distance in this race is `40` millimeters.\n",
    "- The third race lasts `30` milliseconds. The record distance in this race is `200` millimeters.\n",
    "\n",
    "Your toy boat has a starting speed of zero millimeters per millisecond. For each whole millisecond you spend at the beginning of the race holding down the button, the boat's speed increases by one millimeter per millisecond.\n",
    "\n",
    "So, because the first race lasts `7` milliseconds, you only have a few options:\n",
    "\n",
    "- Don't hold the button at all (that is, hold it for `0` milliseconds) at the start of the race. The boat won't move; it will have traveled `0` millimeters by the end of the race.\n",
    "- Hold the button for `1` millisecond at the start of the race. Then, the boat will travel at a speed of `1` millimeter per millisecond for `6` milliseconds, reaching a total distance traveled of `6` millimeters.\n",
    "- Hold the button for `2` milliseconds, giving the boat a speed of `2` millimeters per millisecond. It will then get `5` milliseconds to move, reaching a total distance of `10` millimeters.\n",
    "- Hold the button for `3` milliseconds. After its remaining `4` milliseconds of travel time, the boat will have gone `12` millimeters.\n",
    "- Hold the button for `4` milliseconds. After its remaining `3` milliseconds of travel time, the boat will have gone `12` millimeters.\n",
    "- Hold the button for `5` milliseconds, causing the boat to travel a total of `10` millimeters.\n",
    "- Hold the button for `6` milliseconds, causing the boat to travel a total of `6` millimeters.\n",
    "- Hold the button for `7` milliseconds. That's the entire duration of the race. You never let go of the button. The boat can't move until you let go of the button. Please make sure you let go of the button so the boat gets to move. `0` millimeters.\n",
    "\n",
    "Since the current record for this race is `9` millimeters, there are actually `4` different ways you could win: you could hold the button for `2`, `3`, `4`, or `5` milliseconds at the start of the race.\n",
    "\n",
    "In the second race, you could hold the button for at least `4` milliseconds and at most `11` milliseconds and beat the record, a total of `8` different ways to win.\n",
    "\n",
    "In the third race, you could hold the button for at least `11` milliseconds and no more than `19` milliseconds and still beat the record, a total of 9`` ways you could win.\n",
    "\n",
    "To see how much margin of error you have, determine the number of ways you can beat the record in each race; in this example, if you multiply these values together, you get `288` (`4` * `8` * `9`).\n",
    "\n",
    "Determine the number of ways you could beat the record in each race. What do you get if you multiply these numbers together?"
   ]
  },
  {
   "cell_type": "code",
   "execution_count": 2,
   "metadata": {},
   "outputs": [
    {
     "data": {
      "text/plain": [
       "[(7, 9), (15, 40), (30, 200)]"
      ]
     },
     "execution_count": 2,
     "metadata": {},
     "output_type": "execute_result"
    }
   ],
   "source": [
    "test_data_raw = (\n",
    "\"\"\"Time:      7  15   30\n",
    "Distance:  9  40  200\n",
    "\"\"\").splitlines()\n",
    "\n",
    "def parse_data1(data_raw):\n",
    "    times = [\n",
    "        int(time_raw) \n",
    "        for time_raw in data_raw[0][5:].split()\n",
    "        if len(time_raw) > 0\n",
    "    ]\n",
    "    distances = [\n",
    "        int(distance_raw) \n",
    "        for distance_raw in data_raw[1][10:].split()\n",
    "        if len(distance_raw) > 0\n",
    "    ]\n",
    "\n",
    "    return list(zip(times, distances))\n",
    "\n",
    "test_data1 = parse_data1(test_data_raw)\n",
    "test_data1"
   ]
  },
  {
   "cell_type": "code",
   "execution_count": 3,
   "metadata": {},
   "outputs": [
    {
     "data": {
      "text/plain": [
       "[(44, 202), (82, 1076), (69, 1138), (81, 1458)]"
      ]
     },
     "execution_count": 3,
     "metadata": {},
     "output_type": "execute_result"
    }
   ],
   "source": [
    "with open('input.txt', 'r') as f:\n",
    "    data_raw = f.readlines()\n",
    "\n",
    "data1 = parse_data1(data_raw)\n",
    "data1"
   ]
  },
  {
   "cell_type": "code",
   "execution_count": 4,
   "metadata": {},
   "outputs": [
    {
     "data": {
      "text/plain": [
       "288"
      ]
     },
     "execution_count": 4,
     "metadata": {},
     "output_type": "execute_result"
    }
   ],
   "source": [
    "import numpy as np\n",
    "\n",
    "\n",
    "def part1(data):\n",
    "    def count_possible_wins(time, winning_dist):\n",
    "        result = 0\n",
    "        current_button = 0\n",
    "        while current_button < time:\n",
    "            current_dist = (time - current_button) * current_button\n",
    "            if current_dist > winning_dist:\n",
    "                result += 1\n",
    "            current_button += 1\n",
    "        return result\n",
    "    \n",
    "    return np.prod([count_possible_wins(time, winning_dist) for time, winning_dist in data if count_possible_wins(time, winning_dist) > 0])\n",
    "\n",
    "\n",
    "part1(test_data1)"
   ]
  },
  {
   "cell_type": "code",
   "execution_count": 5,
   "metadata": {},
   "outputs": [
    {
     "data": {
      "text/plain": [
       "588588"
      ]
     },
     "execution_count": 5,
     "metadata": {},
     "output_type": "execute_result"
    }
   ],
   "source": [
    "part1(data1)"
   ]
  },
  {
   "cell_type": "markdown",
   "metadata": {},
   "source": [
    "## Part 2\n",
    "\n",
    "As the race is about to start, you realize the piece of paper with race times and record distances you got earlier actually just has very bad kerning. There's really only one race - ignore the spaces between the numbers on each line.\n",
    "\n",
    "So, the example from before:\n",
    "\n",
    "```\n",
    "Time:      7  15   30\n",
    "Distance:  9  40  200\n",
    "```\n",
    "\n",
    "...now instead means this:\n",
    "\n",
    "```\n",
    "Time:      71530\n",
    "Distance:  940200\n",
    "```\n",
    "\n",
    "Now, you have to figure out how many ways there are to win this single race. In this example, the race lasts for `71530` milliseconds and the record distance you need to beat is `940200` millimeters. You could hold the button anywhere from `14` to `71516` milliseconds and beat the record, a total of `71503` ways!\n",
    "\n",
    "How many ways can you beat the record in this one much longer race?"
   ]
  },
  {
   "cell_type": "code",
   "execution_count": 6,
   "metadata": {},
   "outputs": [
    {
     "data": {
      "text/plain": [
       "(71530, 940200)"
      ]
     },
     "execution_count": 6,
     "metadata": {},
     "output_type": "execute_result"
    }
   ],
   "source": [
    "def parse_data2(data_raw):\n",
    "    time = int(data_raw[0][5:].replace(' ', ''))\n",
    "    distance = int(data_raw[1][10:].replace(' ', ''))\n",
    "    return time, distance\n",
    "\n",
    "test_data2 = parse_data2(test_data_raw)\n",
    "test_data2"
   ]
  },
  {
   "cell_type": "code",
   "execution_count": 7,
   "metadata": {},
   "outputs": [
    {
     "data": {
      "text/plain": [
       "(44826981, 202107611381458)"
      ]
     },
     "execution_count": 7,
     "metadata": {},
     "output_type": "execute_result"
    }
   ],
   "source": [
    "data2 = parse_data2(data_raw)\n",
    "data2"
   ]
  },
  {
   "cell_type": "code",
   "execution_count": 8,
   "metadata": {},
   "outputs": [
    {
     "data": {
      "text/plain": [
       "71503"
      ]
     },
     "execution_count": 8,
     "metadata": {},
     "output_type": "execute_result"
    }
   ],
   "source": [
    "import math\n",
    "\n",
    "\n",
    "def part2(data):\n",
    "    time, distance = data\n",
    "    min_button = math.ceil(0.5 * (time - math.sqrt(time ** 2 - 4 * distance)))\n",
    "    max_button = math.floor(0.5 * (time + math.sqrt(time ** 2 - 4 * distance)))\n",
    "    return max_button - min_button + 1\n",
    "\n",
    "\n",
    "part2(test_data2)"
   ]
  },
  {
   "cell_type": "code",
   "execution_count": 9,
   "metadata": {},
   "outputs": [
    {
     "data": {
      "text/plain": [
       "34655848"
      ]
     },
     "execution_count": 9,
     "metadata": {},
     "output_type": "execute_result"
    }
   ],
   "source": [
    "part2(data2)"
   ]
  }
 ],
 "metadata": {
  "kernelspec": {
   "display_name": "aoc",
   "language": "python",
   "name": "python3"
  },
  "language_info": {
   "codemirror_mode": {
    "name": "ipython",
    "version": 3
   },
   "file_extension": ".py",
   "mimetype": "text/x-python",
   "name": "python",
   "nbconvert_exporter": "python",
   "pygments_lexer": "ipython3",
   "version": "3.11.1"
  }
 },
 "nbformat": 4,
 "nbformat_minor": 2
}
