{
 "cells": [
  {
   "cell_type": "code",
   "execution_count": 1,
   "metadata": {},
   "outputs": [
    {
     "data": {
      "text/plain": [
       "array([['.', '.', '.', '.', '.', '.', '.', '.', '.', '.', '.'],\n",
       "       ['.', '.', '.', '.', '.', '#', '#', '#', '.', '#', '.'],\n",
       "       ['.', '#', '#', '#', '.', '#', '#', '.', '.', '#', '.'],\n",
       "       ['.', '.', '#', '.', '#', '.', '.', '.', '#', '.', '.'],\n",
       "       ['.', '.', '.', '.', '#', '.', '#', '.', '.', '.', '.'],\n",
       "       ['.', '#', '#', '.', '.', 'S', '#', '#', '#', '#', '.'],\n",
       "       ['.', '#', '#', '.', '.', '#', '.', '.', '.', '#', '.'],\n",
       "       ['.', '.', '.', '.', '.', '.', '.', '#', '#', '.', '.'],\n",
       "       ['.', '#', '#', '.', '#', '.', '#', '#', '#', '#', '.'],\n",
       "       ['.', '#', '#', '.', '.', '#', '#', '.', '#', '#', '.'],\n",
       "       ['.', '.', '.', '.', '.', '.', '.', '.', '.', '.', '.']],\n",
       "      dtype='<U1')"
      ]
     },
     "execution_count": 1,
     "metadata": {},
     "output_type": "execute_result"
    }
   ],
   "source": [
    "import numpy as np\n",
    "\n",
    "\n",
    "test_data_raw = \"\"\"...........\n",
    ".....###.#.\n",
    ".###.##..#.\n",
    "..#.#...#..\n",
    "....#.#....\n",
    ".##..S####.\n",
    ".##..#...#.\n",
    ".......##..\n",
    ".##.#.####.\n",
    ".##..##.##.\n",
    "...........\"\"\"\n",
    "\n",
    "\n",
    "def parse_data(data):\n",
    "    return np.array([list(line) for line in data.splitlines()])\n",
    "\n",
    "\n",
    "test_data = parse_data(test_data_raw)\n",
    "test_data"
   ]
  },
  {
   "cell_type": "code",
   "execution_count": 22,
   "metadata": {},
   "outputs": [
    {
     "data": {
      "text/plain": [
       "16"
      ]
     },
     "execution_count": 22,
     "metadata": {},
     "output_type": "execute_result"
    }
   ],
   "source": [
    "def part1(data, steps=64):\n",
    "    start = np.argwhere(data == 'S')[0]\n",
    "    points = {tuple(start)}\n",
    "    for _ in range(steps):\n",
    "        new_points = set()\n",
    "        for x, y in points:\n",
    "            for x_dir, y_dir in [(0, 1), (0, -1), (1, 0), (-1, 0)]:\n",
    "                xx, yy = x + x_dir, y + y_dir\n",
    "                if 0 <= xx < data.shape[0] and 0 <= yy < data.shape[1] and data[xx, yy] != '#':\n",
    "                    new_points.add((xx, yy))\n",
    "        points = new_points\n",
    "    return len(points)\n",
    "\n",
    "\n",
    "part1(test_data, 6)"
   ]
  },
  {
   "cell_type": "code",
   "execution_count": 18,
   "metadata": {},
   "outputs": [
    {
     "data": {
      "text/plain": [
       "array([['.', '.', '.', '.', '.'],\n",
       "       ['.', '.', '#', '#', '.'],\n",
       "       ['.', '.', '#', '#', '.'],\n",
       "       ['.', '.', '.', '.', '.'],\n",
       "       ['.', '.', '.', '.', '.']], dtype='<U1')"
      ]
     },
     "execution_count": 18,
     "metadata": {},
     "output_type": "execute_result"
    }
   ],
   "source": [
    "with open('input.txt') as f:\n",
    "    data = parse_data(f.read())\n",
    "\n",
    "data[:5, :5]"
   ]
  },
  {
   "cell_type": "code",
   "execution_count": 19,
   "metadata": {},
   "outputs": [
    {
     "data": {
      "text/plain": [
       "3758"
      ]
     },
     "execution_count": 19,
     "metadata": {},
     "output_type": "execute_result"
    }
   ],
   "source": [
    "part1(data)"
   ]
  },
  {
   "cell_type": "code",
   "execution_count": 34,
   "metadata": {},
   "outputs": [
    {
     "name": "stdout",
     "output_type": "stream",
     "text": [
      "STEPS 6 RESULT 16\n",
      "STEPS 10 RESULT 50\n",
      "STEPS 50 RESULT 1594\n",
      "STEPS 100 RESULT 6536\n",
      "STEPS 500 RESULT 167004\n"
     ]
    }
   ],
   "source": [
    "def part2(data, steps=64):\n",
    "    start = np.argwhere(data == 'S')[0]\n",
    "    points = {(start[0], start[1], 0, 0)}\n",
    "    for _ in range(steps):\n",
    "        new_points = set()\n",
    "        for x, y, x_count, y_count in points:\n",
    "            for x_dir, y_dir in [(0, 1), (0, -1), (1, 0), (-1, 0)]:\n",
    "                xx, yy = (x + x_dir) % data.shape[0], (y + y_dir) % data.shape[1]\n",
    "                xx_count, yy_count = x_count + (x + x_dir) // data.shape[0], y_count + (y + y_dir) // data.shape[1]\n",
    "                if data[xx, yy] != '#':\n",
    "                    new_points.add((xx, yy, xx_count, yy_count))\n",
    "        points = new_points\n",
    "    return len(points)\n",
    "\n",
    "\n",
    "for steps in [6, 10, 50, 100, 500, 1000, 5000]:\n",
    "    result = part2(test_data, steps)\n",
    "    print(\"STEPS\", steps, \"RESULT\", result)"
   ]
  }
 ],
 "metadata": {
  "kernelspec": {
   "display_name": "aoc",
   "language": "python",
   "name": "python3"
  },
  "language_info": {
   "codemirror_mode": {
    "name": "ipython",
    "version": 3
   },
   "file_extension": ".py",
   "mimetype": "text/x-python",
   "name": "python",
   "nbconvert_exporter": "python",
   "pygments_lexer": "ipython3",
   "version": "3.11.1"
  }
 },
 "nbformat": 4,
 "nbformat_minor": 2
}
