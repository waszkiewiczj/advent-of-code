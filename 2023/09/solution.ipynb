{
 "cells": [
  {
   "cell_type": "markdown",
   "metadata": {},
   "source": [
    "# Day 9: Mirage Maintenance"
   ]
  },
  {
   "cell_type": "markdown",
   "metadata": {},
   "source": [
    "## Part 1\n",
    "\n",
    "You ride the camel through the sandstorm and stop where the ghost's maps told you to stop. The sandstorm subsequently subsides, somehow seeing you standing at an oasis!\n",
    "\n",
    "The camel goes to get some water and you stretch your neck. As you look up, you discover what must be yet another giant floating island, this one made of metal! That must be where the parts to fix the sand machines come from.\n",
    "\n",
    "There's even a hang glider partially buried in the sand here; once the sun rises and heats up the sand, you might be able to use the glider and the hot air to get all the way up to the metal island!\n",
    "\n",
    "While you wait for the sun to rise, you admire the oasis hidden here in the middle of Desert Island. It must have a delicate ecosystem; you might as well take some ecological readings while you wait. Maybe you can report any environmental instabilities you find to someone so the oasis can be around for the next sandstorm-worn traveler.\n",
    "\n",
    "You pull out your handy Oasis And Sand Instability Sensor and analyze your surroundings. The OASIS produces a report of many values and how they are changing over time (your puzzle input). Each line in the report contains the history of a single value. For example:\n",
    "\n",
    "```\n",
    "0 3 6 9 12 15\n",
    "1 3 6 10 15 21\n",
    "10 13 16 21 30 45\n",
    "```\n",
    "\n",
    "To best protect the oasis, your environmental report should include a prediction of the next value in each history. To do this, start by making a new sequence from the difference at each step of your history. If that sequence is not all zeroes, repeat this process, using the sequence you just generated as the input sequence. Once all of the values in your latest sequence are zeroes, you can extrapolate what the next value of the original history should be.\n",
    "\n",
    "In the above dataset, the first history is `0 3 6 9 12 15`. Because the values increase by `3` each step, the first sequence of differences that you generate will be `3 3 3 3 3`. Note that this sequence has one fewer value than the input sequence because at each step it considers two numbers from the input. Since these values aren't all zero, repeat the process: the values differ by `0` at each step, so the next sequence is `0 0 0 0`. This means you have enough information to extrapolate the history! Visually, these sequences can be arranged like this:\n",
    "\n",
    "```\n",
    "0   3   6   9  12  15\n",
    "  3   3   3   3   3\n",
    "    0   0   0   0\n",
    "```\n",
    "\n",
    "To extrapolate, start by adding a new zero to the end of your list of zeroes; because the zeroes represent differences between the two values above them, this also means there is now a placeholder in every sequence above it:\n",
    "\n",
    "```\n",
    "0   3   6   9  12  15   B\n",
    "  3   3   3   3   3   A\n",
    "    0   0   0   0   0\n",
    "```\n",
    "\n",
    "You can then start filling in placeholders from the bottom up. A needs to be the result of increasing `3` (the value to its left) by `0` (the value below it); this means `A` must be `3`:\n",
    "\n",
    "```\n",
    "0   3   6   9  12  15   B\n",
    "  3   3   3   3   3   3\n",
    "    0   0   0   0   0\n",
    "```\n",
    "\n",
    "Finally, you can fill in `B`, which needs to be the result of increasing `15` (the value to its left) by `3` (the value below it), or `18`:\n",
    "\n",
    "```\n",
    "0   3   6   9  12  15  18\n",
    "  3   3   3   3   3   3\n",
    "    0   0   0   0   0\n",
    "```\n",
    "\n",
    "So, the next value of the first history is `18`.\n",
    "\n",
    "Finding all-zero differences for the second history requires an additional sequence:\n",
    "\n",
    "```\n",
    "1   3   6  10  15  21\n",
    "  2   3   4   5   6\n",
    "    1   1   1   1\n",
    "      0   0   0\n",
    "```\n",
    "\n",
    "Then, following the same process as before, work out the next value in each sequence from the bottom up:\n",
    "\n",
    "```\n",
    "1   3   6  10  15  21  28\n",
    "  2   3   4   5   6   7\n",
    "    1   1   1   1   1\n",
    "      0   0   0   0\n",
    "```\n",
    "\n",
    "So, the next value of the second history is `28`.\n",
    "\n",
    "The third history requires even more sequences, but its next value can be found the same way:\n",
    "\n",
    "```\n",
    "10  13  16  21  30  45  68\n",
    "   3   3   5   9  15  23\n",
    "     0   2   4   6   8\n",
    "       2   2   2   2\n",
    "         0   0   0\n",
    "```\n",
    "\n",
    "So, the next value of the third history is `68`.\n",
    "\n",
    "If you find the next value for each history in this example and add them together, you get `114`.\n",
    "\n",
    "Analyze your OASIS report and extrapolate the next value for each history. What is the sum of these extrapolated values?"
   ]
  },
  {
   "cell_type": "code",
   "execution_count": 5,
   "metadata": {},
   "outputs": [
    {
     "name": "stdout",
     "output_type": "stream",
     "text": [
      "sequence: [1, 3, 6, 10, 15, 21]\n",
      "next value: 28\n",
      "sequence: [0, 3, 6, 9, 12, 15]\n",
      "next value: 18\n"
     ]
    }
   ],
   "source": [
    "import numpy as np\n",
    "\n",
    "\n",
    "def get_next_value(sequence: np.ndarray) -> int:\n",
    "    diff = sequence[1:] - sequence[:-1]\n",
    "    if np.all(diff == 0):\n",
    "        return sequence[-1]\n",
    "    else:\n",
    "        last = get_next_value(diff)\n",
    "        return sequence[-1] + last\n",
    "    \n",
    "\n",
    "for test_sequence in [\n",
    "    [1, 3, 6, 10, 15, 21],\n",
    "    [0, 3,6, 9, 12, 15],\n",
    "]:\n",
    "    print(\"sequence:\", test_sequence)\n",
    "    print(\"next value:\", get_next_value(np.array(test_sequence)))"
   ]
  },
  {
   "cell_type": "code",
   "execution_count": 7,
   "metadata": {},
   "outputs": [
    {
     "data": {
      "text/plain": [
       "array([[ 0,  3,  6,  9, 12, 15],\n",
       "       [ 1,  3,  6, 10, 15, 21],\n",
       "       [10, 13, 16, 21, 30, 45]])"
      ]
     },
     "execution_count": 7,
     "metadata": {},
     "output_type": "execute_result"
    }
   ],
   "source": [
    "test_data_raw = (\n",
    "\"\"\"0 3 6 9 12 15\n",
    "1 3 6 10 15 21\n",
    "10 13 16 21 30 45\n",
    "\"\"\")\n",
    "\n",
    "\n",
    "def parse_data(data_raw: str) -> np.ndarray:\n",
    "    return np.array([\n",
    "        [int(x) for x in line.split()]\n",
    "        for line in data_raw.splitlines()\n",
    "        if line.strip()\n",
    "    ])\n",
    "\n",
    "test_data = parse_data(test_data_raw)\n",
    "test_data"
   ]
  },
  {
   "cell_type": "code",
   "execution_count": 8,
   "metadata": {},
   "outputs": [
    {
     "data": {
      "text/plain": [
       "114"
      ]
     },
     "execution_count": 8,
     "metadata": {},
     "output_type": "execute_result"
    }
   ],
   "source": [
    "def part1(data: np.ndarray) -> int:\n",
    "    return sum([\n",
    "        get_next_value(sequence)\n",
    "        for sequence in data\n",
    "    ])\n",
    "\n",
    "\n",
    "part1(test_data)"
   ]
  },
  {
   "cell_type": "code",
   "execution_count": 10,
   "metadata": {},
   "outputs": [
    {
     "data": {
      "text/plain": [
       "array([[ 13,  23,  46,  97, 206],\n",
       "       [ -7,   6,  44, 130, 309],\n",
       "       [ -4,  10,  38,  80, 136],\n",
       "       [  6,  22,  45,  75, 118],\n",
       "       [  6,   9,   3, -13, -36]])"
      ]
     },
     "execution_count": 10,
     "metadata": {},
     "output_type": "execute_result"
    }
   ],
   "source": [
    "with open(\"input.txt\") as f:\n",
    "    data = parse_data(f.read())\n",
    "\n",
    "data[:5, :5]"
   ]
  },
  {
   "cell_type": "code",
   "execution_count": 11,
   "metadata": {},
   "outputs": [
    {
     "data": {
      "text/plain": [
       "2175229206"
      ]
     },
     "execution_count": 11,
     "metadata": {},
     "output_type": "execute_result"
    }
   ],
   "source": [
    "part1(data)"
   ]
  },
  {
   "cell_type": "markdown",
   "metadata": {},
   "source": [
    "## Part 2\n",
    "\n",
    "Of course, it would be nice to have even more history included in your report. Surely it's safe to just extrapolate backwards as well, right?\n",
    "\n",
    "For each history, repeat the process of finding differences until the sequence of differences is entirely zero. Then, rather than adding a zero to the end and filling in the next values of each previous sequence, you should instead add a zero to the beginning of your sequence of zeroes, then fill in new first values for each previous sequence.\n",
    "\n",
    "In particular, here is what the third example history looks like when extrapolating back in time:\n",
    "\n",
    "```\n",
    "5  10  13  16  21  30  45\n",
    "  5   3   3   5   9  15\n",
    "   -2   0   2   4   6\n",
    "      2   2   2   2\n",
    "        0   0   0\n",
    "```\n",
    "\n",
    "Adding the new values on the left side of each sequence from bottom to top eventually reveals the new left-most history value: `5`.\n",
    "\n",
    "Doing this for the remaining example data above results in previous values of `-3` for the first history and `0` for the second history. Adding all three new values together produces `2`.\n",
    "\n",
    "Analyze your OASIS report again, this time extrapolating the previous value for each history. What is the sum of these extrapolated values?"
   ]
  },
  {
   "cell_type": "code",
   "execution_count": 12,
   "metadata": {},
   "outputs": [
    {
     "data": {
      "text/plain": [
       "5"
      ]
     },
     "execution_count": 12,
     "metadata": {},
     "output_type": "execute_result"
    }
   ],
   "source": [
    "def get_first_value(sequence: np.ndarray) -> int:\n",
    "    diff = sequence[1:] - sequence[:-1]\n",
    "    if np.all(diff == 0):\n",
    "        return sequence[-1]\n",
    "    else:\n",
    "        first = get_first_value(diff)\n",
    "        return sequence[0] - first\n",
    "    \n",
    "\n",
    "test_sequence = np.array([10, 13, 16, 21, 30, 45])\n",
    "get_first_value(test_sequence)"
   ]
  },
  {
   "cell_type": "code",
   "execution_count": 13,
   "metadata": {},
   "outputs": [
    {
     "data": {
      "text/plain": [
       "2"
      ]
     },
     "execution_count": 13,
     "metadata": {},
     "output_type": "execute_result"
    }
   ],
   "source": [
    "def part2(data):\n",
    "    return sum([\n",
    "        get_first_value(sequence)\n",
    "        for sequence in data\n",
    "    ])\n",
    "\n",
    "\n",
    "part2(test_data)"
   ]
  },
  {
   "cell_type": "code",
   "execution_count": 14,
   "metadata": {},
   "outputs": [
    {
     "data": {
      "text/plain": [
       "942"
      ]
     },
     "execution_count": 14,
     "metadata": {},
     "output_type": "execute_result"
    }
   ],
   "source": [
    "part2(data)"
   ]
  }
 ],
 "metadata": {
  "kernelspec": {
   "display_name": "aoc",
   "language": "python",
   "name": "python3"
  },
  "language_info": {
   "codemirror_mode": {
    "name": "ipython",
    "version": 3
   },
   "file_extension": ".py",
   "mimetype": "text/x-python",
   "name": "python",
   "nbconvert_exporter": "python",
   "pygments_lexer": "ipython3",
   "version": "3.11.1"
  }
 },
 "nbformat": 4,
 "nbformat_minor": 2
}
