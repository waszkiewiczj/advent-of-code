{
 "cells": [
  {
   "cell_type": "markdown",
   "metadata": {},
   "source": [
    "# Day 18: Lavaduct Lagoon"
   ]
  },
  {
   "cell_type": "code",
   "execution_count": 1,
   "metadata": {},
   "outputs": [
    {
     "data": {
      "text/plain": [
       "[('R', 6),\n",
       " ('D', 5),\n",
       " ('L', 2),\n",
       " ('D', 2),\n",
       " ('R', 2),\n",
       " ('D', 2),\n",
       " ('L', 5),\n",
       " ('U', 2),\n",
       " ('L', 1),\n",
       " ('U', 2),\n",
       " ('R', 2),\n",
       " ('U', 3),\n",
       " ('L', 2),\n",
       " ('U', 2)]"
      ]
     },
     "execution_count": 1,
     "metadata": {},
     "output_type": "execute_result"
    }
   ],
   "source": [
    "test_data_raw = \"\"\"R 6 (#70c710)\n",
    "D 5 (#0dc571)\n",
    "L 2 (#5713f0)\n",
    "D 2 (#d2c081)\n",
    "R 2 (#59c680)\n",
    "D 2 (#411b91)\n",
    "L 5 (#8ceee2)\n",
    "U 2 (#caa173)\n",
    "L 1 (#1b58a2)\n",
    "U 2 (#caa171)\n",
    "R 2 (#7807d2)\n",
    "U 3 (#a77fa3)\n",
    "L 2 (#015232)\n",
    "U 2 (#7a21e3)\"\"\"\n",
    "\n",
    "\n",
    "def parse_data(data_raw):\n",
    "    data = []\n",
    "    for line in data_raw.splitlines():\n",
    "        splitted = line.split(\" \")\n",
    "        direction = splitted[0]\n",
    "        distance = int(splitted[1])\n",
    "        data.append((direction, distance))\n",
    "    return data\n",
    "\n",
    "\n",
    "test_data = parse_data(test_data_raw)\n",
    "test_data"
   ]
  },
  {
   "cell_type": "code",
   "execution_count": 18,
   "metadata": {},
   "outputs": [
    {
     "name": "stdout",
     "output_type": "stream",
     "text": [
      "OLD SHAPE (14, 1)\n",
      "NEW SHAPE (14, 3)\n",
      "(2, 0)\n",
      "\n",
      "OLD SHAPE (14, 2)\n",
      "NEW SHAPE (14, 5)\n",
      "(2, 5)\n",
      "\n",
      "OLD SHAPE (2, 14)\n",
      "NEW SHAPE (7, 14)\n",
      "(5, 0)\n",
      "\n"
     ]
    }
   ],
   "source": [
    "import numpy as np\n",
    "\n",
    "\n",
    "def print_dig(terrain):\n",
    "    for row in terrain:\n",
    "        print(\"\".join([\"#\" if x else \".\" for x in row]))\n",
    "\n",
    "\n",
    "def expand_terrain(terrain, position, direction, distance):\n",
    "    axis = 0 if direction in \"UD\" else 1\n",
    "    sign = 1 if direction in \"RD\" else -1\n",
    "    new_position_along_axis = position[axis] + sign * distance\n",
    "    new_size_along_axis = max(terrain.shape[axis], new_position_along_axis + 1) - min(0, new_position_along_axis)\n",
    "\n",
    "    if new_size_along_axis > terrain.shape[axis]:\n",
    "        base_ext_shape = new_size_along_axis - terrain.shape[axis], terrain.shape[1 - axis]\n",
    "        ext_shape = base_ext_shape[axis], base_ext_shape[1 - axis]\n",
    "        ext = np.zeros(ext_shape, dtype=bool)\n",
    "        concat = (terrain, ext) if direction in \"RD\" else (ext, terrain)\n",
    "        terrain = np.concatenate(concat, axis=axis)\n",
    "\n",
    "        if sign == -1:\n",
    "            new_position = list(position)\n",
    "            new_position[axis] += ext_shape[axis]\n",
    "            position = tuple(new_position)\n",
    "\n",
    "\n",
    "    return terrain, position\n",
    "\n",
    "\n",
    "\n",
    "for terrain, position, direction, distance in [\n",
    "    (np.zeros((14, 1), dtype=bool), (2, 0), \"R\", 2),\n",
    "    (np.zeros((14, 2), dtype=bool), (2, 2), \"L\", 5),\n",
    "    (np.zeros((2, 14), dtype=bool), (0, 0), \"U\", 5),\n",
    "]:\n",
    "    new_terrain, new_position = expand_terrain(terrain, position, direction, distance)\n",
    "    print(\"OLD SHAPE\", terrain.shape)\n",
    "    print(\"NEW SHAPE\", new_terrain.shape)\n",
    "    print(new_position)\n",
    "    print()"
   ]
  },
  {
   "cell_type": "code",
   "execution_count": 19,
   "metadata": {},
   "outputs": [
    {
     "name": "stdout",
     "output_type": "stream",
     "text": [
      "###\n",
      "...\n",
      "...\n",
      "...\n",
      "(0, 2)\n",
      "\n",
      "###\n",
      "...\n",
      "...\n",
      "...\n",
      "(0, 0)\n",
      "\n",
      "#....\n",
      "#....\n",
      "#....\n",
      "#....\n",
      "#....\n",
      "(4, 0)\n",
      "\n",
      "#....\n",
      "#....\n",
      "#....\n",
      "#....\n",
      ".....\n",
      "(0, 0)\n",
      "\n"
     ]
    }
   ],
   "source": [
    "import numpy as np\n",
    "\n",
    "\n",
    "def dig(terrain, position, direction, distance):\n",
    "    DIRECTION_DICT = {\"R\": (0, 1), \"L\": (0, -1), \"U\": (-1, 0), \"D\": (1, 0)}\n",
    "    \n",
    "    terrain, position = expand_terrain(terrain, position, direction, distance)\n",
    "\n",
    "    d = DIRECTION_DICT[direction]\n",
    "    new_position = position[0] + distance * d[0], position[1] + distance * d[1]\n",
    "    start_x = min(position[0], new_position[0])\n",
    "    end_x = max(position[0], new_position[0])\n",
    "    start_y = min(position[1], new_position[1])\n",
    "    end_y = max(position[1], new_position[1])\n",
    "    terrain[start_x:end_x + 1, start_y:end_y + 1] = True\n",
    "\n",
    "    return terrain, new_position\n",
    "\n",
    "\n",
    "def print_dig(terrain):\n",
    "    for row in terrain:\n",
    "        print(\"\".join([\"#\" if x else \".\" for x in row]))\n",
    "\n",
    "\n",
    "for terrain, position, direction, distance in [\n",
    "    (np.zeros((4, 1), dtype=bool), (0, 0), \"R\", 2),\n",
    "    (np.zeros((4, 1), dtype=bool), (0, 0), \"L\", 2),\n",
    "    (np.zeros((2, 5), dtype=bool), (0, 0), \"D\", 4),\n",
    "    (np.zeros((2, 5), dtype=bool), (0, 0), \"U\", 3),\n",
    "]:\n",
    "    new_terrain, new_position = dig(terrain, position, direction, distance)\n",
    "    print_dig(new_terrain)\n",
    "    print(new_position)\n",
    "    print()"
   ]
  },
  {
   "cell_type": "code",
   "execution_count": 28,
   "metadata": {},
   "outputs": [
    {
     "name": "stdout",
     "output_type": "stream",
     "text": [
      "#######\n",
      "#.....#\n",
      "###...#\n",
      "..#...#\n",
      "..#...#\n",
      "###.###\n",
      "#...#..\n",
      "##..###\n",
      ".#....#\n",
      ".######\n"
     ]
    }
   ],
   "source": [
    "def dig_all(dig_data):\n",
    "    position = (0, 0)\n",
    "    terrain = np.zeros((1, 1), dtype=bool)\n",
    "    for d in dig_data:\n",
    "        direction, distance = d\n",
    "        terrain, position = dig(terrain, position, direction, distance)\n",
    "    return terrain, position\n",
    "\n",
    "\n",
    "print_dig(dig_all(test_data)[0])"
   ]
  },
  {
   "cell_type": "code",
   "execution_count": 43,
   "metadata": {},
   "outputs": [
    {
     "name": "stdout",
     "output_type": "stream",
     "text": [
      "#######\n",
      "#######\n",
      "#######\n",
      "..#####\n",
      "..#####\n",
      "#######\n",
      "#####..\n",
      "#######\n",
      ".######\n",
      ".######\n"
     ]
    }
   ],
   "source": [
    "def fill_dig(terrain, x=0, y=0):\n",
    "    def visit(x, y, unvisited):\n",
    "        if terrain[x, y]:\n",
    "            return\n",
    "        terrain[x, y] = True\n",
    "        for x_dir, y_dir in [(1, 0), (-1, 0), (0, 1), (0, -1)]:\n",
    "            xx, yy = x + x_dir, y + y_dir\n",
    "            if 0 <= xx < terrain.shape[0] and 0 <= yy < terrain.shape[1]:\n",
    "                unvisited.append((xx, yy))\n",
    "\n",
    "    terrain = terrain.copy()\n",
    "    unvisited = [(x + 1, y + 1)]\n",
    "    while len(unvisited) > 0:\n",
    "        x, y = unvisited.pop()\n",
    "        visit(x, y, unvisited)\n",
    "\n",
    "    return terrain\n",
    "\n",
    "\n",
    "print_dig(fill_dig(dig_all(test_data)[0]))"
   ]
  },
  {
   "cell_type": "code",
   "execution_count": 44,
   "metadata": {},
   "outputs": [
    {
     "data": {
      "text/plain": [
       "62"
      ]
     },
     "execution_count": 44,
     "metadata": {},
     "output_type": "execute_result"
    }
   ],
   "source": [
    "def part1(data):\n",
    "    terrain, position = dig_all(data)\n",
    "    terrain = fill_dig(terrain, *position)\n",
    "    return int(np.sum(terrain))\n",
    "\n",
    "\n",
    "part1(test_data)"
   ]
  },
  {
   "cell_type": "code",
   "execution_count": 25,
   "metadata": {},
   "outputs": [
    {
     "data": {
      "text/plain": [
       "[('R', 2), ('U', 6), ('R', 4), ('U', 2), ('R', 6)]"
      ]
     },
     "execution_count": 25,
     "metadata": {},
     "output_type": "execute_result"
    }
   ],
   "source": [
    "with open(\"input.txt\") as f:\n",
    "    data = parse_data(f.read())\n",
    "\n",
    "data[:5]"
   ]
  },
  {
   "cell_type": "code",
   "execution_count": 45,
   "metadata": {},
   "outputs": [
    {
     "data": {
      "text/plain": [
       "42317"
      ]
     },
     "execution_count": 45,
     "metadata": {},
     "output_type": "execute_result"
    }
   ],
   "source": [
    "part1(data)"
   ]
  }
 ],
 "metadata": {
  "kernelspec": {
   "display_name": "aoc",
   "language": "python",
   "name": "python3"
  },
  "language_info": {
   "codemirror_mode": {
    "name": "ipython",
    "version": 3
   },
   "file_extension": ".py",
   "mimetype": "text/x-python",
   "name": "python",
   "nbconvert_exporter": "python",
   "pygments_lexer": "ipython3",
   "version": "3.11.1"
  }
 },
 "nbformat": 4,
 "nbformat_minor": 2
}
