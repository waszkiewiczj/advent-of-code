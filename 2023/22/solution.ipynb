{
 "cells": [
  {
   "cell_type": "code",
   "execution_count": 1,
   "metadata": {},
   "outputs": [
    {
     "data": {
      "text/plain": [
       "[[(1, 0, 1), (1, 2, 1)],\n",
       " [(0, 0, 2), (2, 0, 2)],\n",
       " [(0, 2, 3), (2, 2, 3)],\n",
       " [(0, 0, 4), (0, 2, 4)],\n",
       " [(2, 0, 5), (2, 2, 5)],\n",
       " [(0, 1, 6), (2, 1, 6)],\n",
       " [(1, 1, 8), (1, 1, 9)]]"
      ]
     },
     "execution_count": 1,
     "metadata": {},
     "output_type": "execute_result"
    }
   ],
   "source": [
    "test_data_raw = \"\"\"1,0,1~1,2,1\n",
    "0,0,2~2,0,2\n",
    "0,2,3~2,2,3\n",
    "0,0,4~0,2,4\n",
    "2,0,5~2,2,5\n",
    "0,1,6~2,1,6\n",
    "1,1,8~1,1,9\"\"\"\n",
    "\n",
    "\n",
    "def parse_data(data_raw):\n",
    "    return [\n",
    "        [tuple(map(int, coord.split(\",\"))) for coord in line.split(\"~\")]\n",
    "        for line in data_raw.splitlines()\n",
    "    ]\n",
    "\n",
    "\n",
    "test_data = parse_data(test_data_raw)\n",
    "test_data"
   ]
  },
  {
   "cell_type": "code",
   "execution_count": 3,
   "metadata": {},
   "outputs": [
    {
     "data": {
      "text/plain": [
       "(3, 3, 10)"
      ]
     },
     "execution_count": 3,
     "metadata": {},
     "output_type": "execute_result"
    }
   ],
   "source": [
    "def get_space_shape(bricks):\n",
    "    shape = [0, 0, 0]\n",
    "    for start, end in bricks:\n",
    "        for axis in [0, 1, 2]:\n",
    "            shape[axis] = max(shape[axis], start[axis] + 1, end[axis] + 1)\n",
    "    return tuple(shape)\n",
    "\n",
    "\n",
    "get_space_shape(test_data)"
   ]
  },
  {
   "cell_type": "code",
   "execution_count": 91,
   "metadata": {},
   "outputs": [
    {
     "data": {
      "text/plain": [
       "5"
      ]
     },
     "execution_count": 91,
     "metadata": {},
     "output_type": "execute_result"
    }
   ],
   "source": [
    "import numpy as np\n",
    "\n",
    "\n",
    "def get_brick_coords(start, end):\n",
    "    for axis in range(3):\n",
    "        for value in range(start[axis], end[axis] + 1):\n",
    "            new_coord = list(start)\n",
    "            new_coord[axis] = value\n",
    "            yield tuple(new_coord)\n",
    "\n",
    "\n",
    "def id2letter(id):\n",
    "    return chr(ord(\"A\") + id)\n",
    "\n",
    "\n",
    "def fall_bricks(bricks, space):\n",
    "    new_bricks = []\n",
    "    for brick_id, brick in enumerate(bricks):\n",
    "        new_brick = (list(brick[0]), list(brick[1]))\n",
    "        while min(new_brick[0][2], new_brick[1][2]) >= 0 and all(map(lambda coord: space[coord] < 0, get_brick_coords(*new_brick))):\n",
    "            new_brick[0][2] -= 1\n",
    "            new_brick[1][2] -= 1\n",
    "        new_brick[0][2] += 1\n",
    "        new_brick[1][2] += 1\n",
    "        for coords in get_brick_coords(*new_brick):\n",
    "            space[coords] = brick_id\n",
    "        new_brick = (tuple(new_brick[0]), tuple(new_brick[1]))\n",
    "        new_bricks.append(new_brick)\n",
    "    return new_bricks\n",
    "\n",
    "\n",
    "def get_supports(bricks, space):\n",
    "    supports = []\n",
    "    for brick_id, brick in enumerate(bricks):\n",
    "        current_supports = set()\n",
    "        for x, y, z in get_brick_coords(*brick):\n",
    "            zz = z + 1\n",
    "            if zz < space.shape[2] and space[x, y, zz] > 0 and space[x, y, zz] != brick_id:\n",
    "                current_supports.add(space[x, y, zz])\n",
    "        supports.append(current_supports)\n",
    "    return supports\n",
    "\n",
    "\n",
    "def part1(data):\n",
    "    shape = get_space_shape(data)\n",
    "    space = np.full(shape, -1)\n",
    "\n",
    "    new_data = fall_bricks(data, space)\n",
    "    supports = get_supports(new_data, space)\n",
    "\n",
    "    # print(*[\n",
    "    #     f\"{id2letter(brick_id + 1)}: {set(map(id2letter, current_support))}\"\n",
    "    #     for brick_id, current_support in enumerate(supports)\n",
    "    # ], sep=\"\\n\")\n",
    "\n",
    "    result = 0\n",
    "    for brick_id, support in enumerate(supports):\n",
    "        other_supports = set.union(*(supports[:brick_id] + supports[brick_id + 1:]))\n",
    "        # print(support, other_supports, support - other_supports)\n",
    "        if len(support - other_supports) == 0:\n",
    "            result += 1\n",
    "\n",
    "    return result\n",
    "\n",
    "\n",
    "part1(test_data)"
   ]
  },
  {
   "cell_type": "code",
   "execution_count": 92,
   "metadata": {},
   "outputs": [
    {
     "data": {
      "text/plain": [
       "[[(6, 9, 184), (8, 9, 184)],\n",
       " [(7, 0, 46), (9, 0, 46)],\n",
       " [(4, 2, 78), (4, 5, 78)],\n",
       " [(0, 4, 182), (0, 6, 182)],\n",
       " [(7, 4, 249), (7, 6, 249)]]"
      ]
     },
     "execution_count": 92,
     "metadata": {},
     "output_type": "execute_result"
    }
   ],
   "source": [
    "with open(\"input.txt\") as f:\n",
    "    data = parse_data(f.read())\n",
    "\n",
    "data[:5]"
   ]
  },
  {
   "cell_type": "code",
   "execution_count": 93,
   "metadata": {},
   "outputs": [
    {
     "data": {
      "text/plain": [
       "522"
      ]
     },
     "execution_count": 93,
     "metadata": {},
     "output_type": "execute_result"
    }
   ],
   "source": [
    "part1(data)"
   ]
  }
 ],
 "metadata": {
  "kernelspec": {
   "display_name": "aoc",
   "language": "python",
   "name": "python3"
  },
  "language_info": {
   "codemirror_mode": {
    "name": "ipython",
    "version": 3
   },
   "file_extension": ".py",
   "mimetype": "text/x-python",
   "name": "python",
   "nbconvert_exporter": "python",
   "pygments_lexer": "ipython3",
   "version": "3.11.1"
  }
 },
 "nbformat": 4,
 "nbformat_minor": 2
}
