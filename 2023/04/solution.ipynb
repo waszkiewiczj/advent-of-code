{
 "cells": [
  {
   "cell_type": "markdown",
   "metadata": {},
   "source": [
    "# Day 4: Scratchcards"
   ]
  },
  {
   "cell_type": "markdown",
   "metadata": {},
   "source": [
    "## Part 1\n",
    "\n",
    "The gondola takes you up. Strangely, though, the ground doesn't seem to be coming with you; you're not climbing a mountain. As the circle of Snow Island recedes below you, an entire new landmass suddenly appears above you! The gondola carries you to the surface of the new island and lurches into the station.\n",
    "\n",
    "As you exit the gondola, the first thing you notice is that the air here is much warmer than it was on Snow Island. It's also quite humid. Is this where the water source is?\n",
    "\n",
    "The next thing you notice is an Elf sitting on the floor across the station in what seems to be a pile of colorful square cards.\n",
    "\n",
    "\"Oh! Hello!\" The Elf excitedly runs over to you. \"How may I be of service?\" You ask about water sources.\n",
    "\n",
    "\"I'm not sure; I just operate the gondola lift. That does sound like something we'd have, though - this is Island Island, after all! I bet the gardener would know. He's on a different island, though - er, the small kind surrounded by water, not the floating kind. We really need to come up with a better naming scheme. Tell you what: if you can help me with something quick, I'll let you borrow my boat and you can go visit the gardener. I got all these scratchcards as a gift, but I can't figure out what I've won.\"\n",
    "\n",
    "The Elf leads you over to the pile of colorful cards. There, you discover dozens of scratchcards, all with their opaque covering already scratched off. Picking one up, it looks like each card has two lists of numbers separated by a vertical bar (|): a list of winning numbers and then a list of numbers you have. You organize the information into a table (your puzzle input).\n",
    "\n",
    "As far as the Elf has been able to figure out, you have to figure out which of the numbers you have appear in the list of winning numbers. The first match makes the card worth one point and each match after the first doubles the point value of that card.\n",
    "\n",
    "For example:\n",
    "\n",
    "```\n",
    "Card 1: 41 48 83 86 17 | 83 86  6 31 17  9 48 53\n",
    "Card 2: 13 32 20 16 61 | 61 30 68 82 17 32 24 19\n",
    "Card 3:  1 21 53 59 44 | 69 82 63 72 16 21 14  1\n",
    "Card 4: 41 92 73 84 69 | 59 84 76 51 58  5 54 83\n",
    "Card 5: 87 83 26 28 32 | 88 30 70 12 93 22 82 36\n",
    "Card 6: 31 18 13 56 72 | 74 77 10 23 35 67 36 11\n",
    "```\n",
    "In the above example, card 1 has five winning numbers (`41`, `48`, `83`, `86`, and `17`) and eight numbers you have (`83`, `86`, `6`, `31`, `17`, `9`, `48`, and `53`). Of the numbers you have, four of them (`48`, `83`, `17`, and `86`) are winning numbers! That means card 1 is worth `8` points (1 for the first match, then doubled three times for each of the three matches after the first).\n",
    "\n",
    "Card 2 has two winning numbers (`32` and `61`), so it is worth `2` points.\n",
    "Card 3 has two winning numbers (`1` and `21`), so it is worth `2` points.\n",
    "Card 4 has one winning number (`84`), so it is worth `1` point.\n",
    "Card 5 has no winning numbers, so it is worth no points.\n",
    "Card 6 has no winning numbers, so it is worth no points.\n",
    "So, in this example, the Elf's pile of scratchcards is worth `13` points.\n",
    "\n",
    "Take a seat in the large pile of colorful cards. How many points are they worth in total?"
   ]
  },
  {
   "cell_type": "code",
   "execution_count": 2,
   "metadata": {},
   "outputs": [
    {
     "data": {
      "text/plain": [
       "{1: {'winning': {17, 41, 48, 83, 86}, 'my': {6, 9, 17, 31, 48, 53, 83, 86}},\n",
       " 2: {'winning': {13, 16, 20, 32, 61}, 'my': {17, 19, 24, 30, 32, 61, 68, 82}},\n",
       " 3: {'winning': {1, 21, 44, 53, 59}, 'my': {1, 14, 16, 21, 63, 69, 72, 82}},\n",
       " 4: {'winning': {41, 69, 73, 84, 92}, 'my': {5, 51, 54, 58, 59, 76, 83, 84}},\n",
       " 5: {'winning': {26, 28, 32, 83, 87}, 'my': {12, 22, 30, 36, 70, 82, 88, 93}},\n",
       " 6: {'winning': {13, 18, 31, 56, 72}, 'my': {10, 11, 23, 35, 36, 67, 74, 77}}}"
      ]
     },
     "execution_count": 2,
     "metadata": {},
     "output_type": "execute_result"
    }
   ],
   "source": [
    "test_data_raw = [\n",
    "    \"Card 1: 41 48 83 86 17 | 83 86  6 31 17  9 48 53\",\n",
    "    \"Card 2: 13 32 20 16 61 | 61 30 68 82 17 32 24 19\",\n",
    "    \"Card 3:  1 21 53 59 44 | 69 82 63 72 16 21 14  1\",\n",
    "    \"Card 4: 41 92 73 84 69 | 59 84 76 51 58  5 54 83\",\n",
    "    \"Card 5: 87 83 26 28 32 | 88 30 70 12 93 22 82 36\",\n",
    "    \"Card 6: 31 18 13 56 72 | 74 77 10 23 35 67 36 11\",\n",
    "]\n",
    "\n",
    "def parse_data(data):\n",
    "    def parse_line(line):\n",
    "        card, numbers_raw = line.rstrip().split(\":\")\n",
    "        card_id = int(card.split()[1])\n",
    "        winning_numbers_raw, my_numbers_raw = numbers_raw.strip().split(\"|\")\n",
    "        winning_numbers = {int(n) for n in winning_numbers_raw.strip().split()}\n",
    "        my_numbers = {int(n) for n in my_numbers_raw.strip().split()}\n",
    "        return card_id, winning_numbers, my_numbers\n",
    "    return {\n",
    "        card_id: dict(winning=winning_numbers, my=my_numbers)\n",
    "        for card_id, winning_numbers, my_numbers in map(parse_line, data)\n",
    "    }\n",
    "    \n",
    "test_data = parse_data(test_data_raw)\n",
    "test_data"
   ]
  },
  {
   "cell_type": "code",
   "execution_count": 3,
   "metadata": {},
   "outputs": [
    {
     "data": {
      "text/plain": [
       "13"
      ]
     },
     "execution_count": 3,
     "metadata": {},
     "output_type": "execute_result"
    }
   ],
   "source": [
    "def part1(data):\n",
    "    def score(winning_numbers, my_numbers):\n",
    "        count = len(winning_numbers & my_numbers)\n",
    "        return 2**(count - 1) if count > 0 else 0\n",
    "    return sum([\n",
    "        score(numbers['winning'], numbers['my'])\n",
    "        for numbers in data.values()\n",
    "    ])\n",
    "\n",
    "part1(test_data)"
   ]
  },
  {
   "cell_type": "code",
   "execution_count": 5,
   "metadata": {},
   "outputs": [
    {
     "data": {
      "text/plain": [
       "{'winning': {3, 11, 15, 22, 34, 37, 44, 50, 60, 90},\n",
       " 'my': {3,\n",
       "  6,\n",
       "  11,\n",
       "  13,\n",
       "  15,\n",
       "  21,\n",
       "  22,\n",
       "  31,\n",
       "  34,\n",
       "  35,\n",
       "  37,\n",
       "  38,\n",
       "  44,\n",
       "  45,\n",
       "  50,\n",
       "  52,\n",
       "  53,\n",
       "  55,\n",
       "  60,\n",
       "  67,\n",
       "  68,\n",
       "  72,\n",
       "  76,\n",
       "  84,\n",
       "  90}}"
      ]
     },
     "execution_count": 5,
     "metadata": {},
     "output_type": "execute_result"
    }
   ],
   "source": [
    "with open(\"input.txt\") as f:\n",
    "    data = parse_data(f.readlines())\n",
    "\n",
    "data[1]"
   ]
  },
  {
   "cell_type": "code",
   "execution_count": 6,
   "metadata": {},
   "outputs": [
    {
     "data": {
      "text/plain": [
       "21105"
      ]
     },
     "execution_count": 6,
     "metadata": {},
     "output_type": "execute_result"
    }
   ],
   "source": [
    "part1(data)"
   ]
  },
  {
   "cell_type": "markdown",
   "metadata": {},
   "source": [
    "## Part 2\n",
    "\n",
    "Just as you're about to report your findings to the Elf, one of you realizes that the rules have actually been printed on the back of every card this whole time.\n",
    "\n",
    "There's no such thing as \"points\". Instead, scratchcards only cause you to win more scratchcards equal to the number of winning numbers you have.\n",
    "\n",
    "Specifically, you win copies of the scratchcards below the winning card equal to the number of matches. So, if card 10 were to have 5 matching numbers, you would win one copy each of cards 11, 12, 13, 14, and 15.\n",
    "\n",
    "Copies of scratchcards are scored like normal scratchcards and have the same card number as the card they copied. So, if you win a copy of card 10 and it has 5 matching numbers, it would then win a copy of the same cards that the original card 10 won: cards 11, 12, 13, 14, and 15. This process repeats until none of the copies cause you to win any more cards. (Cards will never make you copy a card past the end of the table.)\n",
    "\n",
    "This time, the above example goes differently:\n",
    "\n",
    "```\n",
    "Card 1: 41 48 83 86 17 | 83 86  6 31 17  9 48 53\n",
    "Card 2: 13 32 20 16 61 | 61 30 68 82 17 32 24 19\n",
    "Card 3:  1 21 53 59 44 | 69 82 63 72 16 21 14  1\n",
    "Card 4: 41 92 73 84 69 | 59 84 76 51 58  5 54 83\n",
    "Card 5: 87 83 26 28 32 | 88 30 70 12 93 22 82 36\n",
    "Card 6: 31 18 13 56 72 | 74 77 10 23 35 67 36 11\n",
    "```\n",
    "- Card 1 has four matching numbers, so you win one copy each of the next four cards: cards 2, 3, 4, and 5.\n",
    "- Your original card 2 has two matching numbers, so you win one copy each of cards 3 and 4.\n",
    "- Your copy of card 2 also wins one copy each of cards 3 and 4.\n",
    "- Your four instances of card 3 (one original and three copies) have two matching numbers, so you win four copies each of cards 4 and 5.\n",
    "- Your eight instances of card 4 (one original and seven copies) have one matching number, so you win eight copies of card 5.\n",
    "- Your fourteen instances of card 5 (one original and thirteen copies) have no matching numbers and win no more cards.\n",
    "- Your one instance of card 6 (one original) has no matching numbers and wins no more cards.\n",
    "Once all of the originals and copies have been processed, you end up with `1` instance of card 1, `2` instances of card 2, `4` instances of card 3, `8` instances of card 4, `14` instances of card 5, and `1` instance of card 6. In total, this example pile of scratchcards causes you to ultimately have `30` scratchcards!\n",
    "\n",
    "Process all of the original and copied scratchcards until no more scratchcards are won. Including the original set of scratchcards, how many total scratchcards do you end up with?"
   ]
  },
  {
   "cell_type": "code",
   "execution_count": 10,
   "metadata": {},
   "outputs": [
    {
     "data": {
      "text/plain": [
       "30"
      ]
     },
     "execution_count": 10,
     "metadata": {},
     "output_type": "execute_result"
    }
   ],
   "source": [
    "def part2(data):\n",
    "    counts = {card_id: 1 for card_id in data.keys()}\n",
    "    result = 0\n",
    "    for card_id in data.keys():\n",
    "        score = len(data[card_id][\"winning\"] & data[card_id][\"my\"])\n",
    "        for new_card_id in range(card_id + 1, card_id + 1 + score):\n",
    "            counts[new_card_id] += counts[card_id]\n",
    "        result += counts.pop(card_id)\n",
    "    return result\n",
    "\n",
    "part2(test_data)"
   ]
  },
  {
   "cell_type": "code",
   "execution_count": 11,
   "metadata": {},
   "outputs": [
    {
     "data": {
      "text/plain": [
       "5329815"
      ]
     },
     "execution_count": 11,
     "metadata": {},
     "output_type": "execute_result"
    }
   ],
   "source": [
    "part2(data)"
   ]
  }
 ],
 "metadata": {
  "kernelspec": {
   "display_name": "aoc",
   "language": "python",
   "name": "python3"
  },
  "language_info": {
   "codemirror_mode": {
    "name": "ipython",
    "version": 3
   },
   "file_extension": ".py",
   "mimetype": "text/x-python",
   "name": "python",
   "nbconvert_exporter": "python",
   "pygments_lexer": "ipython3",
   "version": "3.11.1"
  }
 },
 "nbformat": 4,
 "nbformat_minor": 2
}
