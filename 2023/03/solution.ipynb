{
 "cells": [
  {
   "cell_type": "markdown",
   "metadata": {},
   "source": [
    "# Day 3: Gear Ratios"
   ]
  },
  {
   "cell_type": "markdown",
   "metadata": {},
   "source": [
    "## Part 1\n",
    "\n",
    "You and the Elf eventually reach a gondola lift station; he says the gondola lift will take you up to the water source, but this is as far as he can bring you. You go inside.\n",
    "\n",
    "It doesn't take long to find the gondolas, but there seems to be a problem: they're not moving.\n",
    "\n",
    "\"Aaah!\"\n",
    "\n",
    "You turn around to see a slightly-greasy Elf with a wrench and a look of surprise. \"Sorry, I wasn't expecting anyone! The gondola lift isn't working right now; it'll still be a while before I can fix it.\" You offer to help.\n",
    "\n",
    "The engineer explains that an engine part seems to be missing from the engine, but nobody can figure out which one. If you can add up all the part numbers in the engine schematic, it should be easy to work out which part is missing.\n",
    "\n",
    "The engine schematic (your puzzle input) consists of a visual representation of the engine. There are lots of numbers and symbols you don't really understand, but apparently any number adjacent to a symbol, even diagonally, is a \"part number\" and should be included in your sum. (Periods (`.`) do not count as a symbol.)\n",
    "\n",
    "Here is an example engine schematic:\n",
    "\n",
    "```\n",
    "467..114..\n",
    "...*......\n",
    "..35..633.\n",
    "......#...\n",
    "617*......\n",
    ".....+.58.\n",
    "..592.....\n",
    "......755.\n",
    "...$.*....\n",
    ".664.598..\n",
    "```\n",
    "In this schematic, two numbers are not part numbers because they are not adjacent to a symbol: `114` (top right) and `58` (middle right). Every other number is adjacent to a symbol and so is a part number; their sum is `4361`.\n",
    "\n",
    "Of course, the actual engine schematic is much larger. What is the sum of all of the part numbers in the engine schematic?"
   ]
  },
  {
   "cell_type": "code",
   "execution_count": 3,
   "metadata": {},
   "outputs": [
    {
     "data": {
      "text/plain": [
       "array([['4', '6', '7', '.', '.', '1', '1', '4', '.', '.'],\n",
       "       ['.', '.', '.', '*', '.', '.', '.', '.', '.', '.'],\n",
       "       ['.', '.', '3', '5', '.', '.', '6', '3', '3', '.'],\n",
       "       ['.', '.', '.', '.', '.', '.', '#', '.', '.', '.'],\n",
       "       ['6', '1', '7', '*', '.', '.', '.', '.', '.', '.'],\n",
       "       ['.', '.', '.', '.', '.', '+', '.', '5', '8', '.'],\n",
       "       ['.', '.', '5', '9', '2', '.', '.', '.', '.', '.'],\n",
       "       ['.', '.', '.', '.', '.', '.', '7', '5', '5', '.'],\n",
       "       ['.', '.', '.', '$', '.', '*', '.', '.', '.', '.'],\n",
       "       ['.', '6', '6', '4', '.', '5', '9', '8', '.', '.']], dtype='<U1')"
      ]
     },
     "execution_count": 3,
     "metadata": {},
     "output_type": "execute_result"
    }
   ],
   "source": [
    "import numpy as np\n",
    "\n",
    "test_data = np.array([\n",
    "    list(line)\n",
    "    for line in [\n",
    "        \"467..114..\",\n",
    "        \"...*......\",\n",
    "        \"..35..633.\",\n",
    "        \"......#...\",\n",
    "        \"617*......\",\n",
    "        \".....+.58.\",\n",
    "        \"..592.....\",\n",
    "        \"......755.\",\n",
    "        \"...$.*....\",\n",
    "        \".664.598..\",\n",
    "    ]\n",
    "])\n",
    "\n",
    "test_data"
   ]
  },
  {
   "cell_type": "code",
   "execution_count": 4,
   "metadata": {},
   "outputs": [
    {
     "data": {
      "text/plain": [
       "4361"
      ]
     },
     "execution_count": 4,
     "metadata": {},
     "output_type": "execute_result"
    }
   ],
   "source": [
    "import itertools\n",
    "import copy\n",
    "\n",
    "DIRECTIONS = [\n",
    "    direction \n",
    "    for direction in itertools.product([-1, 0, 1], repeat=2)\n",
    "    if direction != (0, 0)\n",
    "]\n",
    "\n",
    "def part1(data):\n",
    "    def is_adjacent(x, y):\n",
    "        def is_symbol(s):\n",
    "            return (not s.isdigit() and s != \".\")\n",
    "        return any([\n",
    "            is_symbol(data[x + x_dir, y + y_dir])\n",
    "            for x_dir, y_dir in DIRECTIONS\n",
    "            if 0 <= x + x_dir < data.shape[0] and 0 <= y + y_dir < data.shape[1]\n",
    "        ])\n",
    "\n",
    "    result = 0\n",
    "\n",
    "    DEFAULT_NUMBER = (\"\", False) # (substr, is_adjacent)\n",
    "    number = copy.deepcopy(DEFAULT_NUMBER)\n",
    "\n",
    "    for x, y in np.ndindex(*data.shape):\n",
    "        char = data[x, y]\n",
    "        if (not char.isdigit()) or (y == 0):\n",
    "            if number[1] and len(number[0]) > 0:\n",
    "                result += int(number[0])\n",
    "            number = copy.deepcopy(DEFAULT_NUMBER)\n",
    "        \n",
    "        if char.isdigit():\n",
    "            number = (number[0] + char, number[1] or is_adjacent(x, y))\n",
    "    \n",
    "    return result\n",
    "\n",
    "part1(test_data)"
   ]
  },
  {
   "cell_type": "code",
   "execution_count": 5,
   "metadata": {},
   "outputs": [
    {
     "data": {
      "text/plain": [
       "array([['.', '.', '.', '.', '.'],\n",
       "       ['.', '.', '.', '.', '.'],\n",
       "       ['.', '.', '.', '3', '7'],\n",
       "       ['.', '.', '.', '.', '.'],\n",
       "       ['.', '.', '.', '.', '.']], dtype='<U1')"
      ]
     },
     "execution_count": 5,
     "metadata": {},
     "output_type": "execute_result"
    }
   ],
   "source": [
    "with open(\"input.txt\") as f:\n",
    "    data = np.array([list(line.strip()) for line in f.readlines()])\n",
    "\n",
    "data[:5, :5]"
   ]
  },
  {
   "cell_type": "code",
   "execution_count": 6,
   "metadata": {},
   "outputs": [
    {
     "data": {
      "text/plain": [
       "550934"
      ]
     },
     "execution_count": 6,
     "metadata": {},
     "output_type": "execute_result"
    }
   ],
   "source": [
    "part1(data)"
   ]
  },
  {
   "cell_type": "markdown",
   "metadata": {},
   "source": [
    "## Part 2\n",
    "\n",
    "The engineer finds the missing part and installs it in the engine! As the engine springs to life, you jump in the closest gondola, finally ready to ascend to the water source.\n",
    "\n",
    "You don't seem to be going very fast, though. Maybe something is still wrong? Fortunately, the gondola has a phone labeled \"help\", so you pick it up and the engineer answers.\n",
    "\n",
    "Before you can explain the situation, she suggests that you look out the window. There stands the engineer, holding a phone in one hand and waving with the other. You're going so slowly that you haven't even left the station. You exit the gondola.\n",
    "\n",
    "The missing part wasn't the only issue - one of the gears in the engine is wrong. A gear is any `*` symbol that is adjacent to exactly two part numbers. Its gear ratio is the result of multiplying those two numbers together.\n",
    "\n",
    "This time, you need to find the gear ratio of every gear and add them all up so that the engineer can figure out which gear needs to be replaced.\n",
    "\n",
    "Consider the same engine schematic again:\n",
    "\n",
    "```\n",
    "467..114..\n",
    "...*......\n",
    "..35..633.\n",
    "......#...\n",
    "617*......\n",
    ".....+.58.\n",
    "..592.....\n",
    "......755.\n",
    "...$.*....\n",
    ".664.598..\n",
    "```\n",
    "In this schematic, there are two gears. The first is in the top left; it has part numbers `467` and `35`, so its gear ratio is `16345`. The second gear is in the lower right; its gear ratio is `451490`. (The `*` adjacent to `617` is not a gear because it is only adjacent to one part number.) Adding up all of the gear ratios produces `467835`.\n",
    "\n",
    "What is the sum of all of the gear ratios in your engine schematic?\n",
    "\n"
   ]
  },
  {
   "cell_type": "code",
   "execution_count": 7,
   "metadata": {},
   "outputs": [
    {
     "data": {
      "text/plain": [
       "467835"
      ]
     },
     "execution_count": 7,
     "metadata": {},
     "output_type": "execute_result"
    }
   ],
   "source": [
    "def part2(data):\n",
    "    def get_expanded_to_left_str(x, y):\n",
    "        result = \"\"\n",
    "        while y >= 0 and data[x, y].isdigit():\n",
    "            result = data[x, y] + result\n",
    "            y -= 1\n",
    "        return result\n",
    "    def get_expanded_to_right_str(x, y):\n",
    "        result = \"\"\n",
    "        while y < data.shape[1] and data[x, y].isdigit():\n",
    "            result += data[x, y]\n",
    "            y += 1\n",
    "        return result\n",
    "    def get_expanded_number(x, y):\n",
    "        number_str = get_expanded_to_left_str(x, y - 1) + get_expanded_to_right_str(x, y)\n",
    "        return int(number_str) if len(number_str) > 0 else None\n",
    "\n",
    "    result = 0\n",
    "    for x, y in zip(*np.where(data == \"*\")):\n",
    "        adjacent = []\n",
    "\n",
    "        for row in [x + x_dir for x_dir in [-1, 0, 1] if 0 <= x + x_dir <= data.shape[0] - 1]:\n",
    "            number_to_left_str = get_expanded_to_left_str(row, y - 1)\n",
    "            number_to_right_str = get_expanded_to_right_str(row, y + 1)\n",
    "            for number_str in (number_to_left_str + data[row, y] + number_to_right_str).replace(\"*\", \".\").split(\".\"):\n",
    "                if len(number_str) > 0:\n",
    "                    adjacent.append(int(number_str))\n",
    "\n",
    "        if len(adjacent) == 2:\n",
    "            result += np.prod(adjacent)\n",
    "\n",
    "    return result\n",
    "        \n",
    "\n",
    "part2(test_data)"
   ]
  },
  {
   "cell_type": "code",
   "execution_count": 8,
   "metadata": {},
   "outputs": [
    {
     "data": {
      "text/plain": [
       "81997870"
      ]
     },
     "execution_count": 8,
     "metadata": {},
     "output_type": "execute_result"
    }
   ],
   "source": [
    "part2(data)"
   ]
  }
 ],
 "metadata": {
  "kernelspec": {
   "display_name": "aoc",
   "language": "python",
   "name": "python3"
  },
  "language_info": {
   "codemirror_mode": {
    "name": "ipython",
    "version": 3
   },
   "file_extension": ".py",
   "mimetype": "text/x-python",
   "name": "python",
   "nbconvert_exporter": "python",
   "pygments_lexer": "ipython3",
   "version": "3.11.1"
  }
 },
 "nbformat": 4,
 "nbformat_minor": 2
}
