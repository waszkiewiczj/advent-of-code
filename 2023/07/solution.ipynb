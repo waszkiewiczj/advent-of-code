{
 "cells": [
  {
   "cell_type": "markdown",
   "metadata": {},
   "source": [
    "# Day 7: Camel Cards"
   ]
  },
  {
   "cell_type": "markdown",
   "metadata": {},
   "source": [
    "## Part 2\n",
    "\n",
    "Your all-expenses-paid trip turns out to be a one-way, five-minute ride in an airship. (At least it's a cool airship!) It drops you off at the edge of a vast desert and descends back to Island Island.\n",
    "\n",
    "\"Did you bring the parts?\"\n",
    "\n",
    "You turn around to see an Elf completely covered in white clothing, wearing goggles, and riding a large camel.\n",
    "\n",
    "\"Did you bring the parts?\" she asks again, louder this time. You aren't sure what parts she's looking for; you're here to figure out why the sand stopped.\n",
    "\n",
    "\"The parts! For the sand, yes! Come with me; I will show you.\" She beckons you onto the camel.\n",
    "\n",
    "After riding a bit across the sands of Desert Island, you can see what look like very large rocks covering half of the horizon. The Elf explains that the rocks are all along the part of Desert Island that is directly above Island Island, making it hard to even get there. Normally, they use big machines to move the rocks and filter the sand, but the machines have broken down because Desert Island recently stopped receiving the parts they need to fix the machines.\n",
    "\n",
    "You've already assumed it'll be your job to figure out why the parts stopped when she asks if you can help. You agree automatically.\n",
    "\n",
    "Because the journey will take a few days, she offers to teach you the game of Camel Cards. Camel Cards is sort of similar to poker except it's designed to be easier to play while riding a camel.\n",
    "\n",
    "In Camel Cards, you get a list of hands, and your goal is to order them based on the strength of each hand. A hand consists of five cards labeled one of `A`, `K`, `Q`, `J`, `T`, `9`, `8`, `7`, `6`, `5`, `4`, `3`, or `2`. The relative strength of each card follows this order, where `A` is the highest and `2` is the lowest.\n",
    "\n",
    "Every hand is exactly one type. From strongest to weakest, they are:\n",
    "\n",
    "- Five of a kind, where all five cards have the same label: `AAAAA`\n",
    "- Four of a kind, where four cards have the same label and one card has a different label: `AA8AA`\n",
    "- Full house, where three cards have the same label, and the remaining two cards share a different label: `23332`\n",
    "- Three of a kind, where three cards have the same label, and the remaining two cards are each different from any other card in the hand: `TTT98`\n",
    "- Two pair, where two cards share one label, two other cards share a second label, and the remaining card has a third label: `23432`\n",
    "- One pair, where two cards share one label, and the other three cards have a different label from the pair and each other: `A23A4`\n",
    "- High card, where all cards' labels are distinct: `23456`\n",
    "\n",
    "Hands are primarily ordered based on type; for example, every full house is stronger than any three of a kind.\n",
    "\n",
    "If two hands have the same type, a second ordering rule takes effect. Start by comparing the first card in each hand. If these cards are different, the hand with the stronger first card is considered stronger. If the first card in each hand have the same label, however, then move on to considering the second card in each hand. If they differ, the hand with the higher second card wins; otherwise, continue with the third card in each hand, then the fourth, then the fifth.\n",
    "\n",
    "So, `33332` and `2AAAA` are both four of a kind hands, but `33332` is stronger because its first card is stronger. Similarly, `77888` and `77788` are both a full house, but `77888` is stronger because its third card is stronger (and both hands have the same first and second card).\n",
    "\n",
    "To play Camel Cards, you are given a list of hands and their corresponding bid (your puzzle input). For example:\n",
    "\n",
    "```\n",
    "32T3K 765\n",
    "T55J5 684\n",
    "KK677 28\n",
    "KTJJT 220\n",
    "QQQJA 483\n",
    "```\n",
    "\n",
    "This example shows five hands; each hand is followed by its bid amount. Each hand wins an amount equal to its bid multiplied by its rank, where the weakest hand gets rank 1, the second-weakest hand gets rank 2, and so on up to the strongest hand. Because there are five hands in this example, the strongest hand will have rank 5 and its bid will be multiplied by 5.\n",
    "\n",
    "So, the first step is to put the hands in order of strength:\n",
    "\n",
    "- `32T3K` is the only one pair and the other hands are all a stronger type, so it gets rank 1.\n",
    "- `KK677` and `KTJJT` are both two pair. Their first cards both have the same label, but the second card of `KK677` is stronger (`K` vs `T`), so `KTJJT` gets rank 2 and `KK677` gets rank 3.\n",
    "- `T55J5` and `QQQJA` are both three of a kind. `QQQJA` has a stronger first card, so it gets rank 5 and `T55J5` gets rank 4.\n",
    "\n",
    "Now, you can determine the total winnings of this set of hands by adding up the result of multiplying each hand's bid with its rank (`765` * 1 + `220` * 2 + `28` * 3 + `684` * 4 + `483` * 5). So the total winnings in this example are 6440.\n",
    "\n",
    "Find the rank of every hand in your set. What are the total winnings?\n",
    "\n"
   ]
  },
  {
   "cell_type": "code",
   "execution_count": 1,
   "metadata": {},
   "outputs": [],
   "source": [
    "test_data_raw = \"\"\"32T3K 765\n",
    "T55J5 684\n",
    "KK677 28\n",
    "KTJJT 220\n",
    "QQQJA 483\"\"\""
   ]
  },
  {
   "cell_type": "code",
   "execution_count": 45,
   "metadata": {},
   "outputs": [],
   "source": [
    "from collections import Counter\n",
    "\n",
    "\n",
    "class Comparable:\n",
    "    def __eq__(self, other):\n",
    "        return self._compare_to(other) == 0\n",
    "    \n",
    "    def __lt__(self, other):\n",
    "        return self._compare_to(other) < 0\n",
    "    \n",
    "\n",
    "class Card(Comparable):\n",
    "    CARD_RANK_ORDER = \"23456789TJQKA\"\n",
    "\n",
    "    @classmethod\n",
    "    def _get_rank(cls, value):\n",
    "        return cls.CARD_RANK_ORDER.index(value)\n",
    "\n",
    "    def __init__(self, value):\n",
    "        self.value = value\n",
    "        self.rank = self._get_rank(value)\n",
    "\n",
    "    def __repr__(self):\n",
    "        return f\"Card({self.value})\"\n",
    "\n",
    "    def _compare_to(self, other):\n",
    "        return (self.rank - other.rank) / max(1, abs(self.rank - other.rank))\n",
    "    \n",
    "\n",
    "class Hand(Comparable):\n",
    "    HAND_SIZE = 5\n",
    "    HAND_RANK_ORDER = [\"11111\", \"2111\", \"221\", \"311\", \"32\", \"41\", \"5\"]\n",
    "\n",
    "    @classmethod\n",
    "    def _get_hand_rank(cls, cards_raw):\n",
    "        counter = Counter(cards_raw)\n",
    "        rank_str = \"\".join(map(str, sorted(counter.values(), reverse=True)))\n",
    "        return cls.HAND_RANK_ORDER.index(rank_str)\n",
    "\n",
    "    def __init__(self, cards):\n",
    "        assert len(cards) == self.HAND_SIZE\n",
    "        self.cards = cards\n",
    "        cards_raw = [card.value for card in self.cards]\n",
    "        self.rank = self._get_hand_rank(cards_raw)\n",
    "\n",
    "    def __repr__(self):\n",
    "        return f\"Hand({''.join([card.value for card in self.cards])})\"\n",
    "\n",
    "    def _compare_to(self, other):\n",
    "        compare_base_value = (self.rank - other.rank) / max(1, abs(self.rank - other.rank))\n",
    "        if compare_base_value != 0:\n",
    "            return compare_base_value\n",
    "        for card, other_card in zip(self.cards, other.cards):\n",
    "            compare_card_value = card._compare_to(other_card)\n",
    "            if compare_card_value != 0:\n",
    "                return compare_card_value"
   ]
  },
  {
   "cell_type": "code",
   "execution_count": 32,
   "metadata": {},
   "outputs": [
    {
     "data": {
      "text/plain": [
       "[(Hand(32T3K), 765),\n",
       " (Hand(T55J5), 684),\n",
       " (Hand(KK677), 28),\n",
       " (Hand(KTJJT), 220),\n",
       " (Hand(QQQJA), 483)]"
      ]
     },
     "execution_count": 32,
     "metadata": {},
     "output_type": "execute_result"
    }
   ],
   "source": [
    "def parse_data(data):\n",
    "    return [\n",
    "        (\n",
    "            Hand([Card(value) for value in line[:5]]), \n",
    "            int(line[5:].strip())\n",
    "        )\n",
    "        for line in data.splitlines()\n",
    "    ]\n",
    "\n",
    "test_data = parse_data(test_data_raw)\n",
    "test_data"
   ]
  },
  {
   "cell_type": "code",
   "execution_count": 33,
   "metadata": {},
   "outputs": [
    {
     "data": {
      "text/plain": [
       "[(Hand(8T64Q), 595), (Hand(79J27), 258), (Hand(88885), 88)]"
      ]
     },
     "execution_count": 33,
     "metadata": {},
     "output_type": "execute_result"
    }
   ],
   "source": [
    "with open(\"input.txt\") as f:\n",
    "    data = parse_data(f.read())\n",
    "\n",
    "data[:3]"
   ]
  },
  {
   "cell_type": "code",
   "execution_count": 36,
   "metadata": {},
   "outputs": [
    {
     "data": {
      "text/plain": [
       "6440"
      ]
     },
     "execution_count": 36,
     "metadata": {},
     "output_type": "execute_result"
    }
   ],
   "source": [
    "def get_winnings(data):\n",
    "    result = 0\n",
    "    sorted_data = list(sorted(data, key=lambda x: x[0]))\n",
    "    for rank, bid in enumerate(map(lambda x: x[1], sorted_data)):\n",
    "        result += (rank + 1) * bid\n",
    "    return result\n",
    "\n",
    "\n",
    "def part1(data):\n",
    "    return get_winnings(data)\n",
    "\n",
    "\n",
    "part1(test_data)"
   ]
  },
  {
   "cell_type": "code",
   "execution_count": 37,
   "metadata": {},
   "outputs": [
    {
     "data": {
      "text/plain": [
       "250474325"
      ]
     },
     "execution_count": 37,
     "metadata": {},
     "output_type": "execute_result"
    }
   ],
   "source": [
    "part1(data)"
   ]
  },
  {
   "cell_type": "markdown",
   "metadata": {},
   "source": [
    "## Part 2\n",
    "\n",
    "To make things a little more interesting, the Elf introduces one additional rule. Now, `J` cards are jokers - wildcards that can act like whatever card would make the hand the strongest type possible.\n",
    "\n",
    "To balance this, `J` cards are now the weakest individual cards, weaker even than `2`. The other cards stay in the same order: `A`, `K`, `Q`, `T`, `9`, `8`, `7`, `6`, `5`, `4`, `3`, `2`, `J`.\n",
    "\n",
    "`J` cards can pretend to be whatever card is best for the purpose of determining hand type; for example, `QJJQ2` is now considered four of a kind. However, for the purpose of breaking ties between two hands of the same type, `J` is always treated as `J`, not the card it's pretending to be: `JKKK2` is weaker than `QQQQ2` because `J` is weaker than `Q`.\n",
    "\n",
    "Now, the above example goes very differently:\n",
    "\n",
    "```\n",
    "32T3K 765\n",
    "T55J5 684\n",
    "KK677 28\n",
    "KTJJT 220\n",
    "QQQJA 483\n",
    "```\n",
    "\n",
    "- `32T3K` is still the only one pair; it doesn't contain any jokers, so its strength doesn't increase.\n",
    "- `KK677` is now the only two pair, making it the second-weakest hand.\n",
    "- `T55J5`, `KTJJT`, and `QQQJA` are now all four of a kind! `T55J5` gets rank 3, `QQQJA` gets rank 4, and `KTJJT` gets rank 5.\n",
    "\n",
    "With the new joker rule, the total winnings in this example are `5905`.\n",
    "\n",
    "Using the new joker rule, find the rank of every hand in your set. What are the new total winnings?"
   ]
  },
  {
   "cell_type": "code",
   "execution_count": 47,
   "metadata": {},
   "outputs": [
    {
     "data": {
      "text/plain": [
       "5905"
      ]
     },
     "execution_count": 47,
     "metadata": {},
     "output_type": "execute_result"
    }
   ],
   "source": [
    "class JokerCard(Card):\n",
    "    CARD_RANK_ORDER = \"J23456789TJQKA\"\n",
    "    \n",
    "\n",
    "class JokerHand(Hand):\n",
    "    @classmethod\n",
    "    def _get_hand_rank(cls, cards_raw):\n",
    "        if \"J\" not in cards_raw:\n",
    "            return super()._get_hand_rank(cards_raw)\n",
    "        else:\n",
    "            max_rank = 0\n",
    "            for card_value in \"23456789TQKA\":\n",
    "                new_cards_raw = [value if value != \"J\" else card_value for value in cards_raw]\n",
    "                max_rank = max(max_rank, super()._get_hand_rank(new_cards_raw))\n",
    "        return max_rank\n",
    "\n",
    "    @staticmethod\n",
    "    def from_hand(hand):\n",
    "        return JokerHand([JokerCard(card.value) for card in hand.cards])\n",
    "    \n",
    "\n",
    "\n",
    "\n",
    "def part2(data):\n",
    "    converted_data = [(JokerHand.from_hand(hand), bid) for hand, bid in data]\n",
    "    return get_winnings(converted_data)\n",
    "\n",
    "\n",
    "part2(test_data)"
   ]
  },
  {
   "cell_type": "code",
   "execution_count": 48,
   "metadata": {},
   "outputs": [
    {
     "data": {
      "text/plain": [
       "248909434"
      ]
     },
     "execution_count": 48,
     "metadata": {},
     "output_type": "execute_result"
    }
   ],
   "source": [
    "part2(data)"
   ]
  }
 ],
 "metadata": {
  "kernelspec": {
   "display_name": "aoc",
   "language": "python",
   "name": "python3"
  },
  "language_info": {
   "codemirror_mode": {
    "name": "ipython",
    "version": 3
   },
   "file_extension": ".py",
   "mimetype": "text/x-python",
   "name": "python",
   "nbconvert_exporter": "python",
   "pygments_lexer": "ipython3",
   "version": "3.11.1"
  }
 },
 "nbformat": 4,
 "nbformat_minor": 2
}
