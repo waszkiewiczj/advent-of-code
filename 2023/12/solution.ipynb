{
 "cells": [
  {
   "cell_type": "markdown",
   "metadata": {},
   "source": [
    "## Day 12: Hot Springs"
   ]
  },
  {
   "cell_type": "code",
   "execution_count": 2,
   "metadata": {},
   "outputs": [
    {
     "data": {
      "text/plain": [
       "[['???.###', [1, 1, 3]],\n",
       " ['.??..??...?##.', [1, 1, 3]],\n",
       " ['?#?#?#?#?#?#?#?', [1, 3, 1, 6]],\n",
       " ['????.#...#...', [4, 1, 1]],\n",
       " ['????.######..#####.', [1, 6, 5]],\n",
       " ['?###????????', [3, 2, 1]]]"
      ]
     },
     "execution_count": 2,
     "metadata": {},
     "output_type": "execute_result"
    }
   ],
   "source": [
    "test_data_raw = (\n",
    "\"\"\"???.### 1,1,3\n",
    ".??..??...?##. 1,1,3\n",
    "?#?#?#?#?#?#?#? 1,3,1,6\n",
    "????.#...#... 4,1,1\n",
    "????.######..#####. 1,6,5\n",
    "?###???????? 3,2,1\n",
    "\"\"\"\n",
    ")\n",
    "\n",
    "\n",
    "def parse_data(data):\n",
    "    return [\n",
    "        [\n",
    "            element if not element[0].isdigit() else list(map(int, element.split(\",\")))\n",
    "            for element in line.split()\n",
    "        ]\n",
    "        for line in data.splitlines()\n",
    "    ]\n",
    "\n",
    "\n",
    "test_data = parse_data(test_data_raw)\n",
    "test_data"
   ]
  },
  {
   "cell_type": "code",
   "execution_count": 25,
   "metadata": {},
   "outputs": [
    {
     "name": "stdout",
     "output_type": "stream",
     "text": [
      "['???.###', [1, 1, 3]]\n",
      "['#.#.###']\n",
      "\n",
      "['.??..??...?##.', [1, 1, 3]]\n",
      "['..#...#...###.', '..#..#....###.', '.#....#...###.', '.#...#....###.']\n",
      "\n",
      "['?#?#?#?#?#?#?#?', [1, 3, 1, 6]]\n",
      "['.#.###.#.######']\n",
      "\n",
      "['????.#...#...', [4, 1, 1]]\n",
      "['####.#...#...']\n",
      "\n",
      "['????.######..#####.', [1, 6, 5]]\n",
      "['...#.######..#####.', '..#..######..#####.', '.#...######..#####.', '#....######..#####.']\n",
      "\n",
      "['?###????????', [3, 2, 1]]\n",
      "['.###....##.#', '.###...##..#', '.###...##.#.', '.###..##...#', '.###..##..#.', '.###..##.#..', '.###.##....#', '.###.##...#.', '.###.##..#..', '.###.##.#...']\n",
      "\n"
     ]
    }
   ],
   "source": [
    "import re\n",
    "\n",
    "\n",
    "def get_arrangements(condition_str, condition_numbers):\n",
    "    if \"?\" not in condition_str:\n",
    "        _condition_numbers = list(map(len, re.sub(r\"\\.+\", \".\", condition_str).strip(\".\").split(\".\")))\n",
    "        is_valid = (_condition_numbers == condition_numbers)\n",
    "        return [condition_str] if is_valid else []\n",
    "    else:\n",
    "        arrangements = []\n",
    "        index = condition_str.index(\"?\")\n",
    "        for replacement in \".#\":\n",
    "            new_condition_str = condition_str[:index] + replacement + condition_str[index + 1:] \n",
    "            arrangements += get_arrangements(new_condition_str, condition_numbers)\n",
    "        return arrangements\n",
    "\n",
    "for line in test_data:\n",
    "    print(line)\n",
    "    print(get_arrangements(line[0], line[1]))\n",
    "    print()\n"
   ]
  },
  {
   "cell_type": "code",
   "execution_count": 26,
   "metadata": {},
   "outputs": [
    {
     "data": {
      "text/plain": [
       "21"
      ]
     },
     "execution_count": 26,
     "metadata": {},
     "output_type": "execute_result"
    }
   ],
   "source": [
    "def part1(data):\n",
    "    return sum(len(get_arrangements(*line)) for line in data)\n",
    "\n",
    "\n",
    "part1(test_data)"
   ]
  },
  {
   "cell_type": "code",
   "execution_count": 28,
   "metadata": {},
   "outputs": [
    {
     "data": {
      "text/plain": [
       "[['?.?????#???#?', [1, 1, 2, 2]],\n",
       " ['????.#????#?????#??#', [1, 2, 1, 1, 7]],\n",
       " ['???#?.???????.?', [3, 1, 1, 1, 1]]]"
      ]
     },
     "execution_count": 28,
     "metadata": {},
     "output_type": "execute_result"
    }
   ],
   "source": [
    "with open(\"input.txt\") as f:\n",
    "    data = parse_data(f.read())\n",
    "\n",
    "data[:3]"
   ]
  },
  {
   "cell_type": "code",
   "execution_count": 29,
   "metadata": {},
   "outputs": [
    {
     "data": {
      "text/plain": [
       "7771"
      ]
     },
     "execution_count": 29,
     "metadata": {},
     "output_type": "execute_result"
    }
   ],
   "source": [
    "part1(data)"
   ]
  }
 ],
 "metadata": {
  "kernelspec": {
   "display_name": "aoc",
   "language": "python",
   "name": "python3"
  },
  "language_info": {
   "codemirror_mode": {
    "name": "ipython",
    "version": 3
   },
   "file_extension": ".py",
   "mimetype": "text/x-python",
   "name": "python",
   "nbconvert_exporter": "python",
   "pygments_lexer": "ipython3",
   "version": "3.11.1"
  }
 },
 "nbformat": 4,
 "nbformat_minor": 2
}
