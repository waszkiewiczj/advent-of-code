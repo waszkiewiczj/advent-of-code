{
 "cells": [
  {
   "cell_type": "markdown",
   "metadata": {},
   "source": [
    "## Day 12: Hot Springs"
   ]
  },
  {
   "cell_type": "markdown",
   "metadata": {},
   "source": [
    "## Part 1\n",
    "\n",
    "You finally reach the hot springs! You can see steam rising from secluded areas attached to the primary, ornate building.\n",
    "\n",
    "As you turn to enter, the researcher stops you. \"Wait - I thought you were looking for the hot springs, weren't you?\" You indicate that this definitely looks like hot springs to you.\n",
    "\n",
    "\"Oh, sorry, common mistake! This is actually the onsen! The hot springs are next door.\"\n",
    "\n",
    "You look in the direction the researcher is pointing and suddenly notice the massive metal helixes towering overhead. \"This way!\"\n",
    "\n",
    "It only takes you a few more steps to reach the main gate of the massive fenced-off area containing the springs. You go through the gate and into a small administrative building.\n",
    "\n",
    "\"Hello! What brings you to the hot springs today? Sorry they're not very hot right now; we're having a lava shortage at the moment.\" You ask about the missing machine parts for Desert Island.\n",
    "\n",
    "\"Oh, all of Gear Island is currently offline! Nothing is being manufactured at the moment, not until we get more lava to heat our forges. And our springs. The springs aren't very springy unless they're hot!\"\n",
    "\n",
    "\"Say, could you go up and see why the lava stopped flowing? The springs are too cold for normal operation, but we should be able to find one springy enough to launch you up there!\"\n",
    "\n",
    "There's just one problem - many of the springs have fallen into disrepair, so they're not actually sure which springs would even be safe to use! Worse yet, their condition records of which springs are damaged (your puzzle input) are also damaged! You'll need to help them repair the damaged records.\n",
    "\n",
    "In the giant field just outside, the springs are arranged into rows. For each row, the condition records show every spring and whether it is operational (`.`) or damaged (`#`). This is the part of the condition records that is itself damaged; for some springs, it is simply unknown (`?`) whether the spring is operational or damaged.\n",
    "\n",
    "However, the engineer that produced the condition records also duplicated some of this information in a different format! After the list of springs for a given row, the size of each contiguous group of damaged springs is listed in the order those groups appear in the row. This list always accounts for every damaged spring, and each number is the entire size of its contiguous group (that is, groups are always separated by at least one operational spring: `####` would always be `4`, never `2,2`).\n",
    "\n",
    "So, condition records with no unknown spring conditions might look like this:\n",
    "\n",
    "```\n",
    "#.#.### 1,1,3\n",
    ".#...#....###. 1,1,3\n",
    ".#.###.#.###### 1,3,1,6\n",
    "####.#...#... 4,1,1\n",
    "#....######..#####. 1,6,5\n",
    ".###.##....# 3,2,1\n",
    "```\n",
    "\n",
    "However, the condition records are partially damaged; some of the springs' conditions are actually unknown (`?`). For example:\n",
    "\n",
    "```\n",
    "???.### 1,1,3\n",
    ".??..??...?##. 1,1,3\n",
    "?#?#?#?#?#?#?#? 1,3,1,6\n",
    "????.#...#... 4,1,1\n",
    "????.######..#####. 1,6,5\n",
    "?###???????? 3,2,1\n",
    "```\n",
    "\n",
    "Equipped with this information, it is your job to figure out how many different arrangements of operational and broken springs fit the given criteria in each row.\n",
    "\n",
    "In the first line (`???.### 1,1,3`), there is exactly one way separate groups of one, one, and three broken springs (in that order) can appear in that row: the first three unknown springs must be broken, then operational, then broken (`#.#`), making the whole row `#.#.###`.\n",
    "\n",
    "The second line is more interesting: `.??..??...?##. 1,1,3` could be a total of four different arrangements. The last `?` must always be broken (to satisfy the final contiguous group of three broken springs), and each `??` must hide exactly one of the two broken springs. (Neither `??` could be both broken springs or they would form a single contiguous group of two; if that were true, the numbers afterward would have been `2,3` instead.) Since each `??` can either be `#.` or `.#`, there are four possible arrangements of springs.\n",
    "\n",
    "The last line is actually consistent with ten different arrangements! Because the first number is `3`, the first and second `?` must both be `.` (if either were `#`, the first number would have to be `4` or higher). However, the remaining run of unknown spring conditions have many different ways they could hold groups of two and one broken springs:\n",
    "\n",
    "```\n",
    "?###???????? 3,2,1\n",
    ".###.##.#...\n",
    ".###.##..#..\n",
    ".###.##...#.\n",
    ".###.##....#\n",
    ".###..##.#..\n",
    ".###..##..#.\n",
    ".###..##...#\n",
    ".###...##.#.\n",
    ".###...##..#\n",
    ".###....##.#\n",
    "```\n",
    "\n",
    "In this example, the number of possible arrangements for each row is:\n",
    "\n",
    "- `???.### 1,1,3` - `1` arrangement\n",
    "- `.??..??...?##. 1,1,3` - `4` arrangements\n",
    "- `?#?#?#?#?#?#?#? 1,3,1,6` - `1` arrangement\n",
    "- `????.#...#... 4,1,1` - `1` arrangement\n",
    "- `????.######..#####. 1,6,5` - `4` arrangements\n",
    "- `?###???????? 3,2,1` - `10` arrangements\n",
    "\n",
    "Adding all of the possible arrangement counts together produces a total of `21` arrangements.\n",
    "\n",
    "For each row, count all of the different arrangements of operational and broken springs that meet the given criteria. What is the sum of those counts?"
   ]
  },
  {
   "cell_type": "code",
   "execution_count": 8,
   "metadata": {},
   "outputs": [
    {
     "data": {
      "text/plain": [
       "[['???.###', [1, 1, 3]],\n",
       " ['.??..??...?##.', [1, 1, 3]],\n",
       " ['?#?#?#?#?#?#?#?', [1, 3, 1, 6]],\n",
       " ['????.#...#...', [4, 1, 1]],\n",
       " ['????.######..#####.', [1, 6, 5]],\n",
       " ['?###????????', [3, 2, 1]]]"
      ]
     },
     "execution_count": 8,
     "metadata": {},
     "output_type": "execute_result"
    }
   ],
   "source": [
    "test_data_raw = (\n",
    "\"\"\"???.### 1,1,3\n",
    ".??..??...?##. 1,1,3\n",
    "?#?#?#?#?#?#?#? 1,3,1,6\n",
    "????.#...#... 4,1,1\n",
    "????.######..#####. 1,6,5\n",
    "?###???????? 3,2,1\n",
    "\"\"\"\n",
    ")\n",
    "\n",
    "\n",
    "def parse_data(data):\n",
    "    return [\n",
    "        [\n",
    "            element if not element[0].isdigit() else list(map(int, element.split(\",\")))\n",
    "            for element in line.split()\n",
    "        ]\n",
    "        for line in data.splitlines()\n",
    "    ]\n",
    "\n",
    "\n",
    "test_data = parse_data(test_data_raw)\n",
    "test_data"
   ]
  },
  {
   "cell_type": "code",
   "execution_count": 9,
   "metadata": {},
   "outputs": [
    {
     "name": "stdout",
     "output_type": "stream",
     "text": [
      "DATA: ['???.###', [1, 1, 3]]\n",
      "ARRANGEMENT COUNT: 1\n",
      "\n",
      "DATA: ['.??..??...?##.', [1, 1, 3]]\n",
      "ARRANGEMENT COUNT: 4\n",
      "\n",
      "DATA: ['?#?#?#?#?#?#?#?', [1, 3, 1, 6]]\n",
      "ARRANGEMENT COUNT: 1\n",
      "\n",
      "DATA: ['????.#...#...', [4, 1, 1]]\n",
      "ARRANGEMENT COUNT: 1\n",
      "\n",
      "DATA: ['????.######..#####.', [1, 6, 5]]\n",
      "ARRANGEMENT COUNT: 4\n",
      "\n",
      "DATA: ['?###????????', [3, 2, 1]]\n",
      "ARRANGEMENT COUNT: 10\n",
      "\n"
     ]
    }
   ],
   "source": [
    "import re\n",
    "\n",
    "\n",
    "def get_arrangements_count(condition_str, condition_numbers, cache={}):\n",
    "    def split_condition_str(s):\n",
    "        return re.sub(r\"\\.+\", \".\", s).strip(\".\").split(\".\")\n",
    "\n",
    "    def helper(subs, numbers):\n",
    "        cache_key = (tuple(subs), tuple(numbers))\n",
    "\n",
    "        if cache_key in cache:\n",
    "            return cache[cache_key]\n",
    "\n",
    "        if list(map(len, subs)) == numbers:\n",
    "            return 1\n",
    "        if len(subs) == 0 and len(numbers) > 0:\n",
    "            return 0\n",
    "        sub = subs[0]\n",
    "        if \"?\" not in sub:\n",
    "            if len(numbers) == 0 or numbers[0] != len(sub):\n",
    "                return 0\n",
    "            else:\n",
    "                return helper(subs[1:], numbers[1:])\n",
    "        else:\n",
    "            result = 0\n",
    "            idx = sub.index(\"?\")\n",
    "            for replacement in [\"#\", \".\"]:\n",
    "                new_sub = sub[:idx] + replacement + sub[idx + 1:]\n",
    "                new_sub_splitted = split_condition_str(new_sub) if new_sub != \".\" else []\n",
    "                result += helper(new_sub_splitted + subs[1:], numbers)\n",
    "\n",
    "            cache[cache_key] = result\n",
    "            return result\n",
    "    \n",
    "    return helper(split_condition_str(condition_str), condition_numbers)\n",
    "\n",
    "\n",
    "for line in test_data:\n",
    "    arrangements = get_arrangements_count(*line)\n",
    "    print(\"DATA:\", line)\n",
    "    print(\"ARRANGEMENT COUNT:\", arrangements)\n",
    "    print()\n"
   ]
  },
  {
   "cell_type": "code",
   "execution_count": 10,
   "metadata": {},
   "outputs": [
    {
     "data": {
      "text/plain": [
       "21"
      ]
     },
     "execution_count": 10,
     "metadata": {},
     "output_type": "execute_result"
    }
   ],
   "source": [
    "def part1(data):\n",
    "    return sum(get_arrangements_count(*line) for line in data)\n",
    "\n",
    "\n",
    "part1(test_data)"
   ]
  },
  {
   "cell_type": "code",
   "execution_count": 11,
   "metadata": {},
   "outputs": [
    {
     "data": {
      "text/plain": [
       "[['?.?????#???#?', [1, 1, 2, 2]],\n",
       " ['????.#????#?????#??#', [1, 2, 1, 1, 7]],\n",
       " ['???#?.???????.?', [3, 1, 1, 1, 1]]]"
      ]
     },
     "execution_count": 11,
     "metadata": {},
     "output_type": "execute_result"
    }
   ],
   "source": [
    "with open(\"input.txt\") as f:\n",
    "    data = parse_data(f.read())\n",
    "\n",
    "data[:3]"
   ]
  },
  {
   "cell_type": "code",
   "execution_count": 12,
   "metadata": {},
   "outputs": [
    {
     "data": {
      "text/plain": [
       "7771"
      ]
     },
     "execution_count": 12,
     "metadata": {},
     "output_type": "execute_result"
    }
   ],
   "source": [
    "part1(data)"
   ]
  },
  {
   "cell_type": "markdown",
   "metadata": {},
   "source": [
    "## Part 2\n",
    "\n",
    "As you look out at the field of springs, you feel like there are way more springs than the condition records list. When you examine the records, you discover that they were actually folded up this whole time!\n",
    "\n",
    "To unfold the records, on each row, replace the list of spring conditions with five copies of itself (separated by `?`) and replace the list of contiguous groups of damaged springs with five copies of itself (separated by `,`).\n",
    "\n",
    "So, this row:\n",
    "\n",
    "```\n",
    ".# 1\n",
    "```\n",
    "\n",
    "Would become:\n",
    "\n",
    "```\n",
    ".#?.#?.#?.#?.# 1,1,1,1,1\n",
    "```\n",
    "\n",
    "The first line of the above example would become:\n",
    "\n",
    "```\n",
    "???.###????.###????.###????.###????.### 1,1,3,1,1,3,1,1,3,1,1,3,1,1,3\n",
    "```\n",
    "\n",
    "In the above example, after unfolding, the number of possible arrangements for some rows is now much larger:\n",
    "\n",
    "- `???.### 1,1,3` - `1` arrangement\n",
    "- `.??..??...?##. 1,1,3` - `16384` arrangements\n",
    "- `?#?#?#?#?#?#?#? 1,3,1,6` - `1` arrangement\n",
    "- `????.#...#... 4,1,1` - `16` arrangements\n",
    "- `????.######..#####. 1,6,5` - `2500` arrangements\n",
    "- `?###???????? 3,2,1` - `506250` arrangements\n",
    "\n",
    "After unfolding, adding all of the possible arrangement counts together produces `525152`.\n",
    "\n",
    "Unfold your condition records; what is the new sum of possible arrangement counts?"
   ]
  },
  {
   "cell_type": "code",
   "execution_count": 13,
   "metadata": {},
   "outputs": [
    {
     "name": "stdout",
     "output_type": "stream",
     "text": [
      "('.#?.#?.#?.#?.#', [1, 1, 1, 1, 1])\n",
      "('???.###????.###????.###????.###????.###', [1, 1, 3, 1, 1, 3, 1, 1, 3, 1, 1, 3, 1, 1, 3])\n",
      "('????.#...#...?????.#...#...?????.#...#...?????.#...#...?????.#...#...', [4, 1, 1, 4, 1, 1, 4, 1, 1, 4, 1, 1, 4, 1, 1])\n"
     ]
    }
   ],
   "source": [
    "def expand_line(condition_str, condition_numbers):\n",
    "    EXPAND_COUNT = 5\n",
    "    new_condition_str = \"?\".join([condition_str for _ in range(EXPAND_COUNT)] )\n",
    "    return new_condition_str, condition_numbers * EXPAND_COUNT\n",
    "\n",
    "\n",
    "print(expand_line(\".#\", [1]))\n",
    "print(expand_line(\"???.###\", [1,1,3]))\n",
    "print(expand_line(\"????.#...#...\", [4,1,1]))"
   ]
  },
  {
   "cell_type": "code",
   "execution_count": 14,
   "metadata": {},
   "outputs": [
    {
     "name": "stdout",
     "output_type": "stream",
     "text": [
      "16\n",
      "2500\n"
     ]
    }
   ],
   "source": [
    "def get_expanded_arrangements_count(condition_str, condition_numbers, expand=5):\n",
    "    expanded_str, expanded_numbers = expand_line(condition_str, condition_numbers)\n",
    "    return get_arrangements_count(expanded_str, expanded_numbers)\n",
    "\n",
    "\n",
    "print(get_expanded_arrangements_count(\"????.#...#...\", [4,1,1]))\n",
    "print(get_expanded_arrangements_count(\"????.######..#####.\", [1,6,5]))"
   ]
  },
  {
   "cell_type": "code",
   "execution_count": 15,
   "metadata": {},
   "outputs": [
    {
     "data": {
      "text/plain": [
       "525152"
      ]
     },
     "execution_count": 15,
     "metadata": {},
     "output_type": "execute_result"
    }
   ],
   "source": [
    "def part2(data):\n",
    "    return sum(get_expanded_arrangements_count(*line) for line in data)\n",
    "\n",
    "\n",
    "part2(test_data)"
   ]
  },
  {
   "cell_type": "code",
   "execution_count": 16,
   "metadata": {},
   "outputs": [
    {
     "data": {
      "text/plain": [
       "10861030975833"
      ]
     },
     "execution_count": 16,
     "metadata": {},
     "output_type": "execute_result"
    }
   ],
   "source": [
    "part2(data)"
   ]
  }
 ],
 "metadata": {
  "kernelspec": {
   "display_name": "aoc",
   "language": "python",
   "name": "python3"
  },
  "language_info": {
   "codemirror_mode": {
    "name": "ipython",
    "version": 3
   },
   "file_extension": ".py",
   "mimetype": "text/x-python",
   "name": "python",
   "nbconvert_exporter": "python",
   "pygments_lexer": "ipython3",
   "version": "3.11.1"
  }
 },
 "nbformat": 4,
 "nbformat_minor": 2
}
