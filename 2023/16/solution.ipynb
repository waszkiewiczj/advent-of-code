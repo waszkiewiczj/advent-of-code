{
 "cells": [
  {
   "cell_type": "markdown",
   "metadata": {},
   "source": [
    "# Day 16: The Floor Will Be Lava"
   ]
  },
  {
   "cell_type": "markdown",
   "metadata": {},
   "source": [
    "## Part 1\n",
    "\n",
    "With the beam of light completely focused somewhere, the reindeer leads you deeper still into the Lava Production Facility. At some point, you realize that the steel facility walls have been replaced with cave, and the doorways are just cave, and the floor is cave, and you're pretty sure this is actually just a giant cave.\n",
    "\n",
    "Finally, as you approach what must be the heart of the mountain, you see a bright light in a cavern up ahead. There, you discover that the beam of light you so carefully focused is emerging from the cavern wall closest to the facility and pouring all of its energy into a contraption on the opposite side.\n",
    "\n",
    "Upon closer inspection, the contraption appears to be a flat, two-dimensional square grid containing empty space (`.`), mirrors (`/` and `\\`), and splitters (`|` and `-`).\n",
    "\n",
    "The contraption is aligned so that most of the beam bounces around the grid, but each tile on the grid converts some of the beam's light into heat to melt the rock in the cavern.\n",
    "\n",
    "You note the layout of the contraption (your puzzle input). For example:\n",
    "\n",
    "```\n",
    ".|...\\....\n",
    "|.-.\\.....\n",
    ".....|-...\n",
    "........|.\n",
    "..........\n",
    ".........\\\n",
    "..../.\\\\..\n",
    ".-.-/..|..\n",
    ".|....-|.\\\n",
    "..//.|....\n",
    "```\n",
    "\n",
    "The beam enters in the top-left corner from the left and heading to the right. Then, its behavior depends on what it encounters as it moves:\n",
    "\n",
    "- If the beam encounters empty space (`.`), it continues in the same direction.\n",
    "- If the beam encounters a mirror (`/` or `\\`), the beam is reflected 90 degrees depending on the angle of the mirror. For instance, a rightward-moving beam that encounters a `/` mirror would `-` continue upward in the mirror's column, while a rightward-moving beam that encounters a `\\` mirror would continue downward from the mirror's column.\n",
    "- If the beam encounters the pointy end of a splitter (`|` or `-`), the beam passes through the splitter as if the splitter were empty space. For instance, a rightward-moving beam that `-` encounters a `-` splitter would continue in the same direction.\n",
    "- If the beam encounters the flat side of a splitter (`|` or `-`), the beam is split into two beams going in each of the two directions the splitter's pointy ends are pointing. For instance, a rightward-moving beam that encounters a `|` splitter would split into two beams: one that continues upward from the splitter's column and one that continues downward from the splitter's column.\n",
    "\n",
    "Beams do not interact with other beams; a tile can have many beams passing through it at the same time. A tile is energized if that tile has at least one beam pass through it, reflect in it, or split in it.\n",
    "\n",
    "In the above example, here is how the beam of light bounces around the contraption:\n",
    "\n",
    "```\n",
    ">|<<<\\....\n",
    "|v-.\\^....\n",
    ".v...|->>>\n",
    ".v...v^.|.\n",
    ".v...v^...\n",
    ".v...v^..\\\n",
    ".v../2\\\\..\n",
    "<->-/vv|..\n",
    ".|<<<2-|.\\\n",
    ".v//.|.v..\n",
    "```\n",
    "\n",
    "Beams are only shown on empty tiles; arrows indicate the direction of the beams. If a tile contains beams moving in multiple directions, the number of distinct directions is shown instead. Here is the same diagram but instead only showing whether a tile is energized (`#`) or not (`.`):\n",
    "\n",
    "```\n",
    "######....\n",
    ".#...#....\n",
    ".#...#####\n",
    ".#...##...\n",
    ".#...##...\n",
    ".#...##...\n",
    ".#..####..\n",
    "########..\n",
    ".#######..\n",
    ".#...#.#..\n",
    "```\n",
    "\n",
    "Ultimately, in this example, `46` tiles become energized.\n",
    "\n",
    "The light isn't energizing enough tiles to produce lava; to debug the contraption, you need to start by analyzing the current situation. With the beam starting in the top-left heading right, how many tiles end up being energized?\n",
    "\n"
   ]
  },
  {
   "cell_type": "code",
   "execution_count": 47,
   "metadata": {},
   "outputs": [
    {
     "name": "stdout",
     "output_type": "stream",
     "text": [
      ".|...\\....\n",
      "|.-.\\.....\n",
      ".....|-...\n",
      "........|.\n",
      "..........\n",
      ".........\\\n",
      "..../.\\\\..\n",
      ".-.-/..|..\n",
      ".|....-|.\\\n",
      "..//.|....\n"
     ]
    }
   ],
   "source": [
    "import numpy as np\n",
    "\n",
    "\n",
    "test_data_raw = (\n",
    "r\"\"\".|...\\....\n",
    "|.-.\\.....\n",
    ".....|-...\n",
    "........|.\n",
    "..........\n",
    ".........\\\n",
    "..../.\\\\..\n",
    ".-.-/..|..\n",
    ".|....-|.\\\n",
    "..//.|....\"\"\"\n",
    ")\n",
    "\n",
    "\n",
    "def parse_data(data):\n",
    "    return np.array([list(line) for line in data.splitlines()])\n",
    "\n",
    "\n",
    "def print_data(data):\n",
    "    for line in data:\n",
    "        print(\"\".join(map(str, line)))\n",
    "\n",
    "\n",
    "test_data = parse_data(test_data_raw)\n",
    "print_data(test_data)"
   ]
  },
  {
   "cell_type": "code",
   "execution_count": 48,
   "metadata": {},
   "outputs": [
    {
     "data": {
      "text/plain": [
       "46"
      ]
     },
     "execution_count": 48,
     "metadata": {},
     "output_type": "execute_result"
    }
   ],
   "source": [
    "def get_new_position(position, direction):\n",
    "    return position[0] + direction[0], position[1] + direction[1]\n",
    "\n",
    "\n",
    "def perform_beams_step(mirrors, beams, traces, directions):\n",
    "    new_beams = []\n",
    "    for beam in beams:\n",
    "        position, direction = beam\n",
    "        if (\n",
    "            0 <= position[0] < mirrors.shape[0] \n",
    "            and 0 <= position[1] < mirrors.shape[1]\n",
    "        ):\n",
    "            traces[*position] = True\n",
    "            mirror = mirrors[*position]\n",
    "            if not directions[*position]:\n",
    "                directions[*position] = set()\n",
    "            if direction not in directions[*position]:\n",
    "                directions[*position].add(direction)\n",
    "                if mirror in \"\\\\/\":\n",
    "                    a = 1 if mirror == \"\\\\\" else -1\n",
    "                    direction = direction[1] * a, direction[0] * a\n",
    "                    new_beams.append((get_new_position(position, direction), direction))\n",
    "                elif mirror == \"|\" and direction in {(0, 1), (0, -1)}:\n",
    "                    for new_direction in [(-1, 0), (1, 0)]:\n",
    "                        new_beams.append((get_new_position(position, new_direction), new_direction))\n",
    "                elif mirror == \"-\" and direction in {(-1, 0), (1, 0)}:\n",
    "                    for new_direction in [(0, -1), (0, 1)]:\n",
    "                        new_beams.append((get_new_position(position, new_direction), new_direction))\n",
    "                else:\n",
    "                    new_beams.append((get_new_position(position, direction), direction))\n",
    "    return new_beams\n",
    "\n",
    "\n",
    "def get_energized_count(mirrors, start_beam_position=(0, 0), start_beam_direction=(0, 1)):\n",
    "    traces = np.zeros(mirrors.shape, dtype=bool)\n",
    "    directions = np.full(mirrors.shape, None)\n",
    "    beams = [(start_beam_position, start_beam_direction)]\n",
    "    while len(beams) > 0:\n",
    "        beams = perform_beams_step(mirrors, beams, traces, directions)\n",
    "    return traces.sum()\n",
    "\n",
    "\n",
    "def part1(data):\n",
    "    return get_energized_count(data)\n",
    "\n",
    "\n",
    "part1(test_data)"
   ]
  },
  {
   "cell_type": "code",
   "execution_count": 49,
   "metadata": {},
   "outputs": [
    {
     "name": "stdout",
     "output_type": "stream",
     "text": [
      "\\....\n",
      ".....\n",
      "....-\n",
      "....\\\n",
      "..|.|\n"
     ]
    }
   ],
   "source": [
    "with open(\"input.txt\") as f:\n",
    "    data = parse_data(f.read())\n",
    "\n",
    "print_data(data[:5, :5])"
   ]
  },
  {
   "cell_type": "code",
   "execution_count": 50,
   "metadata": {},
   "outputs": [
    {
     "data": {
      "text/plain": [
       "8112"
      ]
     },
     "execution_count": 50,
     "metadata": {},
     "output_type": "execute_result"
    }
   ],
   "source": [
    "part1(data)"
   ]
  },
  {
   "cell_type": "markdown",
   "metadata": {},
   "source": [
    "## Part 2\n",
    "\n",
    "As you try to work out what might be wrong, the reindeer tugs on your shirt and leads you to a nearby control panel. There, a collection of buttons lets you align the contraption so that the beam enters from any edge tile and heading away from that edge. (You can choose either of two directions for the beam if it starts on a corner; for instance, if the beam starts in the bottom-right corner, it can start heading either left or upward.)\n",
    "\n",
    "So, the beam could start on any tile in the top row (heading downward), any tile in the bottom row (heading upward), any tile in the leftmost column (heading right), or any tile in the rightmost column (heading left). To produce lava, you need to find the configuration that energizes as many tiles as possible.\n",
    "\n",
    "In the above example, this can be achieved by starting the beam in the fourth tile from the left in the top row:\n",
    "\n",
    "```\n",
    ".|<2<\\....\n",
    "|v-v\\^....\n",
    ".v.v.|->>>\n",
    ".v.v.v^.|.\n",
    ".v.v.v^...\n",
    ".v.v.v^..\\\n",
    ".v.v/2\\\\..\n",
    "<-2-/vv|..\n",
    ".|<<<2-|.\\\n",
    ".v//.|.v..\n",
    "```\n",
    "\n",
    "Using this configuration, `51` tiles are energized:\n",
    "\n",
    "```\n",
    ".#####....\n",
    ".#.#.#....\n",
    ".#.#.#####\n",
    ".#.#.##...\n",
    ".#.#.##...\n",
    ".#.#.##...\n",
    ".#.#####..\n",
    "########..\n",
    ".#######..\n",
    ".#...#.#..\n",
    "```\n",
    "\n",
    "Find the initial beam configuration that energizes the largest number of tiles; how many tiles are energized in that configuration?"
   ]
  },
  {
   "cell_type": "code",
   "execution_count": 51,
   "metadata": {},
   "outputs": [
    {
     "data": {
      "text/plain": [
       "51"
      ]
     },
     "execution_count": 51,
     "metadata": {},
     "output_type": "execute_result"
    }
   ],
   "source": [
    "def part2(data):\n",
    "    result = 0\n",
    "    for start_position in [\n",
    "        *[(0, i) for i in range(data.shape[1])],\n",
    "        *[(data.shape[0], i) for i in range(data.shape[1])],\n",
    "        *[(i, 0) for i in range(data.shape[0])],\n",
    "        *[(i, data.shape[1]) for i in range(data.shape[0])]\n",
    "    ]:\n",
    "        for direction in [(0, 1), (0, -1), (1, 0), (-1, 0)]:\n",
    "            result = max(result, get_energized_count(data, start_position, direction))\n",
    "    return result\n",
    "\n",
    "\n",
    "part2(test_data)"
   ]
  },
  {
   "cell_type": "code",
   "execution_count": 52,
   "metadata": {},
   "outputs": [
    {
     "data": {
      "text/plain": [
       "8314"
      ]
     },
     "execution_count": 52,
     "metadata": {},
     "output_type": "execute_result"
    }
   ],
   "source": [
    "part2(data)"
   ]
  }
 ],
 "metadata": {
  "kernelspec": {
   "display_name": "aoc-2023",
   "language": "python",
   "name": "python3"
  },
  "language_info": {
   "codemirror_mode": {
    "name": "ipython",
    "version": 3
   },
   "file_extension": ".py",
   "mimetype": "text/x-python",
   "name": "python",
   "nbconvert_exporter": "python",
   "pygments_lexer": "ipython3",
   "version": "3.11.7"
  }
 },
 "nbformat": 4,
 "nbformat_minor": 2
}
