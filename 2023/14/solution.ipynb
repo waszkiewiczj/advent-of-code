{
 "cells": [
  {
   "cell_type": "markdown",
   "metadata": {},
   "source": [
    "# Day 14: Parabolic Reflector Dish"
   ]
  },
  {
   "cell_type": "markdown",
   "metadata": {},
   "source": [
    "## Part 1\n",
    "\n",
    "You reach the place where all of the mirrors were pointing: a massive parabolic reflector dish attached to the side of another large mountain.\n",
    "\n",
    "The dish is made up of many small mirrors, but while the mirrors themselves are roughly in the shape of a parabolic reflector dish, each individual mirror seems to be pointing in slightly the wrong direction. If the dish is meant to focus light, all it's doing right now is sending it in a vague direction.\n",
    "\n",
    "This system must be what provides the energy for the lava! If you focus the reflector dish, maybe you can go where it's pointing and use the light to fix the lava production.\n",
    "\n",
    "Upon closer inspection, the individual mirrors each appear to be connected via an elaborate system of ropes and pulleys to a large metal platform below the dish. The platform is covered in large rocks of various shapes. Depending on their position, the weight of the rocks deforms the platform, and the shape of the platform controls which ropes move and ultimately the focus of the dish.\n",
    "\n",
    "In short: if you move the rocks, you can focus the dish. The platform even has a control panel on the side that lets you tilt it in one of four directions! The rounded rocks (`O`) will roll when the platform is tilted, while the cube-shaped rocks (`#`) will stay in place. You note the positions of all of the empty spaces (`.`) and rocks (your puzzle input). For example:\n",
    "\n",
    "```\n",
    "O....#....\n",
    "O.OO#....#\n",
    ".....##...\n",
    "OO.#O....O\n",
    ".O.....O#.\n",
    "O.#..O.#.#\n",
    "..O..#O..O\n",
    ".......O..\n",
    "#....###..\n",
    "#OO..#....\n",
    "```\n",
    "\n",
    "Start by tilting the lever so all of the rocks will slide north as far as they will go:\n",
    "\n",
    "```\n",
    "OOOO.#.O..\n",
    "OO..#....#\n",
    "OO..O##..O\n",
    "O..#.OO...\n",
    "........#.\n",
    "..#....#.#\n",
    "..O..#.O.O\n",
    "..O.......\n",
    "#....###..\n",
    "#....#....\n",
    "```\n",
    "\n",
    "You notice that the support beams along the north side of the platform are damaged; to ensure the platform doesn't collapse, you should calculate the total load on the north support beams.\n",
    "\n",
    "The amount of load caused by a single rounded rock (`O`) is equal to the number of rows from the rock to the south edge of the platform, including the row the rock is on. (Cube-shaped rocks (`#`) don't contribute to load.) So, the amount of load caused by each rock in each row is as follows:\n",
    "\n",
    "```\n",
    "OOOO.#.O.. 10\n",
    "OO..#....#  9\n",
    "OO..O##..O  8\n",
    "O..#.OO...  7\n",
    "........#.  6\n",
    "..#....#.#  5\n",
    "..O..#.O.O  4\n",
    "..O.......  3\n",
    "#....###..  2\n",
    "#....#....  1\n",
    "```\n",
    "\n",
    "The total load is the sum of the load caused by all of the rounded rocks. In this example, the total load is `136`.\n",
    "\n",
    "Tilt the platform so that the rounded rocks all roll north. Afterward, what is the total load on the north support beams?\n",
    "\n"
   ]
  },
  {
   "cell_type": "code",
   "execution_count": 22,
   "metadata": {},
   "outputs": [
    {
     "name": "stdout",
     "output_type": "stream",
     "text": [
      "O....#....\n",
      "O.OO#....#\n",
      ".....##...\n",
      "OO.#O....O\n",
      ".O.....O#.\n",
      "O.#..O.#.#\n",
      "..O..#O..O\n",
      ".......O..\n",
      "#....###..\n",
      "#OO..#....\n"
     ]
    }
   ],
   "source": [
    "import numpy as np\n",
    "\n",
    "\n",
    "test_data_raw =(\n",
    "\"\"\"O....#....\n",
    "O.OO#....#\n",
    ".....##...\n",
    "OO.#O....O\n",
    ".O.....O#.\n",
    "O.#..O.#.#\n",
    "..O..#O..O\n",
    ".......O..\n",
    "#....###..\n",
    "#OO..#....\"\"\"\n",
    ")\n",
    "\n",
    "\n",
    "def parse_data(data):\n",
    "    return np.array([list(line) for line in data.splitlines()])\n",
    "\n",
    "\n",
    "def print_data(data):\n",
    "    for line in data:\n",
    "        print(''.join(line))\n",
    "\n",
    "\n",
    "test_data = parse_data(test_data_raw)\n",
    "print_data(test_data)"
   ]
  },
  {
   "cell_type": "code",
   "execution_count": 23,
   "metadata": {},
   "outputs": [
    {
     "name": "stdout",
     "output_type": "stream",
     "text": [
      "OOOO.#.O..\n",
      "OO..#....#\n",
      "OO..O##..O\n",
      "O..#.OO...\n",
      "........#.\n",
      "..#....#.#\n",
      "..O..#.O.O\n",
      "..O.......\n",
      "#....###..\n",
      "#....#....\n"
     ]
    }
   ],
   "source": [
    "def get_tilted_arrray(array, direction=0):\n",
    "    SYMBOLS = (\"O\", \".\")\n",
    "    array_str = \"\".join(array)\n",
    "    tilted_array_str = \"#\".join([\n",
    "        SYMBOLS[direction] * subarr_str.count(SYMBOLS[direction]) + SYMBOLS[1 - direction] * subarr_str.count(SYMBOLS[1 - direction])\n",
    "        for subarr_str in array_str.split(\"#\")\n",
    "    ])\n",
    "    return list(tilted_array_str)\n",
    "\n",
    "\n",
    "def tilt(data, axis, direction):\n",
    "    arrays = []\n",
    "    for idx in range(data.shape[axis]):\n",
    "        array = np.take(data, idx, axis=axis)\n",
    "        tilted_array = get_tilted_arrray(array, direction)\n",
    "        arrays.append(tilted_array)\n",
    "    stack = np.row_stack if axis == 0 else np.column_stack\n",
    "    return stack(arrays)\n",
    "\n",
    "\n",
    "def tilt_north(data):\n",
    "    return tilt(data, 1, 0)\n",
    "\n",
    "\n",
    "print_data(tilt_north(test_data))"
   ]
  },
  {
   "cell_type": "code",
   "execution_count": 24,
   "metadata": {},
   "outputs": [
    {
     "data": {
      "text/plain": [
       "136"
      ]
     },
     "execution_count": 24,
     "metadata": {},
     "output_type": "execute_result"
    }
   ],
   "source": [
    "def get_total_load(tilted_data):\n",
    "    xs, _ = np.where(tilted_data == \"O\")\n",
    "    return (tilted_data.shape[0] - xs).sum()\n",
    "\n",
    "\n",
    "def part1(data):\n",
    "    return get_total_load(tilt_north(data))\n",
    "\n",
    "\n",
    "part1(test_data)"
   ]
  },
  {
   "cell_type": "code",
   "execution_count": 25,
   "metadata": {},
   "outputs": [
    {
     "name": "stdout",
     "output_type": "stream",
     "text": [
      "#....\n",
      "O....\n",
      ".....\n",
      ".OO..\n",
      "#....\n"
     ]
    }
   ],
   "source": [
    "with open(\"input.txt\") as f:\n",
    "    data = parse_data(f.read())\n",
    "\n",
    "print_data(data[:5, :5])"
   ]
  },
  {
   "cell_type": "code",
   "execution_count": 26,
   "metadata": {},
   "outputs": [
    {
     "data": {
      "text/plain": [
       "108144"
      ]
     },
     "execution_count": 26,
     "metadata": {},
     "output_type": "execute_result"
    }
   ],
   "source": [
    "part1(data)"
   ]
  },
  {
   "cell_type": "markdown",
   "metadata": {},
   "source": [
    "## Part 2\n",
    "\n",
    "The parabolic reflector dish deforms, but not in a way that focuses the beam. To do that, you'll need to move the rocks to the edges of the platform. Fortunately, a button on the side of the control panel labeled \"spin cycle\" attempts to do just that!\n",
    "\n",
    "Each cycle tilts the platform four times so that the rounded rocks roll north, then west, then south, then east. After each tilt, the rounded rocks roll as far as they can before the platform tilts in the next direction. After one cycle, the platform will have finished rolling the rounded rocks in those four directions in that order.\n",
    "\n",
    "Here's what happens in the example above after each of the first few cycles:\n",
    "\n",
    "```\n",
    "After 1 cycle:\n",
    ".....#....\n",
    "....#...O#\n",
    "...OO##...\n",
    ".OO#......\n",
    ".....OOO#.\n",
    ".O#...O#.#\n",
    "....O#....\n",
    "......OOOO\n",
    "#...O###..\n",
    "#..OO#....\n",
    "\n",
    "After 2 cycles:\n",
    ".....#....\n",
    "....#...O#\n",
    ".....##...\n",
    "..O#......\n",
    ".....OOO#.\n",
    ".O#...O#.#\n",
    "....O#...O\n",
    ".......OOO\n",
    "#..OO###..\n",
    "#.OOO#...O\n",
    "\n",
    "After 3 cycles:\n",
    ".....#....\n",
    "....#...O#\n",
    ".....##...\n",
    "..O#......\n",
    ".....OOO#.\n",
    ".O#...O#.#\n",
    "....O#...O\n",
    ".......OOO\n",
    "#...O###.O\n",
    "#.OOO#...O\n",
    "```\n",
    "\n",
    "This process should work if you leave it running long enough, but you're still worried about the north support beams. To make sure they'll survive for a while, you need to calculate the total load on the north support beams after `1000000000` cycles.\n",
    "\n",
    "In the above example, after `1000000000` cycles, the total load on the north support beams is `64`.\n",
    "\n",
    "Run the spin cycle for `1000000000` cycles. Afterward, what is the total load on the north support beams?"
   ]
  },
  {
   "cell_type": "code",
   "execution_count": 27,
   "metadata": {},
   "outputs": [
    {
     "name": "stdout",
     "output_type": "stream",
     "text": [
      ".....#....\n",
      "....#...O#\n",
      "...OO##...\n",
      ".OO#......\n",
      ".....OOO#.\n",
      ".O#...O#.#\n",
      "....O#....\n",
      "......OOOO\n",
      "#...O###..\n",
      "#..OO#....\n"
     ]
    }
   ],
   "source": [
    "def cycle(data):\n",
    "    for axis, direction in [(1, 0), (0, 0), (1, 1), (0, 1)]:\n",
    "        data = tilt(data, axis, direction)\n",
    "    return data\n",
    "\n",
    "\n",
    "print_data(cycle(test_data))"
   ]
  },
  {
   "cell_type": "code",
   "execution_count": 28,
   "metadata": {},
   "outputs": [
    {
     "data": {
      "text/plain": [
       "(2, 7)"
      ]
     },
     "execution_count": 28,
     "metadata": {},
     "output_type": "execute_result"
    }
   ],
   "source": [
    "def find_pattern(array):\n",
    "    start = 0 if len(array) % 2 == 0 else 1\n",
    "    for idx in range(start, len(array) - 2, 2):\n",
    "        pattern_len = (len(array) - idx) // 2\n",
    "        first = array[idx:idx + pattern_len]\n",
    "        second = array[idx + pattern_len:idx + 2 * pattern_len]\n",
    "        if np.all(first == second):\n",
    "            return idx, pattern_len\n",
    "    return 0, None\n",
    "\n",
    "\n",
    "find_pattern(np.array([87, 69, 69, 69, 65, 64, 65, 63, 68, 69, 69, 65, 64, 65, 63, 68]))"
   ]
  },
  {
   "cell_type": "code",
   "execution_count": 29,
   "metadata": {},
   "outputs": [
    {
     "data": {
      "text/plain": [
       "64"
      ]
     },
     "execution_count": 29,
     "metadata": {},
     "output_type": "execute_result"
    }
   ],
   "source": [
    "def part2(data, cycles=10**9):\n",
    "    loads = []\n",
    "    for _ in range(cycles):\n",
    "        data = cycle(data)\n",
    "        loads.append(get_total_load(data))\n",
    "        prefix, pattern_len = find_pattern(loads)\n",
    "        if pattern_len:\n",
    "            load_idx = (cycles - prefix) % pattern_len\n",
    "            return loads[prefix + load_idx - 1]\n",
    "    return get_total_load(data)\n",
    "\n",
    "\n",
    "part2(test_data)"
   ]
  },
  {
   "cell_type": "code",
   "execution_count": 30,
   "metadata": {},
   "outputs": [
    {
     "data": {
      "text/plain": [
       "108404"
      ]
     },
     "execution_count": 30,
     "metadata": {},
     "output_type": "execute_result"
    }
   ],
   "source": [
    "part2(data)"
   ]
  }
 ],
 "metadata": {
  "kernelspec": {
   "display_name": "aoc",
   "language": "python",
   "name": "python3"
  },
  "language_info": {
   "codemirror_mode": {
    "name": "ipython",
    "version": 3
   },
   "file_extension": ".py",
   "mimetype": "text/x-python",
   "name": "python",
   "nbconvert_exporter": "python",
   "pygments_lexer": "ipython3",
   "version": "3.11.1"
  }
 },
 "nbformat": 4,
 "nbformat_minor": 2
}
