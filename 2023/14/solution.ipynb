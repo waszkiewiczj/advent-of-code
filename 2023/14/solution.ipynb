{
 "cells": [
  {
   "cell_type": "code",
   "execution_count": 1,
   "metadata": {},
   "outputs": [
    {
     "name": "stdout",
     "output_type": "stream",
     "text": [
      "O....#....\n",
      "O.OO#....#\n",
      ".....##...\n",
      "OO.#O....O\n",
      ".O.....O#.\n",
      "O.#..O.#.#\n",
      "..O..#O..O\n",
      ".......O..\n",
      "#....###..\n",
      "#OO..#....\n"
     ]
    }
   ],
   "source": [
    "import numpy as np\n",
    "\n",
    "\n",
    "test_data_raw =(\n",
    "\"\"\"O....#....\n",
    "O.OO#....#\n",
    ".....##...\n",
    "OO.#O....O\n",
    ".O.....O#.\n",
    "O.#..O.#.#\n",
    "..O..#O..O\n",
    ".......O..\n",
    "#....###..\n",
    "#OO..#....\"\"\"\n",
    ")\n",
    "\n",
    "\n",
    "def parse_data(data):\n",
    "    return np.array([list(line) for line in data.splitlines()])\n",
    "\n",
    "\n",
    "def print_data(data):\n",
    "    for line in data:\n",
    "        print(''.join(line))\n",
    "\n",
    "\n",
    "test_data = parse_data(test_data_raw)\n",
    "print_data(test_data)"
   ]
  },
  {
   "cell_type": "code",
   "execution_count": 2,
   "metadata": {},
   "outputs": [
    {
     "name": "stdout",
     "output_type": "stream",
     "text": [
      "OOOO.#.O..\n",
      "OO..#....#\n",
      "OO..O##..O\n",
      "O..#.OO...\n",
      "........#.\n",
      "..#....#.#\n",
      "..O..#.O.O\n",
      "..O.......\n",
      "#....###..\n",
      "#....#....\n"
     ]
    }
   ],
   "source": [
    "def get_tilted_arrray(array, direction=0):\n",
    "    array_str = \"\".join(array)\n",
    "    first, last = (\"O\", \".\") if direction == 0 else (\".\", \"O\")\n",
    "    tilted_array_str = \"#\".join([\n",
    "        first * subarr_str.count(first) + last * subarr_str.count(last)\n",
    "        for subarr_str in array_str.split(\"#\")\n",
    "    ])\n",
    "    return list(tilted_array_str)\n",
    "\n",
    "\n",
    "def tilt(data, axis, direction):\n",
    "    arrays = []\n",
    "    for idx in range(data.shape[axis]):\n",
    "        idx_arr = np.array([idx])\n",
    "        array = np.take(data, idx, axis=axis)\n",
    "        tilted_array = get_tilted_arrray(array, direction)\n",
    "        arrays.append(tilted_array)\n",
    "    stack = np.row_stack if axis == 0 else np.column_stack\n",
    "    return stack(arrays)\n",
    "\n",
    "\n",
    "def tilt_north(data):\n",
    "    return tilt(data, 1, 0)\n",
    "\n",
    "\n",
    "print_data(tilt_north(test_data))"
   ]
  },
  {
   "cell_type": "code",
   "execution_count": 3,
   "metadata": {},
   "outputs": [
    {
     "data": {
      "text/plain": [
       "136"
      ]
     },
     "execution_count": 3,
     "metadata": {},
     "output_type": "execute_result"
    }
   ],
   "source": [
    "def get_total_load(tilted_data):\n",
    "    xs, _ = np.where(tilted_data == \"O\")\n",
    "    return (tilted_data.shape[0] - xs).sum()\n",
    "\n",
    "\n",
    "def part1(data):\n",
    "    return get_total_load(tilt_north(data))\n",
    "\n",
    "\n",
    "part1(test_data)"
   ]
  },
  {
   "cell_type": "code",
   "execution_count": 4,
   "metadata": {},
   "outputs": [
    {
     "name": "stdout",
     "output_type": "stream",
     "text": [
      "#....\n",
      "O....\n",
      ".....\n",
      ".OO..\n",
      "#....\n"
     ]
    }
   ],
   "source": [
    "with open(\"input.txt\") as f:\n",
    "    data = parse_data(f.read())\n",
    "\n",
    "print_data(data[:5, :5])"
   ]
  },
  {
   "cell_type": "code",
   "execution_count": 5,
   "metadata": {},
   "outputs": [
    {
     "data": {
      "text/plain": [
       "108144"
      ]
     },
     "execution_count": 5,
     "metadata": {},
     "output_type": "execute_result"
    }
   ],
   "source": [
    "part1(data)"
   ]
  },
  {
   "cell_type": "code",
   "execution_count": 6,
   "metadata": {},
   "outputs": [
    {
     "name": "stdout",
     "output_type": "stream",
     "text": [
      ".....#....\n",
      "....#...O#\n",
      "...OO##...\n",
      ".OO#......\n",
      ".....OOO#.\n",
      ".O#...O#.#\n",
      "....O#....\n",
      "......OOOO\n",
      "#...O###..\n",
      "#..OO#....\n"
     ]
    }
   ],
   "source": [
    "def cycle(data, n=1):\n",
    "    for axis, direction in [(1, 0), (0, 0), (1, 1), (0, 1)]:\n",
    "        data = tilt(data, axis, direction)\n",
    "    return data\n",
    "\n",
    "\n",
    "print_data(cycle(test_data))"
   ]
  },
  {
   "cell_type": "code",
   "execution_count": 10,
   "metadata": {},
   "outputs": [
    {
     "data": {
      "text/plain": [
       "(2, 7)"
      ]
     },
     "execution_count": 10,
     "metadata": {},
     "output_type": "execute_result"
    }
   ],
   "source": [
    "def find_pattern(array):\n",
    "    start = 0 if len(array) % 2 == 0 else 1\n",
    "    for idx in range(start, len(array) - 2, 2):\n",
    "        pattern_len = (len(array) - idx) // 2\n",
    "        first = array[idx:idx + pattern_len]\n",
    "        second = array[idx + pattern_len:idx + 2 * pattern_len]\n",
    "        if np.all(first == second):\n",
    "            return idx, pattern_len\n",
    "    return 0, None\n",
    "\n",
    "\n",
    "find_pattern(np.array([87, 69, 69, 69, 65, 64, 65, 63, 68, 69, 69, 65, 64, 65, 63, 68]))"
   ]
  },
  {
   "cell_type": "code",
   "execution_count": 19,
   "metadata": {},
   "outputs": [
    {
     "data": {
      "text/plain": [
       "64"
      ]
     },
     "execution_count": 19,
     "metadata": {},
     "output_type": "execute_result"
    }
   ],
   "source": [
    "def part2(data, cycles=10**9):\n",
    "    loads = []\n",
    "    for _ in range(cycles):\n",
    "        data = cycle(data)\n",
    "        loads.append(get_total_load(data))\n",
    "        prefix, pattern_len = find_pattern(loads)\n",
    "        if pattern_len:\n",
    "            load_idx = (cycles - prefix) % pattern_len\n",
    "            return loads[prefix + load_idx - 1]\n",
    "    return get_total_load(data)\n",
    "\n",
    "\n",
    "part2(test_data)"
   ]
  },
  {
   "cell_type": "code",
   "execution_count": 18,
   "metadata": {},
   "outputs": [
    {
     "data": {
      "text/plain": [
       "108404"
      ]
     },
     "execution_count": 18,
     "metadata": {},
     "output_type": "execute_result"
    }
   ],
   "source": [
    "part2(data)"
   ]
  }
 ],
 "metadata": {
  "kernelspec": {
   "display_name": "aoc",
   "language": "python",
   "name": "python3"
  },
  "language_info": {
   "codemirror_mode": {
    "name": "ipython",
    "version": 3
   },
   "file_extension": ".py",
   "mimetype": "text/x-python",
   "name": "python",
   "nbconvert_exporter": "python",
   "pygments_lexer": "ipython3",
   "version": "3.11.1"
  }
 },
 "nbformat": 4,
 "nbformat_minor": 2
}
