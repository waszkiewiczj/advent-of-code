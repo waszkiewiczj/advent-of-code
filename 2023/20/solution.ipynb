{
 "cells": [
  {
   "cell_type": "code",
   "execution_count": 320,
   "metadata": {},
   "outputs": [],
   "source": [
    "from abc import ABC, abstractmethod\n",
    "from enum import Enum\n",
    "from typing import List, Tuple\n",
    "\n",
    "\n",
    "class Pulse(Enum):\n",
    "    LOW = 0\n",
    "    HIGH = 1\n",
    "\n",
    "\n",
    "class Module(ABC):\n",
    "    def __init__(self, name: str, destination_modules = List[str]):\n",
    "        self.name = name\n",
    "        self.destination_modules = destination_modules\n",
    "\n",
    "    @abstractmethod\n",
    "    def get_hash(self) -> str:\n",
    "        ...\n",
    "\n",
    "    @abstractmethod\n",
    "    def handle_pulse(self, input_module: str, pulse: Pulse) -> List[Tuple[str, Pulse]]:\n",
    "        ...\n",
    "\n",
    "    def reset(self):\n",
    "        ...\n"
   ]
  },
  {
   "cell_type": "code",
   "execution_count": 321,
   "metadata": {},
   "outputs": [
    {
     "name": "stdout",
     "output_type": "stream",
     "text": [
      "flip[False]\n",
      "[]\n",
      "[('test_flip', <Pulse.HIGH: 1>, 'A'), ('test_flip', <Pulse.HIGH: 1>, 'B')]\n",
      "[('test_flip', <Pulse.LOW: 0>, 'A'), ('test_flip', <Pulse.LOW: 0>, 'B')]\n",
      "[]\n"
     ]
    }
   ],
   "source": [
    "class FlipFlopModule(Module):\n",
    "    def __init__(self, name: str, destination_modules: List[str]):\n",
    "        super().__init__(name, destination_modules)\n",
    "        self.active = False\n",
    "\n",
    "    def get_hash(self) -> str:\n",
    "        return f\"flip[{self.active}]\"\n",
    "\n",
    "    def handle_pulse(self, input_module: str, pulse: Pulse) -> List[Tuple[str, Pulse]]:\n",
    "        if pulse == Pulse.HIGH:\n",
    "            return []\n",
    "        \n",
    "        result_pulse = Pulse.LOW if self.active else Pulse.HIGH\n",
    "        self.active = not self.active\n",
    "        return [\n",
    "            (self.name, result_pulse, destination_module)\n",
    "            for destination_module in self.destination_modules\n",
    "        ]\n",
    "    \n",
    "    def reset(self):\n",
    "        self.active = False\n",
    "\n",
    "\n",
    "test_flip_flop_module = FlipFlopModule(\"test_flip\", ['A', 'B'])\n",
    "print(test_flip_flop_module.get_hash())\n",
    "print(test_flip_flop_module.handle_pulse('A', Pulse.HIGH))\n",
    "print(test_flip_flop_module.handle_pulse('A', Pulse.LOW))\n",
    "print(test_flip_flop_module.handle_pulse('A', Pulse.LOW))\n",
    "print(test_flip_flop_module.handle_pulse('A', Pulse.HIGH))"
   ]
  },
  {
   "cell_type": "code",
   "execution_count": 322,
   "metadata": {},
   "outputs": [
    {
     "name": "stdout",
     "output_type": "stream",
     "text": [
      "[('conjuction_test', <Pulse.LOW: 0>, 'A'), ('conjuction_test', <Pulse.LOW: 0>, 'B')]\n",
      "[('conjuction_test', <Pulse.HIGH: 1>, 'A'), ('conjuction_test', <Pulse.HIGH: 1>, 'B')]\n",
      "[('conjuction_test', <Pulse.LOW: 0>, 'A'), ('conjuction_test', <Pulse.LOW: 0>, 'B')]\n",
      "conjunction[A:1;B:1]\n"
     ]
    }
   ],
   "source": [
    "class ConjunctionModule(Module):\n",
    "    def __init__(self, name: str, destination_modules: List[str]):\n",
    "        super().__init__(name, destination_modules)\n",
    "        self.last_pulses = dict()\n",
    "\n",
    "    def get_hash(self) -> str:\n",
    "        return f\"conjunction[{';'.join(f'{module}:{int(pulse.value)}' for module, pulse in self.last_pulses.items())}]\"\n",
    "    \n",
    "    def add_link(self, input_module: str):\n",
    "        self.last_pulses[input_module] = Pulse.LOW\n",
    "\n",
    "    def handle_pulse(self, input_module: str, pulse: Pulse) -> List[Tuple[str, Pulse]]:\n",
    "        self.last_pulses[input_module] = pulse\n",
    "        response_pulse = Pulse.LOW if all(pulse == Pulse.HIGH for pulse in self.last_pulses.values()) else Pulse.HIGH\n",
    "        return [\n",
    "            (self.name, response_pulse, destination_module)\n",
    "            for destination_module in self.destination_modules\n",
    "        ]\n",
    "    \n",
    "    def reset(self):\n",
    "        for key in self.last_pulses:\n",
    "            self.last_pulses[key] = Pulse.LOW\n",
    "\n",
    "\n",
    "test_conjunction_module = ConjunctionModule(\"conjuction_test\", ['A', 'B'])\n",
    "print(test_conjunction_module.handle_pulse('A', Pulse.HIGH))\n",
    "print(test_conjunction_module.handle_pulse('B', Pulse.LOW))\n",
    "print(test_conjunction_module.handle_pulse('B', Pulse.HIGH))\n",
    "print(test_conjunction_module.get_hash())"
   ]
  },
  {
   "cell_type": "code",
   "execution_count": 323,
   "metadata": {},
   "outputs": [
    {
     "name": "stdout",
     "output_type": "stream",
     "text": [
      "broadcast\n",
      "[('test_broadcast', <Pulse.HIGH: 1>, 'A'), ('test_broadcast', <Pulse.HIGH: 1>, 'B')]\n",
      "[('test_broadcast', <Pulse.LOW: 0>, 'A'), ('test_broadcast', <Pulse.LOW: 0>, 'B')]\n"
     ]
    }
   ],
   "source": [
    "class BroadcastModule(Module):\n",
    "    def get_hash(self) -> str:\n",
    "        return \"broadcast\"\n",
    "\n",
    "    def handle_pulse(self, input_module: str, pulse: Pulse) -> List[Tuple[str, Pulse]]:\n",
    "        return [\n",
    "            (self.name, pulse, destination_module)\n",
    "            for destination_module in self.destination_modules\n",
    "        ]\n",
    "\n",
    "\n",
    "test_broadcast_module = BroadcastModule(\"test_broadcast\", ['A', 'B'])\n",
    "print(test_broadcast_module.get_hash())\n",
    "print(test_broadcast_module.handle_pulse('A', Pulse.HIGH))\n",
    "print(test_broadcast_module.handle_pulse('A', Pulse.LOW))"
   ]
  },
  {
   "cell_type": "code",
   "execution_count": 324,
   "metadata": {},
   "outputs": [
    {
     "name": "stdout",
     "output_type": "stream",
     "text": [
      "{'c': <Pulse.LOW: 0>}\n"
     ]
    },
    {
     "data": {
      "text/plain": [
       "{'broadcaster': <__main__.BroadcastModule at 0x7fb4754c1a50>,\n",
       " 'a': <__main__.FlipFlopModule at 0x7fb4754c0fd0>,\n",
       " 'b': <__main__.FlipFlopModule at 0x7fb4754c2710>,\n",
       " 'c': <__main__.FlipFlopModule at 0x7fb4754c1f90>,\n",
       " 'inv': <__main__.ConjunctionModule at 0x7fb4754c2390>}"
      ]
     },
     "execution_count": 324,
     "metadata": {},
     "output_type": "execute_result"
    }
   ],
   "source": [
    "test_data_raw = \"\"\"broadcaster -> a, b, c\n",
    "%a -> b\n",
    "%b -> c\n",
    "%c -> inv\n",
    "&inv -> a\n",
    "\"\"\"\n",
    "\n",
    "\n",
    "def parse_data(data_raw):\n",
    "    modules = dict()\n",
    "    \n",
    "    for line in data_raw.splitlines():\n",
    "        base_module_name, destination_modules_raw = line.split(\" -> \")\n",
    "        destination_modules = destination_modules_raw.split(\", \")\n",
    "        module_name = base_module_name.lstrip(\"%&\")\n",
    "        module = None\n",
    "        if base_module_name.startswith(\"%\"):\n",
    "            module = FlipFlopModule(module_name, destination_modules)\n",
    "        elif base_module_name.startswith(\"&\"):\n",
    "            module = ConjunctionModule(module_name, destination_modules)\n",
    "        elif base_module_name == \"broadcaster\":\n",
    "            module = BroadcastModule(module_name, destination_modules)\n",
    "        if module:\n",
    "            modules[module_name] = module\n",
    "\n",
    "    conjunction_module_names = {module_name for module_name, module in modules.items() if isinstance(module, ConjunctionModule)}\n",
    "\n",
    "    for module_name, module in modules.items():\n",
    "        for destination_module in module.destination_modules:\n",
    "            if destination_module in conjunction_module_names:\n",
    "                modules[destination_module].add_link(module_name)\n",
    "\n",
    "    return modules\n",
    "\n",
    "\n",
    "test_data = parse_data(test_data_raw)\n",
    "print(test_data[\"inv\"].last_pulses)\n",
    "test_data"
   ]
  },
  {
   "cell_type": "code",
   "execution_count": 325,
   "metadata": {},
   "outputs": [],
   "source": [
    "def reset_modules(modules):\n",
    "    for module in modules.values():\n",
    "        module.reset()"
   ]
  },
  {
   "cell_type": "code",
   "execution_count": 336,
   "metadata": {},
   "outputs": [
    {
     "name": "stdout",
     "output_type": "stream",
     "text": [
      "(4, 8)\n"
     ]
    }
   ],
   "source": [
    "class RXLowException(Exception):\n",
    "    ...\n",
    "\n",
    "\n",
    "def count_pulses(modules, pulses, except_rx_low=False):\n",
    "    if len(pulses) == 0:\n",
    "        return (0, 0)\n",
    "    \n",
    "    pulses_idx = 0\n",
    "    result = [0, 0]\n",
    "\n",
    "    # for caching\n",
    "    pulses_hash = \"-\".join([f\"{src_module_name}>{str(pulse.value)}>{dest_module_name}\" for src_module_name, pulse, dest_module_name in pulses])\n",
    "    modules_hash = \"-\".join(m.get_hash() for m in modules.values())\n",
    "    current_hash = f\"{pulses_hash}_{modules_hash}\"\n",
    "    \n",
    "    while pulses[pulses_idx][2] not in modules.keys():\n",
    "        if pulses[pulses_idx][1] == Pulse.LOW and pulses[pulses_idx][2] == \"rx\" and except_rx_low:\n",
    "            raise RXLowException()\n",
    "        result[int(pulses[pulses_idx][1] == Pulse.LOW)] += 1\n",
    "        pulses_idx += 1\n",
    "        if pulses_idx >= len(pulses):\n",
    "            return tuple(result)\n",
    "\n",
    "    src_module_name, pulse, dest_module_name = pulses[pulses_idx]\n",
    "    result[int(pulse == Pulse.LOW)] += 1\n",
    "\n",
    "    module = modules[dest_module_name]\n",
    "    new_pulses = module.handle_pulse(src_module_name, pulse)\n",
    "    new_result = count_pulses(modules, pulses[(pulses_idx + 1):] + new_pulses, except_rx_low)\n",
    "    result[0] += new_result[0]\n",
    "    result[1] += new_result[1]\n",
    "\n",
    "    return tuple(result)\n",
    "\n",
    "\n",
    "\n",
    "reset_modules(test_data)\n",
    "print(count_pulses(test_data, [(\"button\", Pulse.LOW, \"broadcaster\")]))"
   ]
  },
  {
   "cell_type": "code",
   "execution_count": 337,
   "metadata": {},
   "outputs": [
    {
     "data": {
      "text/plain": [
       "32000000"
      ]
     },
     "execution_count": 337,
     "metadata": {},
     "output_type": "execute_result"
    }
   ],
   "source": [
    "def part1(data, push_count=1000):\n",
    "    reset_modules(data)\n",
    "    cache = dict()\n",
    "    high_pulse_count, low_pulse_count = (0, 0)\n",
    "\n",
    "    for _ in range(push_count):\n",
    "        pulses = [(\"button\", Pulse.LOW, \"broadcaster\")]\n",
    "        current_high_pulse_count, current_low_pulse_count = count_pulses(data, pulses, cache)\n",
    "        high_pulse_count += current_high_pulse_count\n",
    "        low_pulse_count += current_low_pulse_count\n",
    "    \n",
    "    return high_pulse_count * low_pulse_count\n",
    "\n",
    "\n",
    "part1(test_data)"
   ]
  },
  {
   "cell_type": "code",
   "execution_count": 338,
   "metadata": {},
   "outputs": [
    {
     "data": {
      "text/plain": [
       "{'broadcaster': <__main__.BroadcastModule at 0x7fb45ca00050>,\n",
       " 'a': <__main__.FlipFlopModule at 0x7fb45ca00ed0>,\n",
       " 'inv': <__main__.ConjunctionModule at 0x7fb45ca03e50>,\n",
       " 'b': <__main__.FlipFlopModule at 0x7fb45ca01250>,\n",
       " 'con': <__main__.ConjunctionModule at 0x7fb45ca01350>}"
      ]
     },
     "execution_count": 338,
     "metadata": {},
     "output_type": "execute_result"
    }
   ],
   "source": [
    "test_data2_raw = \"\"\"broadcaster -> a\n",
    "%a -> inv, con\n",
    "&inv -> b\n",
    "%b -> con\n",
    "&con -> output\"\"\"\n",
    "\n",
    "test_data2 = parse_data(test_data2_raw)\n",
    "\n",
    "test_data2"
   ]
  },
  {
   "cell_type": "code",
   "execution_count": 339,
   "metadata": {},
   "outputs": [
    {
     "data": {
      "text/plain": [
       "11687500"
      ]
     },
     "execution_count": 339,
     "metadata": {},
     "output_type": "execute_result"
    }
   ],
   "source": [
    "part1(test_data2)"
   ]
  },
  {
   "cell_type": "code",
   "execution_count": 243,
   "metadata": {},
   "outputs": [
    {
     "data": {
      "text/plain": [
       "<__main__.BroadcastModule at 0x7fb4750d29d0>"
      ]
     },
     "execution_count": 243,
     "metadata": {},
     "output_type": "execute_result"
    }
   ],
   "source": [
    "with open('input.txt') as f:\n",
    "    data = parse_data(f.read())\n",
    "\n",
    "data[\"broadcaster\"]"
   ]
  },
  {
   "cell_type": "code",
   "execution_count": 340,
   "metadata": {},
   "outputs": [
    {
     "data": {
      "text/plain": [
       "938065580"
      ]
     },
     "execution_count": 340,
     "metadata": {},
     "output_type": "execute_result"
    }
   ],
   "source": [
    "part1(data)"
   ]
  },
  {
   "cell_type": "code",
   "execution_count": 341,
   "metadata": {},
   "outputs": [
    {
     "data": {
      "text/plain": [
       "{'broadcaster': <__main__.BroadcastModule at 0x7fb45c9fad10>,\n",
       " 'a': <__main__.FlipFlopModule at 0x7fb45c9f9490>,\n",
       " 'inv': <__main__.ConjunctionModule at 0x7fb45c9f8e10>,\n",
       " 'b': <__main__.FlipFlopModule at 0x7fb45c9fa190>,\n",
       " 'con': <__main__.ConjunctionModule at 0x7fb45c9fbd90>}"
      ]
     },
     "execution_count": 341,
     "metadata": {},
     "output_type": "execute_result"
    }
   ],
   "source": [
    "test_data3_raw = \"\"\"broadcaster -> a\n",
    "%a -> inv, con\n",
    "&inv -> b\n",
    "%b -> con\n",
    "&con -> rx\"\"\"\n",
    "\n",
    "test_data3 = parse_data(test_data3_raw)\n",
    "test_data3"
   ]
  },
  {
   "cell_type": "code",
   "execution_count": 343,
   "metadata": {},
   "outputs": [
    {
     "data": {
      "text/plain": [
       "1"
      ]
     },
     "execution_count": 343,
     "metadata": {},
     "output_type": "execute_result"
    }
   ],
   "source": [
    "def part2(data):\n",
    "    reset_modules(data)\n",
    "    presses = 0\n",
    "    while True:\n",
    "        presses += 1\n",
    "        pulses = [(\"button\", Pulse.LOW, \"broadcaster\")]\n",
    "        try:\n",
    "            count_pulses(data, pulses, except_rx_low=True)\n",
    "        except RXLowException:\n",
    "            return presses\n",
    "\n",
    "\n",
    "part2(test_data3)"
   ]
  }
 ],
 "metadata": {
  "kernelspec": {
   "display_name": "aoc",
   "language": "python",
   "name": "python3"
  },
  "language_info": {
   "codemirror_mode": {
    "name": "ipython",
    "version": 3
   },
   "file_extension": ".py",
   "mimetype": "text/x-python",
   "name": "python",
   "nbconvert_exporter": "python",
   "pygments_lexer": "ipython3",
   "version": "3.11.1"
  }
 },
 "nbformat": 4,
 "nbformat_minor": 2
}
