{
 "cells": [
  {
   "cell_type": "markdown",
   "metadata": {},
   "source": [
    "# Day 13: Point of Incidence"
   ]
  },
  {
   "cell_type": "markdown",
   "metadata": {},
   "source": [
    "## Part 1\n",
    "\n",
    "With your help, the hot springs team locates an appropriate spring which launches you neatly and precisely up to the edge of Lava Island.\n",
    "\n",
    "There's just one problem: you don't see any lava.\n",
    "\n",
    "You do see a lot of ash and igneous rock; there are even what look like gray mountains scattered around. After a while, you make your way to a nearby cluster of mountains only to discover that the valley between them is completely full of large mirrors. Most of the mirrors seem to be aligned in a consistent way; perhaps you should head in that direction?\n",
    "\n",
    "As you move through the valley of mirrors, you find that several of them have fallen from the large metal frames keeping them in place. The mirrors are extremely flat and shiny, and many of the fallen mirrors have lodged into the ash at strange angles. Because the terrain is all one color, it's hard to tell where it's safe to walk or where you're about to run into a mirror.\n",
    "\n",
    "You note down the patterns of ash (`.`) and rocks (`#`) that you see as you walk (your puzzle input); perhaps by carefully analyzing these patterns, you can figure out where the mirrors are!\n",
    "\n",
    "For example:\n",
    "\n",
    "```\n",
    "#.##..##.\n",
    "..#.##.#.\n",
    "##......#\n",
    "##......#\n",
    "..#.##.#.\n",
    "..##..##.\n",
    "#.#.##.#.\n",
    "\n",
    "#...##..#\n",
    "#....#..#\n",
    "..##..###\n",
    "#####.##.\n",
    "#####.##.\n",
    "..##..###\n",
    "#....#..#\n",
    "```\n",
    "\n",
    "To find the reflection in each pattern, you need to find a perfect reflection across either a horizontal line between two rows or across a vertical line between two columns.\n",
    "\n",
    "In the first pattern, the reflection is across a vertical line between two columns; arrows on each of the two columns point at the line between the columns:\n",
    "\n",
    "```\n",
    "123456789\n",
    "    ><   \n",
    "#.##..##.\n",
    "..#.##.#.\n",
    "##......#\n",
    "##......#\n",
    "..#.##.#.\n",
    "..##..##.\n",
    "#.#.##.#.\n",
    "    ><   \n",
    "123456789\n",
    "```\n",
    "\n",
    "In this pattern, the line of reflection is the vertical line between columns 5 and 6. Because the vertical line is not perfectly in the middle of the pattern, part of the pattern (column 1) has nowhere to reflect onto and can be ignored; every other column has a reflected column within the pattern and must match exactly: column 2 matches column 9, column 3 matches 8, 4 matches 7, and 5 matches 6.\n",
    "\n",
    "The second pattern reflects across a horizontal line instead:\n",
    "\n",
    "```\n",
    "1 #...##..# 1\n",
    "2 #....#..# 2\n",
    "3 ..##..### 3\n",
    "4v#####.##.v4\n",
    "5^#####.##.^5\n",
    "6 ..##..### 6\n",
    "7 #....#..# 7\n",
    "```\n",
    "\n",
    "This pattern reflects across the horizontal line between rows 4 and 5. Row 1 would reflect with a hypothetical row 8, but since that's not in the pattern, row 1 doesn't need to match anything. The remaining rows match: row 2 matches row 7, row 3 matches row 6, and row 4 matches row 5.\n",
    "\n",
    "To summarize your pattern notes, add up the number of columns to the left of each vertical line of reflection; to that, also add 100 multiplied by the number of rows above each horizontal line of reflection. In the above example, the first pattern's vertical line has `5` columns to its left and the second pattern's horizontal line has `4` rows above it, a total of `405`.\n",
    "\n",
    "Find the line of reflection in each of the patterns in your"
   ]
  },
  {
   "cell_type": "code",
   "execution_count": 5,
   "metadata": {},
   "outputs": [
    {
     "data": {
      "text/plain": [
       "[array([['#', '.', '#', '#', '.', '.', '#', '#', '.'],\n",
       "        ['.', '.', '#', '.', '#', '#', '.', '#', '.'],\n",
       "        ['#', '#', '.', '.', '.', '.', '.', '.', '#'],\n",
       "        ['#', '#', '.', '.', '.', '.', '.', '.', '#'],\n",
       "        ['.', '.', '#', '.', '#', '#', '.', '#', '.'],\n",
       "        ['.', '.', '#', '#', '.', '.', '#', '#', '.'],\n",
       "        ['#', '.', '#', '.', '#', '#', '.', '#', '.']], dtype='<U1'),\n",
       " array([['#', '.', '.', '.', '#', '#', '.', '.', '#'],\n",
       "        ['#', '.', '.', '.', '.', '#', '.', '.', '#'],\n",
       "        ['.', '.', '#', '#', '.', '.', '#', '#', '#'],\n",
       "        ['#', '#', '#', '#', '#', '.', '#', '#', '.'],\n",
       "        ['#', '#', '#', '#', '#', '.', '#', '#', '.'],\n",
       "        ['.', '.', '#', '#', '.', '.', '#', '#', '#'],\n",
       "        ['#', '.', '.', '.', '.', '#', '.', '.', '#']], dtype='<U1')]"
      ]
     },
     "execution_count": 5,
     "metadata": {},
     "output_type": "execute_result"
    }
   ],
   "source": [
    "import numpy as np\n",
    "\n",
    "\n",
    "test_data_raw = (\n",
    "\"\"\"#.##..##.\n",
    "..#.##.#.\n",
    "##......#\n",
    "##......#\n",
    "..#.##.#.\n",
    "..##..##.\n",
    "#.#.##.#.\n",
    "\n",
    "#...##..#\n",
    "#....#..#\n",
    "..##..###\n",
    "#####.##.\n",
    "#####.##.\n",
    "..##..###\n",
    "#....#..#\"\"\"\n",
    ")\n",
    "\n",
    "\n",
    "def parse_data(data):\n",
    "    return [\n",
    "        np.array([list(row) for row in matrix.splitlines()])\n",
    "        for matrix in data.split(\"\\n\\n\")\n",
    "    ]\n",
    "\n",
    "\n",
    "test_data = parse_data(test_data_raw)\n",
    "test_data"
   ]
  },
  {
   "cell_type": "code",
   "execution_count": 112,
   "metadata": {},
   "outputs": [
    {
     "name": "stdout",
     "output_type": "stream",
     "text": [
      "5\n",
      "4\n"
     ]
    }
   ],
   "source": [
    "def get_reflections(matrix, axis=0):\n",
    "    for idx in range(1, matrix.shape[axis]):\n",
    "        size = min(idx, matrix.shape[axis] - idx)\n",
    "        first = matrix.take(range(idx - size, idx), axis=axis)\n",
    "        second = matrix.take(range(idx + size - 1, idx - 1, -1), axis=axis)\n",
    "        yield idx, first, second\n",
    "\n",
    "\n",
    "def find_reflection(matrix, axis=0):\n",
    "    for idx, first, second in get_reflections(matrix, axis=axis):\n",
    "        if np.all(first == second):\n",
    "            return idx\n",
    "    return None\n",
    "\n",
    "\n",
    "print(find_reflection(test_data[0], axis=1))\n",
    "print(find_reflection(test_data[1], axis=0))"
   ]
  },
  {
   "cell_type": "code",
   "execution_count": 121,
   "metadata": {},
   "outputs": [
    {
     "data": {
      "text/plain": [
       "405"
      ]
     },
     "execution_count": 121,
     "metadata": {},
     "output_type": "execute_result"
    }
   ],
   "source": [
    "def summarize(matrixes, reflection_func):\n",
    "    result = [0, 0]\n",
    "    for matrix in matrixes:\n",
    "        for axis in range(2):\n",
    "            reflection = reflection_func(matrix, axis=axis)\n",
    "            if reflection is not None:\n",
    "                result[axis] += reflection\n",
    "    return result[0] * 100 + result[1]\n",
    "\n",
    "def part1(data):\n",
    "    return summarize(data, find_reflection)\n",
    "\n",
    "part1(test_data)"
   ]
  },
  {
   "cell_type": "code",
   "execution_count": 122,
   "metadata": {},
   "outputs": [
    {
     "data": {
      "text/plain": [
       "array([['.', '.', '.', '.', '.', '.', '.', '#', '.', '#', '#', '#', '#'],\n",
       "       ['#', '.', '.', '#', '.', '#', '#', '.', '#', '#', '#', '#', '#'],\n",
       "       ['.', '#', '.', '.', '.', '#', '.', '.', '#', '.', '.', '.', '.'],\n",
       "       ['#', '.', '.', '#', '.', '#', '#', '#', '.', '.', '.', '.', '.'],\n",
       "       ['.', '#', '#', '.', '#', '.', '.', '#', '#', '.', '#', '#', '.'],\n",
       "       ['#', '#', '#', '#', '#', '.', '#', '.', '.', '#', '#', '#', '#'],\n",
       "       ['.', '.', '.', '.', '#', '#', '#', '#', '#', '#', '.', '.', '#']],\n",
       "      dtype='<U1')"
      ]
     },
     "execution_count": 122,
     "metadata": {},
     "output_type": "execute_result"
    }
   ],
   "source": [
    "with open(\"input.txt\") as f:\n",
    "    data = parse_data(f.read())\n",
    "\n",
    "data[0]"
   ]
  },
  {
   "cell_type": "code",
   "execution_count": 123,
   "metadata": {},
   "outputs": [
    {
     "data": {
      "text/plain": [
       "32723"
      ]
     },
     "execution_count": 123,
     "metadata": {},
     "output_type": "execute_result"
    }
   ],
   "source": [
    "part1(data)"
   ]
  },
  {
   "cell_type": "markdown",
   "metadata": {},
   "source": [
    "## Part 2\n",
    "\n",
    "You resume walking through the valley of mirrors and - SMACK! - run directly into one. Hopefully nobody was watching, because that must have been pretty embarrassing.\n",
    "\n",
    "Upon closer inspection, you discover that every mirror has exactly one smudge: exactly one `.` or `#` should be the opposite type.\n",
    "\n",
    "In each pattern, you'll need to locate and fix the smudge that causes a different reflection line to be valid. (The old reflection line won't necessarily continue being valid after the smudge is fixed.)\n",
    "\n",
    "Here's the above example again:\n",
    "\n",
    "```\n",
    "#.##..##.\n",
    "..#.##.#.\n",
    "##......#\n",
    "##......#\n",
    "..#.##.#.\n",
    "..##..##.\n",
    "#.#.##.#.\n",
    "\n",
    "#...##..#\n",
    "#....#..#\n",
    "..##..###\n",
    "#####.##.\n",
    "#####.##.\n",
    "..##..###\n",
    "#....#..#\n",
    "```\n",
    "\n",
    "The first pattern's smudge is in the top-left corner. If the top-left `#` were instead `.`, it would have a different, horizontal line of reflection:\n",
    "\n",
    "```\n",
    "1 ..##..##. 1\n",
    "2 ..#.##.#. 2\n",
    "3v##......#v3\n",
    "4^##......#^4\n",
    "5 ..#.##.#. 5\n",
    "6 ..##..##. 6\n",
    "7 #.#.##.#. 7\n",
    "```\n",
    "\n",
    "With the smudge in the top-left corner repaired, a new horizontal line of reflection between rows 3 and 4 now exists. Row 7 has no corresponding reflected row and can be ignored, but every other row matches exactly: row 1 matches row 6, row 2 matches row 5, and row 3 matches row 4.\n",
    "\n",
    "In the second pattern, the smudge can be fixed by changing the fifth symbol on row 2 from `.` to `#`:\n",
    "\n",
    "```\n",
    "1v#...##..#v1\n",
    "2^#...##..#^2\n",
    "3 ..##..### 3\n",
    "4 #####.##. 4\n",
    "5 #####.##. 5\n",
    "6 ..##..### 6\n",
    "7 #....#..# 7\n",
    "```\n",
    "\n",
    "Now, the pattern has a different horizontal line of reflection between rows 1 and 2.\n",
    "\n",
    "Summarize your notes as before, but instead use the new different reflection lines. In this example, the first pattern's new horizontal line has 3 rows above it and the second pattern's new horizontal line has 1 row above it, summarizing to the value `400`.\n",
    "\n",
    "In each pattern, fix the smudge and find the different line of reflection. What number do you get after summarizing the new reflection line in each pattern in your notes?"
   ]
  },
  {
   "cell_type": "code",
   "execution_count": 124,
   "metadata": {},
   "outputs": [
    {
     "name": "stdout",
     "output_type": "stream",
     "text": [
      "3\n",
      "1\n"
     ]
    }
   ],
   "source": [
    "def find_smuge(matrix, axis=0):\n",
    "    for idx, first, second in get_reflections(matrix, axis=axis):\n",
    "        diff = (first != second)\n",
    "        if diff.sum() == 1:\n",
    "            return idx\n",
    "    return None\n",
    "\n",
    "\n",
    "print(find_smuge(test_data[0], axis=0))\n",
    "print(find_smuge(test_data[1], axis=0))"
   ]
  },
  {
   "cell_type": "code",
   "execution_count": 125,
   "metadata": {},
   "outputs": [
    {
     "data": {
      "text/plain": [
       "400"
      ]
     },
     "execution_count": 125,
     "metadata": {},
     "output_type": "execute_result"
    }
   ],
   "source": [
    "def part2(data):\n",
    "    return summarize(data, find_smuge)\n",
    "\n",
    "\n",
    "part2(test_data)"
   ]
  },
  {
   "cell_type": "code",
   "execution_count": 126,
   "metadata": {},
   "outputs": [
    {
     "data": {
      "text/plain": [
       "34536"
      ]
     },
     "execution_count": 126,
     "metadata": {},
     "output_type": "execute_result"
    }
   ],
   "source": [
    "part2(data)"
   ]
  }
 ],
 "metadata": {
  "kernelspec": {
   "display_name": "aoc",
   "language": "python",
   "name": "python3"
  },
  "language_info": {
   "codemirror_mode": {
    "name": "ipython",
    "version": 3
   },
   "file_extension": ".py",
   "mimetype": "text/x-python",
   "name": "python",
   "nbconvert_exporter": "python",
   "pygments_lexer": "ipython3",
   "version": "3.11.1"
  }
 },
 "nbformat": 4,
 "nbformat_minor": 2
}
