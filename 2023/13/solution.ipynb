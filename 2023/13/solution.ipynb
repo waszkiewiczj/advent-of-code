{
 "cells": [
  {
   "cell_type": "code",
   "execution_count": 5,
   "metadata": {},
   "outputs": [
    {
     "data": {
      "text/plain": [
       "[array([['#', '.', '#', '#', '.', '.', '#', '#', '.'],\n",
       "        ['.', '.', '#', '.', '#', '#', '.', '#', '.'],\n",
       "        ['#', '#', '.', '.', '.', '.', '.', '.', '#'],\n",
       "        ['#', '#', '.', '.', '.', '.', '.', '.', '#'],\n",
       "        ['.', '.', '#', '.', '#', '#', '.', '#', '.'],\n",
       "        ['.', '.', '#', '#', '.', '.', '#', '#', '.'],\n",
       "        ['#', '.', '#', '.', '#', '#', '.', '#', '.']], dtype='<U1'),\n",
       " array([['#', '.', '.', '.', '#', '#', '.', '.', '#'],\n",
       "        ['#', '.', '.', '.', '.', '#', '.', '.', '#'],\n",
       "        ['.', '.', '#', '#', '.', '.', '#', '#', '#'],\n",
       "        ['#', '#', '#', '#', '#', '.', '#', '#', '.'],\n",
       "        ['#', '#', '#', '#', '#', '.', '#', '#', '.'],\n",
       "        ['.', '.', '#', '#', '.', '.', '#', '#', '#'],\n",
       "        ['#', '.', '.', '.', '.', '#', '.', '.', '#']], dtype='<U1')]"
      ]
     },
     "execution_count": 5,
     "metadata": {},
     "output_type": "execute_result"
    }
   ],
   "source": [
    "import numpy as np\n",
    "\n",
    "\n",
    "test_data_raw = (\n",
    "\"\"\"#.##..##.\n",
    "..#.##.#.\n",
    "##......#\n",
    "##......#\n",
    "..#.##.#.\n",
    "..##..##.\n",
    "#.#.##.#.\n",
    "\n",
    "#...##..#\n",
    "#....#..#\n",
    "..##..###\n",
    "#####.##.\n",
    "#####.##.\n",
    "..##..###\n",
    "#....#..#\"\"\"\n",
    ")\n",
    "\n",
    "\n",
    "def parse_data(data):\n",
    "    return [\n",
    "        np.array([list(row) for row in matrix.splitlines()])\n",
    "        for matrix in data.split(\"\\n\\n\")\n",
    "    ]\n",
    "\n",
    "\n",
    "test_data = parse_data(test_data_raw)\n",
    "test_data"
   ]
  },
  {
   "cell_type": "code",
   "execution_count": 112,
   "metadata": {},
   "outputs": [
    {
     "name": "stdout",
     "output_type": "stream",
     "text": [
      "5\n",
      "4\n"
     ]
    }
   ],
   "source": [
    "def get_reflections(matrix, axis=0):\n",
    "    for idx in range(1, matrix.shape[axis]):\n",
    "        size = min(idx, matrix.shape[axis] - idx)\n",
    "        first = matrix.take(range(idx - size, idx), axis=axis)\n",
    "        second = matrix.take(range(idx + size - 1, idx - 1, -1), axis=axis)\n",
    "        yield idx, first, second\n",
    "\n",
    "\n",
    "def find_reflection(matrix, axis=0):\n",
    "    for idx, first, second in get_reflections(matrix, axis=axis):\n",
    "        if np.all(first == second):\n",
    "            return idx\n",
    "    return None\n",
    "\n",
    "\n",
    "print(find_reflection(test_data[0], axis=1))\n",
    "print(find_reflection(test_data[1], axis=0))"
   ]
  },
  {
   "cell_type": "code",
   "execution_count": 121,
   "metadata": {},
   "outputs": [
    {
     "data": {
      "text/plain": [
       "405"
      ]
     },
     "execution_count": 121,
     "metadata": {},
     "output_type": "execute_result"
    }
   ],
   "source": [
    "def summarize(matrixes, reflection_func):\n",
    "    result = [0, 0]\n",
    "    for matrix in matrixes:\n",
    "        for axis in range(2):\n",
    "            reflection = reflection_func(matrix, axis=axis)\n",
    "            if reflection is not None:\n",
    "                result[axis] += reflection\n",
    "    return result[0] * 100 + result[1]\n",
    "\n",
    "def part1(data):\n",
    "    return summarize(data, find_reflection)\n",
    "\n",
    "part1(test_data)"
   ]
  },
  {
   "cell_type": "code",
   "execution_count": 122,
   "metadata": {},
   "outputs": [
    {
     "data": {
      "text/plain": [
       "array([['.', '.', '.', '.', '.', '.', '.', '#', '.', '#', '#', '#', '#'],\n",
       "       ['#', '.', '.', '#', '.', '#', '#', '.', '#', '#', '#', '#', '#'],\n",
       "       ['.', '#', '.', '.', '.', '#', '.', '.', '#', '.', '.', '.', '.'],\n",
       "       ['#', '.', '.', '#', '.', '#', '#', '#', '.', '.', '.', '.', '.'],\n",
       "       ['.', '#', '#', '.', '#', '.', '.', '#', '#', '.', '#', '#', '.'],\n",
       "       ['#', '#', '#', '#', '#', '.', '#', '.', '.', '#', '#', '#', '#'],\n",
       "       ['.', '.', '.', '.', '#', '#', '#', '#', '#', '#', '.', '.', '#']],\n",
       "      dtype='<U1')"
      ]
     },
     "execution_count": 122,
     "metadata": {},
     "output_type": "execute_result"
    }
   ],
   "source": [
    "with open(\"input.txt\") as f:\n",
    "    data = parse_data(f.read())\n",
    "\n",
    "data[0]"
   ]
  },
  {
   "cell_type": "code",
   "execution_count": 123,
   "metadata": {},
   "outputs": [
    {
     "data": {
      "text/plain": [
       "32723"
      ]
     },
     "execution_count": 123,
     "metadata": {},
     "output_type": "execute_result"
    }
   ],
   "source": [
    "part1(data)"
   ]
  },
  {
   "cell_type": "code",
   "execution_count": 124,
   "metadata": {},
   "outputs": [
    {
     "name": "stdout",
     "output_type": "stream",
     "text": [
      "3\n",
      "1\n"
     ]
    }
   ],
   "source": [
    "def find_smuge(matrix, axis=0):\n",
    "    for idx, first, second in get_reflections(matrix, axis=axis):\n",
    "        diff = (first != second)\n",
    "        if diff.sum() == 1:\n",
    "            return idx\n",
    "    return None\n",
    "\n",
    "\n",
    "print(find_smuge(test_data[0], axis=0))\n",
    "print(find_smuge(test_data[1], axis=0))"
   ]
  },
  {
   "cell_type": "code",
   "execution_count": 125,
   "metadata": {},
   "outputs": [
    {
     "data": {
      "text/plain": [
       "400"
      ]
     },
     "execution_count": 125,
     "metadata": {},
     "output_type": "execute_result"
    }
   ],
   "source": [
    "def part2(data):\n",
    "    return summarize(data, find_smuge)\n",
    "\n",
    "\n",
    "part2(test_data)"
   ]
  },
  {
   "cell_type": "code",
   "execution_count": 126,
   "metadata": {},
   "outputs": [
    {
     "data": {
      "text/plain": [
       "34536"
      ]
     },
     "execution_count": 126,
     "metadata": {},
     "output_type": "execute_result"
    }
   ],
   "source": [
    "part2(data)"
   ]
  }
 ],
 "metadata": {
  "kernelspec": {
   "display_name": "aoc",
   "language": "python",
   "name": "python3"
  },
  "language_info": {
   "codemirror_mode": {
    "name": "ipython",
    "version": 3
   },
   "file_extension": ".py",
   "mimetype": "text/x-python",
   "name": "python",
   "nbconvert_exporter": "python",
   "pygments_lexer": "ipython3",
   "version": "3.11.1"
  }
 },
 "nbformat": 4,
 "nbformat_minor": 2
}
