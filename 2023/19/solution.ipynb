{
 "cells": [
  {
   "cell_type": "markdown",
   "metadata": {},
   "source": [
    "# Day 19: Aplenty"
   ]
  },
  {
   "cell_type": "markdown",
   "metadata": {},
   "source": [
    "## Part 1\n",
    "\n",
    "The Elves of Gear Island are thankful for your help and send you on your way. They even have a hang glider that someone stole from Desert Island; since you're already going that direction, it would help them a lot if you would use it to get down there and return it to them.\n",
    "\n",
    "As you reach the bottom of the relentless avalanche of machine parts, you discover that they're already forming a formidable heap. Don't worry, though - a group of Elves is already here organizing the parts, and they have a system.\n",
    "\n",
    "To start, each part is rated in each of four categories:\n",
    "\n",
    "- `x`: Extremely cool looking\n",
    "- `m`: Musical (it makes a noise when you hit it)\n",
    "- `a`: Aerodynamic\n",
    "- `s`: Shiny\n",
    "\n",
    "Then, each part is sent through a series of workflows that will ultimately accept or reject the part. Each workflow has a name and contains a list of rules; each rule specifies a condition and where to send the part if the condition is true. The first rule that matches the part being considered is applied immediately, and the part moves on to the destination described by the rule. (The last rule in each workflow has no condition and always applies if reached.)\n",
    "\n",
    "Consider the workflow `ex{x>10:one,m<20:two,a>30:R,A}`. This workflow is named ex and contains four rules. If workflow ex were considering a specific part, it would perform the following steps in order:\n",
    "\n",
    "- Rule \"`x>10:one`\": If the part's x is more than 10, send the part to the workflow named one.\n",
    "- Rule \"`m<20:two`\": Otherwise, if the part's m is less than 20, send the part to the workflow named two.\n",
    "- Rule \"`a>30:R`\": Otherwise, if the part's a is more than 30, the part is immediately rejected (R).\n",
    "- Rule \"`A`\": Otherwise, because no other rules matched the part, the part is immediately accepted (A).\n",
    "\n",
    "If a part is sent to another workflow, it immediately switches to the start of that workflow instead and never returns. If a part is accepted (sent to `A`) or rejected (sent to `R`), the part immediately stops any further processing.\n",
    "\n",
    "The system works, but it's not keeping up with the torrent of weird metal shapes. The Elves ask if you can help sort a few parts and give you the list of workflows and some part ratings (your puzzle input). For example:\n",
    "\n",
    "```\n",
    "px{a<2006:qkq,m>2090:A,rfg}\n",
    "pv{a>1716:R,A}\n",
    "lnx{m>1548:A,A}\n",
    "rfg{s<537:gd,x>2440:R,A}\n",
    "qs{s>3448:A,lnx}\n",
    "qkq{x<1416:A,crn}\n",
    "crn{x>2662:A,R}\n",
    "in{s<1351:px,qqz}\n",
    "qqz{s>2770:qs,m<1801:hdj,R}\n",
    "gd{a>3333:R,R}\n",
    "hdj{m>838:A,pv}\n",
    "\n",
    "{x=787,m=2655,a=1222,s=2876}\n",
    "{x=1679,m=44,a=2067,s=496}\n",
    "{x=2036,m=264,a=79,s=2244}\n",
    "{x=2461,m=1339,a=466,s=291}\n",
    "{x=2127,m=1623,a=2188,s=1013}\n",
    "```\n",
    "\n",
    "The workflows are listed first, followed by a blank line, then the ratings of the parts the Elves would like you to sort. All parts begin in the workflow named in. In this example, the five listed parts go through the following workflows:\n",
    "\n",
    "- `{x=787,m=2655,a=1222,s=2876}`: `in` -> `qqz` -> `qs` -> `lnx` -> `A`\n",
    "- `{x=1679,m=44,a=2067,s=496}`: `in` -> `px` -> `rfg` -> `gd` -> `R`\n",
    "- `{x=2036,m=264,a=79,s=2244}`: `in` -> `qqz` -> `hdj` -> `pv` -> `A`\n",
    "- `{x=2461,m=1339,a=466,s=291}`: `in` -> `px` -> `qkq` -> `crn` -> `R`\n",
    "- `{x=2127,m=1623,a=2188,s=1013}`: `in` -> `px` -> `rfg` -> `A`\n",
    "\n",
    "Ultimately, three parts are accepted. Adding up the `x`, `m`, `a`, and `s` rating for each of the accepted parts gives `7540` for the part with `x=787`, `4623` for the part with `x=2036`, and `6951` for the part with `x=2127`. Adding all of the ratings for all of the accepted parts gives the sum total of `19114`.\n",
    "\n",
    "Sort through all of the parts you've been given; what do you get if you add together all of the rating numbers for all of the parts that ultimately get accepted?\n",
    "\n"
   ]
  },
  {
   "cell_type": "code",
   "execution_count": 59,
   "metadata": {},
   "outputs": [
    {
     "data": {
      "text/plain": [
       "Part(x=787, m=2655, a=1222, s=2876)"
      ]
     },
     "execution_count": 59,
     "metadata": {},
     "output_type": "execute_result"
    }
   ],
   "source": [
    "from __future__ import annotations\n",
    "from dataclasses import dataclass\n",
    "\n",
    "\n",
    "@dataclass\n",
    "class Part:\n",
    "    x: int\n",
    "    m: int\n",
    "    a: int\n",
    "    s: int\n",
    "\n",
    "    @staticmethod\n",
    "    def from_raw(raw: str) -> Part:\n",
    "        raw = f\"dict({raw[1:-1]})\"\n",
    "        data = eval(raw)\n",
    "        return Part(**data)\n",
    "\n",
    "\n",
    "Part.from_raw(\"{x=787,m=2655,a=1222,s=2876}\")"
   ]
  },
  {
   "cell_type": "code",
   "execution_count": 60,
   "metadata": {},
   "outputs": [
    {
     "name": "stdout",
     "output_type": "stream",
     "text": [
      "Rule(x<5:accept)\n",
      "True\n",
      "False\n"
     ]
    }
   ],
   "source": [
    "class Rule:\n",
    "    def __init__(self, prop: str, operator: str, value: int, acceptance: str):\n",
    "        self.prop = prop\n",
    "        self.operator = operator\n",
    "        self._operator_func = int.__lt__ if operator == \"<\" else int.__gt__\n",
    "        self.value = value\n",
    "        self.acceptance = acceptance\n",
    "\n",
    "    def __repr__(self) -> str:\n",
    "        return f\"Rule({self.prop}{self.operator}{self.value}:{self.acceptance})\"\n",
    "    \n",
    "    def test(self, part: Part) -> bool:\n",
    "        return self._operator_func(part.__dict__[self.prop], self.value)\n",
    "\n",
    "    @staticmethod\n",
    "    def from_raw(raw: str) -> Rule:\n",
    "        if \":\" not in raw:\n",
    "            return AcceptRule(raw)\n",
    "        split = raw.split(\":\")\n",
    "        condition_raw = split[0]\n",
    "        return Rule(\n",
    "            prop=condition_raw[0],\n",
    "            operator=condition_raw[1], \n",
    "            value=int(condition_raw[2:]), \n",
    "            acceptance=split[1],\n",
    "        )\n",
    "\n",
    "\n",
    "class AcceptRule(Rule):\n",
    "    def __init__(self, acceptance: str):\n",
    "        self.acceptance = acceptance\n",
    "\n",
    "    def __repr__(self) -> str:\n",
    "        return f\"AcceptRule({self.acceptance})\"\n",
    "\n",
    "    def test(self, part: Part) -> bool:\n",
    "        return True\n",
    "\n",
    "\n",
    "\n",
    "test_rule = Rule.from_raw(\"x<5:accept\")\n",
    "print(test_rule)\n",
    "print(test_rule.test(Part(4, 0, 0, 0)))\n",
    "print(test_rule.test(Part(6, 0, 0, 0)))"
   ]
  },
  {
   "cell_type": "code",
   "execution_count": 61,
   "metadata": {},
   "outputs": [
    {
     "name": "stdout",
     "output_type": "stream",
     "text": [
      "Workflow(px, [Rule(a<2006:qkq), Rule(m>2090:A), AcceptRule(rfg)])\n",
      "qkq\n",
      "A\n",
      "rfg\n"
     ]
    }
   ],
   "source": [
    "class Workflow:\n",
    "    def __init__(self, name: str, rules: list[Rule]):\n",
    "        self.name = name\n",
    "        self.rules = rules\n",
    "\n",
    "    def __repr__(self) -> str:\n",
    "        return f\"Workflow({self.name}, {self.rules})\"\n",
    "\n",
    "    def test(self, part: Part) -> str:\n",
    "        for rule in self.rules:\n",
    "            if rule.test(part):\n",
    "                return rule.acceptance\n",
    "\n",
    "    @staticmethod\n",
    "    def from_raw(raw: str) -> Workflow:\n",
    "        name, rules_raw = raw.rstrip(\"}\").split(\"{\")\n",
    "        rules = [Rule.from_raw(rule_raw) for rule_raw in rules_raw.split(\",\")]\n",
    "        return Workflow(name, rules)\n",
    "    \n",
    "\n",
    "test_workflow = Workflow.from_raw(\"px{a<2006:qkq,m>2090:A,rfg}\")\n",
    "print(test_workflow)\n",
    "print(test_workflow.test(Part(0, 0, 2005, 0)))\n",
    "print(test_workflow.test(Part(0, 2091, 2007, 0)))\n",
    "print(test_workflow.test(Part(0, 0, 2007, 0)))"
   ]
  },
  {
   "cell_type": "code",
   "execution_count": 62,
   "metadata": {},
   "outputs": [
    {
     "data": {
      "text/plain": [
       "({'px': Workflow(px, [Rule(a<2006:qkq), Rule(m>2090:A), AcceptRule(rfg)]),\n",
       "  'pv': Workflow(pv, [Rule(a>1716:R), AcceptRule(A)]),\n",
       "  'lnx': Workflow(lnx, [Rule(m>1548:A), AcceptRule(A)]),\n",
       "  'rfg': Workflow(rfg, [Rule(s<537:gd), Rule(x>2440:R), AcceptRule(A)]),\n",
       "  'qs': Workflow(qs, [Rule(s>3448:A), AcceptRule(lnx)]),\n",
       "  'qkq': Workflow(qkq, [Rule(x<1416:A), AcceptRule(crn)]),\n",
       "  'crn': Workflow(crn, [Rule(x>2662:A), AcceptRule(R)]),\n",
       "  'in': Workflow(in, [Rule(s<1351:px), AcceptRule(qqz)]),\n",
       "  'qqz': Workflow(qqz, [Rule(s>2770:qs), Rule(m<1801:hdj), AcceptRule(R)]),\n",
       "  'gd': Workflow(gd, [Rule(a>3333:R), AcceptRule(R)]),\n",
       "  'hdj': Workflow(hdj, [Rule(m>838:A), AcceptRule(pv)])},\n",
       " [Part(x=787, m=2655, a=1222, s=2876),\n",
       "  Part(x=1679, m=44, a=2067, s=496),\n",
       "  Part(x=2036, m=264, a=79, s=2244),\n",
       "  Part(x=2461, m=1339, a=466, s=291),\n",
       "  Part(x=2127, m=1623, a=2188, s=1013)])"
      ]
     },
     "execution_count": 62,
     "metadata": {},
     "output_type": "execute_result"
    }
   ],
   "source": [
    "test_data_raw = \"\"\"px{a<2006:qkq,m>2090:A,rfg}\n",
    "pv{a>1716:R,A}\n",
    "lnx{m>1548:A,A}\n",
    "rfg{s<537:gd,x>2440:R,A}\n",
    "qs{s>3448:A,lnx}\n",
    "qkq{x<1416:A,crn}\n",
    "crn{x>2662:A,R}\n",
    "in{s<1351:px,qqz}\n",
    "qqz{s>2770:qs,m<1801:hdj,R}\n",
    "gd{a>3333:R,R}\n",
    "hdj{m>838:A,pv}\n",
    "\n",
    "{x=787,m=2655,a=1222,s=2876}\n",
    "{x=1679,m=44,a=2067,s=496}\n",
    "{x=2036,m=264,a=79,s=2244}\n",
    "{x=2461,m=1339,a=466,s=291}\n",
    "{x=2127,m=1623,a=2188,s=1013}\n",
    "\"\"\"\n",
    "\n",
    "\n",
    "def parse_data(data_raw):\n",
    "    workflows_raw, parts_raw = data_raw.split(\"\\n\\n\")\n",
    "\n",
    "    workflows = dict()\n",
    "    for workflow_raw in workflows_raw.splitlines():\n",
    "        workflow = Workflow.from_raw(workflow_raw)\n",
    "        workflows[workflow.name] = workflow\n",
    "    parts = [Part.from_raw(part_raw) for part_raw in parts_raw.splitlines()]\n",
    "\n",
    "    return workflows, parts\n",
    "\n",
    "\n",
    "test_data = parse_data(test_data_raw)\n",
    "test_data"
   ]
  },
  {
   "cell_type": "code",
   "execution_count": 63,
   "metadata": {},
   "outputs": [
    {
     "data": {
      "text/plain": [
       "19114"
      ]
     },
     "execution_count": 63,
     "metadata": {},
     "output_type": "execute_result"
    }
   ],
   "source": [
    "def is_accepted(part, workflows):\n",
    "    current_workflow_name = \"in\"\n",
    "    while current_workflow_name not in {\"A\", \"R\"}:\n",
    "        current_workflow = workflows[current_workflow_name]\n",
    "        current_workflow_name = current_workflow.test(part)\n",
    "    return current_workflow_name == \"A\"\n",
    "\n",
    "\n",
    "def part1(data):\n",
    "    workflows, parts = data\n",
    "    result = 0\n",
    "    for part in parts:\n",
    "        if is_accepted(part, workflows):\n",
    "            result += part.x + part.m + part.a + part.s\n",
    "    return result\n",
    "\n",
    "\n",
    "part1(test_data)"
   ]
  },
  {
   "cell_type": "code",
   "execution_count": 64,
   "metadata": {},
   "outputs": [
    {
     "data": {
      "text/plain": [
       "(Workflow(in, [Rule(s<1496:qfr), Rule(m<1482:tj), AcceptRule(nqp)]),\n",
       " [Part(x=4, m=211, a=430, s=167),\n",
       "  Part(x=469, m=1450, a=3037, s=1084),\n",
       "  Part(x=90, m=929, a=457, s=661)])"
      ]
     },
     "execution_count": 64,
     "metadata": {},
     "output_type": "execute_result"
    }
   ],
   "source": [
    "with open(\"input.txt\") as f:\n",
    "    data = parse_data(f.read())\n",
    "\n",
    "data[0][\"in\"], data[1][:3]"
   ]
  },
  {
   "cell_type": "code",
   "execution_count": 65,
   "metadata": {},
   "outputs": [
    {
     "data": {
      "text/plain": [
       "446517"
      ]
     },
     "execution_count": 65,
     "metadata": {},
     "output_type": "execute_result"
    }
   ],
   "source": [
    "part1(data)"
   ]
  },
  {
   "cell_type": "markdown",
   "metadata": {},
   "source": [
    "## Part 2\n",
    "\n",
    "Even with your help, the sorting process still isn't fast enough.\n",
    "\n",
    "One of the Elves comes up with a new plan: rather than sort parts individually through all of these workflows, maybe you can figure out in advance which combinations of ratings will be accepted or rejected.\n",
    "\n",
    "Each of the four ratings (`x`, `m`, `a`, `s`) can have an integer value ranging from a minimum of `1` to a maximum of `4000`. Of all possible distinct combinations of ratings, your job is to figure out which ones will be accepted.\n",
    "\n",
    "In the above example, there are `167409079868000` distinct combinations of ratings that will be accepted.\n",
    "\n",
    "Consider only your list of workflows; the list of part ratings that the Elves wanted you to sort is no longer relevant. How many distinct combinations of ratings will be accepted by the Elves' workflows?"
   ]
  },
  {
   "cell_type": "code",
   "execution_count": 70,
   "metadata": {},
   "outputs": [
    {
     "data": {
      "text/plain": [
       "167409079868000"
      ]
     },
     "execution_count": 70,
     "metadata": {},
     "output_type": "execute_result"
    }
   ],
   "source": [
    "import math\n",
    "import numpy as np\n",
    "\n",
    "\n",
    "def count_accepted(workflows):\n",
    "    def helper(workflow_name, rule_idx, bounds={prop: (1, 4000) for prop in \"xmas\"}):\n",
    "        OPERATORS = \"><\"\n",
    "\n",
    "        if workflow_name in [\"A\", \"R\"]:\n",
    "            return math.prod([upper - lower + 1 for lower, upper in bounds.values()]) if workflow_name == \"A\" else 0\n",
    "        \n",
    "        workflow = workflows[workflow_name]\n",
    "        rule = workflow.rules[rule_idx]\n",
    "\n",
    "        if isinstance(rule, AcceptRule):\n",
    "            return helper(rule.acceptance, 0, bounds)\n",
    "            \n",
    "        result = 0\n",
    "        lower_bound = rule.value - 1 if rule.operator == \"<\" else rule.value\n",
    "        upper_bound = rule.value if rule.operator == \"<\" else rule.value + 1\n",
    "        new_base_bounds = (lower_bound, upper_bound)\n",
    "\n",
    "        for axis in [0, 1]:\n",
    "            if bounds[rule.prop][0] < new_base_bounds[axis] < bounds[rule.prop][1]:\n",
    "                new_bounds = bounds.copy()\n",
    "                new_bounds[rule.prop] = np.array([bounds[rule.prop][axis], new_base_bounds[axis]])[[axis, 1 - axis]]\n",
    "                new_workflow_name, new_rule_idx = (workflow_name, rule_idx + 1) if rule.operator == OPERATORS[axis] else (rule.acceptance, 0)\n",
    "                result += helper(new_workflow_name, new_rule_idx, new_bounds)\n",
    "\n",
    "        return result\n",
    "    \n",
    "    return helper(\"in\", 0)\n",
    "\n",
    "\n",
    "def part2(data):\n",
    "    return count_accepted(data[0])\n",
    "\n",
    "\n",
    "part2(test_data)"
   ]
  },
  {
   "cell_type": "code",
   "execution_count": 71,
   "metadata": {},
   "outputs": [
    {
     "data": {
      "text/plain": [
       "130090458884662"
      ]
     },
     "execution_count": 71,
     "metadata": {},
     "output_type": "execute_result"
    }
   ],
   "source": [
    "part2(data)"
   ]
  }
 ],
 "metadata": {
  "kernelspec": {
   "display_name": "aoc",
   "language": "python",
   "name": "python3"
  },
  "language_info": {
   "codemirror_mode": {
    "name": "ipython",
    "version": 3
   },
   "file_extension": ".py",
   "mimetype": "text/x-python",
   "name": "python",
   "nbconvert_exporter": "python",
   "pygments_lexer": "ipython3",
   "version": "3.11.1"
  }
 },
 "nbformat": 4,
 "nbformat_minor": 2
}
