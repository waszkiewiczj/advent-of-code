{
 "cells": [
  {
   "cell_type": "markdown",
   "metadata": {},
   "source": [
    "# Day 5: If You Give A Seed A Fertilizer"
   ]
  },
  {
   "cell_type": "markdown",
   "metadata": {},
   "source": [
    "## Part 1\n",
    "\n",
    "You take the boat and find the gardener right where you were told he would be: managing a giant \"garden\" that looks more to you like a farm.\n",
    "\n",
    "\"A water source? Island Island is the water source!\" You point out that Snow Island isn't receiving any water.\n",
    "\n",
    "\"Oh, we had to stop the water because we ran out of sand to filter it with! Can't make snow with dirty water. Don't worry, I'm sure we'll get more sand soon; we only turned off the water a few days... weeks... oh no.\" His face sinks into a look of horrified realization.\n",
    "\n",
    "\"I've been so busy making sure everyone here has food that I completely forgot to check why we stopped getting more sand! There's a ferry leaving soon that is headed over in that direction - it's much faster than your boat. Could you please go check it out?\"\n",
    "\n",
    "You barely have time to agree to this request when he brings up another. \"While you wait for the ferry, maybe you can help us with our food production problem. The latest Island Island Almanac just arrived and we're having trouble making sense of it.\"\n",
    "\n",
    "The almanac (your puzzle input) lists all of the seeds that need to be planted. It also lists what type of soil to use with each kind of seed, what type of fertilizer to use with each kind of soil, what type of water to use with each kind of fertilizer, and so on. Every type of seed, soil, fertilizer and so on is identified with a number, but numbers are reused by each category - that is, soil `123` and fertilizer `123` aren't necessarily related to each other.\n",
    "\n",
    "For example:\n",
    "```\n",
    "seeds: 79 14 55 13\n",
    "\n",
    "seed-to-soil map:\n",
    "50 98 2\n",
    "52 50 48\n",
    "\n",
    "soil-to-fertilizer map:\n",
    "0 15 37\n",
    "37 52 2\n",
    "39 0 15\n",
    "\n",
    "fertilizer-to-water map:\n",
    "49 53 8\n",
    "0 11 42\n",
    "42 0 7\n",
    "57 7 4\n",
    "\n",
    "water-to-light map:\n",
    "88 18 7\n",
    "18 25 70\n",
    "\n",
    "light-to-temperature map:\n",
    "45 77 23\n",
    "81 45 19\n",
    "68 64 13\n",
    "\n",
    "temperature-to-humidity map:\n",
    "0 69 1\n",
    "1 0 69\n",
    "\n",
    "humidity-to-location map:\n",
    "60 56 37\n",
    "56 93 4\n",
    "```\n",
    "\n",
    "The almanac starts by listing which seeds need to be planted: seeds `79`, `14`, `55`, and `13`.\n",
    "\n",
    "The rest of the almanac contains a list of maps which describe how to convert numbers from a source category into numbers in a destination category. That is, the section that starts with `seed-to-soil map:` describes how to convert a seed number (the source) to a soil number (the destination). This lets the gardener and his team know which soil to use with which seeds, which water to use with which fertilizer, and so on.\n",
    "\n",
    "Rather than list every source number and its corresponding destination number one by one, the maps describe entire ranges of numbers that can be converted. Each line within a map contains three numbers: the destination range start, the source range start, and the range length.\n",
    "\n",
    "Consider again the example `seed-to-soil map`:\n",
    "\n",
    "```\n",
    "50 98 2\n",
    "52 50 48\n",
    "```\n",
    "The first line has a destination range start of `50`, a source range start of `98`, and a range length of `2`. This line means that the source range starts at `98` and contains two values: `98` and `99`. The destination range is the same length, but it starts at `50`, so its two values are `50` and `51`. With this information, you know that seed number `98` corresponds to soil number `50` and that seed number `99` corresponds to soil number `51`.\n",
    "\n",
    "The second line means that the source range starts at `50` and contains `48` values: `50`, `51`, ..., `96`, `97`. This corresponds to a destination range starting at `52` and also containing `48` values: `52`, `53`, ..., `98`, `99`. So, seed number `53` corresponds to soil number `55`.\n",
    "\n",
    "Any source numbers that aren't mapped correspond to the same destination number. So, seed number `10` corresponds to soil number `10`.\n",
    "\n",
    "So, the entire list of seed numbers and their corresponding soil numbers looks like this:\n",
    "\n",
    "```\n",
    "seed  soil\n",
    "0     0\n",
    "1     1\n",
    "...   ...\n",
    "48    48\n",
    "49    49\n",
    "50    52\n",
    "51    53\n",
    "...   ...\n",
    "96    98\n",
    "97    99\n",
    "98    50\n",
    "99    51\n",
    "```\n",
    "\n",
    "With this map, you can look up the soil number required for each initial seed number:\n",
    "\n",
    "- Seed number `79` corresponds to soil number `81`.\n",
    "- Seed number `14` corresponds to soil number `14`.\n",
    "- Seed number `55` corresponds to soil number `57`.\n",
    "- Seed number `13` corresponds to soil number `13`.\n",
    "\n",
    "The gardener and his team want to get started as soon as possible, so they'd like to know the closest location that needs a seed. Using these maps, find the lowest location number that corresponds to any of the initial seeds. To do this, you'll need to convert each seed number through other categories until you can find its corresponding location number. In this example, the corresponding types are:\n",
    "\n",
    "- Seed `79`, soil `81`, fertilizer `81`, water `81`, light `74`, temperature `78`, humidity `78`, location `82`.\n",
    "- Seed `14`, soil `14`, fertilizer `53`, water `49`, light `42`, temperature `42`, humidity `43`, location `43`.\n",
    "- Seed `55`, soil `57`, fertilizer `57`, water `53`, light `46`, temperature `82`, humidity `82`, location `86`.\n",
    "- Seed `13`, soil `13`, fertilizer `52`, water `41`, light `34`, temperature `34`, humidity `35`, location `35`.\n",
    "\n",
    "So, the lowest location number in this example is `35`.\n",
    "\n",
    "What is the lowest location number that corresponds to any of the initial seed numbers?"
   ]
  },
  {
   "cell_type": "code",
   "execution_count": 8,
   "metadata": {},
   "outputs": [
    {
     "data": {
      "text/plain": [
       "{'seeds': [79, 14, 55, 13],\n",
       " 'seed-to-soil': [[50, 98, 2], [52, 50, 48]],\n",
       " 'soil-to-fertilizer': [[0, 15, 37], [37, 52, 2], [39, 0, 15]],\n",
       " 'fertilizer-to-water': [[49, 53, 8], [0, 11, 42], [42, 0, 7], [57, 7, 4]],\n",
       " 'water-to-light': [[88, 18, 7], [18, 25, 70]],\n",
       " 'light-to-temperature': [[45, 77, 23], [81, 45, 19], [68, 64, 13]],\n",
       " 'temperature-to-humidity': [[0, 69, 1], [1, 0, 69]],\n",
       " 'humidity-to-location': [[60, 56, 37], [56, 93, 4]]}"
      ]
     },
     "execution_count": 8,
     "metadata": {},
     "output_type": "execute_result"
    }
   ],
   "source": [
    "test_data_raw = \"\"\"\n",
    "seeds: 79 14 55 13\n",
    "\n",
    "seed-to-soil map:\n",
    "50 98 2\n",
    "52 50 48\n",
    "\n",
    "soil-to-fertilizer map:\n",
    "0 15 37\n",
    "37 52 2\n",
    "39 0 15\n",
    "\n",
    "fertilizer-to-water map:\n",
    "49 53 8\n",
    "0 11 42\n",
    "42 0 7\n",
    "57 7 4\n",
    "\n",
    "water-to-light map:\n",
    "88 18 7\n",
    "18 25 70\n",
    "\n",
    "light-to-temperature map:\n",
    "45 77 23\n",
    "81 45 19\n",
    "68 64 13\n",
    "\n",
    "temperature-to-humidity map:\n",
    "0 69 1\n",
    "1 0 69\n",
    "\n",
    "humidity-to-location map:\n",
    "60 56 37\n",
    "56 93 4\"\"\"\n",
    "\n",
    "\n",
    "def parse_data(data):\n",
    "    result = {}\n",
    "    sections = data.strip().split(\"\\n\\n\")\n",
    "    for section in sections:\n",
    "        if section.startswith(\"seeds\"):\n",
    "            result[\"seeds\"] = [int(seed) for seed in section[7:].split(\" \")]\n",
    "        else:\n",
    "            map_type = section.split(\" \")[0]\n",
    "            result[map_type] = [\n",
    "                [int(num) for num in row.rstrip().split(\" \")]\n",
    "                for row in section.split(\"\\n\")[1:]\n",
    "            ]\n",
    "\n",
    "    return result\n",
    "\n",
    "test_data = parse_data(test_data_raw)\n",
    "test_data"
   ]
  },
  {
   "cell_type": "code",
   "execution_count": 9,
   "metadata": {},
   "outputs": [
    {
     "data": {
      "text/plain": [
       "[4043382508, 113348245, 3817519559, 177922221, 3613573568]"
      ]
     },
     "execution_count": 9,
     "metadata": {},
     "output_type": "execute_result"
    }
   ],
   "source": [
    "with open(\"input.txt\") as f:\n",
    "    data = parse_data(f.read())\n",
    "\n",
    "data[\"seeds\"][:5]"
   ]
  },
  {
   "cell_type": "code",
   "execution_count": 10,
   "metadata": {},
   "outputs": [
    {
     "data": {
      "text/plain": [
       "35"
      ]
     },
     "execution_count": 10,
     "metadata": {},
     "output_type": "execute_result"
    }
   ],
   "source": [
    "def part1(data):\n",
    "    def convert(number, map_name):\n",
    "        map_data = data[map_name]\n",
    "        for dest, src, length in map_data:\n",
    "            if src <= number < src + length:\n",
    "                return dest + number - src\n",
    "        return number\n",
    "    seeds = data[\"seeds\"]\n",
    "    seed_to_soil = map(lambda seed: convert(seed, \"seed-to-soil\"), seeds)\n",
    "    soil_to_fertilizer = map(lambda soil: convert(soil, \"soil-to-fertilizer\"), seed_to_soil)\n",
    "    fertilizer_to_water = map(lambda fertilizer: convert(fertilizer, \"fertilizer-to-water\"), soil_to_fertilizer)\n",
    "    water_to_light = map(lambda water: convert(water, \"water-to-light\"), fertilizer_to_water)\n",
    "    light_to_temperature = map(lambda light: convert(light, \"light-to-temperature\"), water_to_light)\n",
    "    temperature_to_humidity = map(lambda temperature: convert(temperature, \"temperature-to-humidity\"), light_to_temperature)\n",
    "    humidity_to_location = map(lambda humidity: convert(humidity, \"humidity-to-location\"), temperature_to_humidity)\n",
    "    return min(humidity_to_location)\n",
    "\n",
    "part1(test_data)"
   ]
  },
  {
   "cell_type": "code",
   "execution_count": 11,
   "metadata": {},
   "outputs": [
    {
     "data": {
      "text/plain": [
       "289863851"
      ]
     },
     "execution_count": 11,
     "metadata": {},
     "output_type": "execute_result"
    }
   ],
   "source": [
    "part1(data)"
   ]
  },
  {
   "cell_type": "markdown",
   "metadata": {},
   "source": [
    "## Part 2\n",
    "\n",
    "Everyone will starve if you only plant such a small number of seeds. Re-reading the almanac, it looks like the `seeds:` line actually describes ranges of seed numbers.\n",
    "\n",
    "The values on the initial `seeds:` line come in pairs. Within each pair, the first value is the start of the range and the second value is the length of the range. So, in the first line of the example above:\n",
    "\n",
    "```\n",
    "seeds: 79 14 55 13\n",
    "```\n",
    "\n",
    "This line describes two ranges of seed numbers to be planted in the garden. The first range starts with seed number `79` and contains `14` values: `79`, `80`, ..., `91`, `92`. The second range starts with seed number `55` and contains `13` values: `55`, `56`, ..., `66`, `67`.\n",
    "\n",
    "Now, rather than considering four seed numbers, you need to consider a total of 27 seed numbers.\n",
    "\n",
    "In the above example, the lowest location number can be obtained from seed number `82`, which corresponds to soil `84`, fertilizer `84`, water `84`, light `77`, temperature `45`, humidity `46`, and location `46`. So, the lowest location number is `46`.\n",
    "\n",
    "Consider all of the initial seed numbers listed in the ranges on the first line of the almanac. What is the lowest location number that corresponds to any of the initial seed numbers?"
   ]
  },
  {
   "cell_type": "code",
   "execution_count": 118,
   "metadata": {},
   "outputs": [
    {
     "data": {
      "text/plain": [
       "46"
      ]
     },
     "execution_count": 118,
     "metadata": {},
     "output_type": "execute_result"
    }
   ],
   "source": [
    "from __future__ import annotations\n",
    "from typing import List, Tuple\n",
    "\n",
    "\n",
    "class Range:\n",
    "    def __init__(self, start: int, length: int):\n",
    "        self.start = start\n",
    "        self.length = length\n",
    "\n",
    "    def __repr__(self):\n",
    "        return f\"Range({self.start}-{self.end} ({self.length}))\"\n",
    "\n",
    "    @property\n",
    "    def end(self):\n",
    "        return self.start + self.length - 1\n",
    "\n",
    "    def shift(self, amount: int) -> Tuple[List[Range], Range]:\n",
    "        return Range(self.start + amount, self.length)\n",
    "\n",
    "    def __sub__(self, other: Range):\n",
    "        if self.end < other.start or other.end < self.start:\n",
    "            return [self], None\n",
    "        if self.start < other.start:\n",
    "            if self.end <= other.end:\n",
    "                sub = [Range(self.start, other.start - self.start)]\n",
    "                rest = Range(other.start, self.end - other.start + 1) \n",
    "            else:\n",
    "                sub = [Range(self.start, other.start - self.start + 1), Range(other.end + 1, self.end - other.end + 1)]\n",
    "                rest = Range(other.start + 1, other.end - other.start + 1)\n",
    "        else:\n",
    "            if other.end < self.end:\n",
    "                sub = [Range(other.end + 1, self.end - other.end)]\n",
    "                rest = Range(self.start, other.end - self.start + 1)\n",
    "            else:\n",
    "                sub = []\n",
    "                rest = Range(self.start, self.length)\n",
    "        return sub, rest\n",
    "\n",
    "\n",
    "class RangeMapping:\n",
    "    def __init__(self, range: Range, shift: int):\n",
    "        self.range = range\n",
    "        self.shift = shift\n",
    "\n",
    "    def __repr__(self) -> str:\n",
    "        return f\"RMap({self.range}, shift={self.shift})\"\n",
    "\n",
    "    @staticmethod\n",
    "    def from_raw(src: int, dest: int, length: int):\n",
    "        return RangeMapping(Range(src, length), dest - src)\n",
    "\n",
    "\n",
    "class RangeMappingSet:\n",
    "    def __init__(self, mappings: List[RangeMapping]):\n",
    "        self.mappings = mappings\n",
    "\n",
    "    def __repr__(self) -> str:\n",
    "        return f\"RMapSet({self.mappings})\"\n",
    "\n",
    "    def transform(self, r: Range) -> List[Range]:\n",
    "        result = []\n",
    "        current_ranges = [r]\n",
    "        for mapping in self.mappings:\n",
    "            new_ranges = []\n",
    "            for current_range in current_ranges:\n",
    "                ranges_out, range_in = current_range - mapping.range\n",
    "                if range_in:\n",
    "                    result.append(range_in.shift(mapping.shift))\n",
    "                new_ranges.extend(ranges_out)\n",
    "            current_ranges = new_ranges\n",
    "        return result + current_ranges\n",
    "\n",
    "\n",
    "def part2(data):\n",
    "    def get_ranges_mapping_set(key: str) -> RangeMappingSet:\n",
    "        mapping_raw = data[key]\n",
    "        mappings = [RangeMapping.from_raw(src, dest, length) for dest, src, length in mapping_raw]\n",
    "        return RangeMappingSet(mappings)\n",
    "    \n",
    "    def map_ranges(ranges: List[Range], mappings: RangeMappingSet) -> List[Range]:\n",
    "        result = []\n",
    "        for r in ranges:\n",
    "            result.extend(mappings.transform(r))\n",
    "        return result\n",
    "\n",
    "    seed_ranges = [Range(start, length) for start, length in zip(data[\"seeds\"][0::2], data[\"seeds\"][1::2])]\n",
    "    ranges = seed_ranges\n",
    "    for mapping_key in [\n",
    "        \"seed-to-soil\", \n",
    "        \"soil-to-fertilizer\", \n",
    "        \"fertilizer-to-water\", \n",
    "        \"water-to-light\", \n",
    "        \"light-to-temperature\", \n",
    "        \"temperature-to-humidity\", \n",
    "        \"humidity-to-location\"\n",
    "    ]:\n",
    "        mapping_set = get_ranges_mapping_set(mapping_key)\n",
    "        ranges = map_ranges(ranges, mapping_set)\n",
    "    return min(map(lambda r: r.start, ranges))\n",
    "\n",
    "part2(test_data)"
   ]
  },
  {
   "cell_type": "code",
   "execution_count": 119,
   "metadata": {},
   "outputs": [
    {
     "data": {
      "text/plain": [
       "60568880"
      ]
     },
     "execution_count": 119,
     "metadata": {},
     "output_type": "execute_result"
    }
   ],
   "source": [
    "part2(data)"
   ]
  }
 ],
 "metadata": {
  "kernelspec": {
   "display_name": "aoc",
   "language": "python",
   "name": "python3"
  },
  "language_info": {
   "codemirror_mode": {
    "name": "ipython",
    "version": 3
   },
   "file_extension": ".py",
   "mimetype": "text/x-python",
   "name": "python",
   "nbconvert_exporter": "python",
   "pygments_lexer": "ipython3",
   "version": "3.11.1"
  }
 },
 "nbformat": 4,
 "nbformat_minor": 2
}
