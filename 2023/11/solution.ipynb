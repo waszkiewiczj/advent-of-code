{
 "cells": [
  {
   "cell_type": "markdown",
   "metadata": {},
   "source": [
    "# Day 11: Cosmic Expansion"
   ]
  },
  {
   "cell_type": "code",
   "execution_count": 49,
   "metadata": {},
   "outputs": [
    {
     "name": "stdout",
     "output_type": "stream",
     "text": [
      "...#......\n",
      ".......#..\n",
      "#.........\n",
      "..........\n",
      "......#...\n",
      ".#........\n",
      ".........#\n",
      "..........\n",
      ".......#..\n",
      "#...#.....\n"
     ]
    }
   ],
   "source": [
    "import numpy as np\n",
    "\n",
    "\n",
    "test_data_raw = (\n",
    "\"\"\"...#......\n",
    ".......#..\n",
    "#.........\n",
    "..........\n",
    "......#...\n",
    ".#........\n",
    ".........#\n",
    "..........\n",
    ".......#..\n",
    "#...#.....\"\"\"\n",
    ")\n",
    "\n",
    "\n",
    "def parse_data(data):\n",
    "    return np.array([list(line) for line in data.splitlines()])\n",
    "\n",
    "\n",
    "def print_data(data):\n",
    "    for line in data:\n",
    "        print(''.join([str(s) for s in line]))\n",
    "\n",
    "\n",
    "test_data = parse_data(test_data_raw)\n",
    "print_data(test_data)"
   ]
  },
  {
   "cell_type": "code",
   "execution_count": 51,
   "metadata": {},
   "outputs": [
    {
     "name": "stdout",
     "output_type": "stream",
     "text": [
      "EXPANDED (12, 13)\n",
      "....#........\n",
      ".........#...\n",
      "#............\n",
      ".............\n",
      ".............\n",
      "........#....\n",
      ".#...........\n",
      "............#\n",
      ".............\n",
      ".............\n",
      ".........#...\n",
      "#....#.......\n",
      "EXPECTED (12, 13)\n",
      "....#........\n",
      ".........#...\n",
      "#............\n",
      ".............\n",
      ".............\n",
      "........#....\n",
      ".#...........\n",
      "............#\n",
      ".............\n",
      ".............\n",
      ".........#...\n",
      "#....#.......\n"
     ]
    }
   ],
   "source": [
    "def expand(data):\n",
    "    result = np.copy(data)\n",
    "    for axis in [0, 1]:\n",
    "        indices = []\n",
    "        for idx in range(data.shape[axis]):\n",
    "            indices.append(idx)\n",
    "            if np.all(np.take(data, idx, axis=axis) == \".\"):\n",
    "                indices.append(idx)\n",
    "        result = np.take(result, indices, axis=axis)\n",
    "    return result\n",
    "\n",
    "\n",
    "expected_test_data_expanded = parse_data(\n",
    "\"\"\"....#........\n",
    ".........#...\n",
    "#............\n",
    ".............\n",
    ".............\n",
    "........#....\n",
    ".#...........\n",
    "............#\n",
    ".............\n",
    ".............\n",
    ".........#...\n",
    "#....#.......\"\"\"\n",
    ")\n",
    "\n",
    "test_data_expanded = expand(test_data)\n",
    "print(\"EXPANDED\", test_data_expanded.shape)\n",
    "print_data(test_data_expanded)\n",
    "print(\"EXPECTED\", expected_test_data_expanded.shape)\n",
    "print_data(expected_test_data_expanded)"
   ]
  },
  {
   "cell_type": "code",
   "execution_count": 52,
   "metadata": {},
   "outputs": [
    {
     "data": {
      "text/plain": [
       "{(1, 2): 6,\n",
       " (1, 3): 6,\n",
       " (1, 4): 9,\n",
       " (1, 5): 9,\n",
       " (1, 6): 15,\n",
       " (1, 7): 15,\n",
       " (1, 8): 15,\n",
       " (1, 9): 12,\n",
       " (2, 3): 10,\n",
       " (2, 4): 5,\n",
       " (2, 5): 13,\n",
       " (2, 6): 9,\n",
       " (2, 7): 9,\n",
       " (2, 8): 19,\n",
       " (2, 9): 14,\n",
       " (3, 4): 11,\n",
       " (3, 5): 5,\n",
       " (3, 6): 17,\n",
       " (3, 7): 17,\n",
       " (3, 8): 9,\n",
       " (3, 9): 14,\n",
       " (4, 5): 8,\n",
       " (4, 6): 6,\n",
       " (4, 7): 6,\n",
       " (4, 8): 14,\n",
       " (4, 9): 9,\n",
       " (5, 6): 12,\n",
       " (5, 7): 12,\n",
       " (5, 8): 6,\n",
       " (5, 9): 9,\n",
       " (6, 7): 6,\n",
       " (6, 8): 16,\n",
       " (6, 9): 11,\n",
       " (7, 8): 10,\n",
       " (7, 9): 5,\n",
       " (8, 9): 5}"
      ]
     },
     "execution_count": 52,
     "metadata": {},
     "output_type": "execute_result"
    }
   ],
   "source": [
    "def get_shortests_paths(data):\n",
    "    xs, ys = np.where(data == \"#\")\n",
    "    result = {}\n",
    "    for idx1, point1 in enumerate(zip(xs, ys)):\n",
    "        x1, y1 = point1\n",
    "        for idx2, point2 in enumerate(zip(xs[idx1 + 1:], ys[idx1 + 1:])):\n",
    "            x2, y2 = point2\n",
    "            x_diff = abs(x2 - x1)\n",
    "            y_diff = abs(y2 - y1)\n",
    "            distance = x_diff + y_diff\n",
    "            result[(idx1 + 1, idx1 + idx2 + 2)] = distance\n",
    "    return result\n",
    "\n",
    "\n",
    "get_shortests_paths(expand(test_data))"
   ]
  },
  {
   "cell_type": "code",
   "execution_count": 53,
   "metadata": {},
   "outputs": [
    {
     "data": {
      "text/plain": [
       "374"
      ]
     },
     "execution_count": 53,
     "metadata": {},
     "output_type": "execute_result"
    }
   ],
   "source": [
    "def part1(data):\n",
    "    data = expand(data)\n",
    "    paths = get_shortests_paths(data)\n",
    "    return sum(paths.values())\n",
    "\n",
    "\n",
    "part1(test_data)"
   ]
  },
  {
   "cell_type": "code",
   "execution_count": 56,
   "metadata": {},
   "outputs": [
    {
     "name": "stdout",
     "output_type": "stream",
     "text": [
      "..........\n",
      "..........\n",
      "..........\n",
      "...#......\n",
      "..........\n",
      "..........\n",
      "..........\n",
      "..........\n",
      "..........\n",
      "..........\n"
     ]
    }
   ],
   "source": [
    "with open(\"input.txt\") as f:\n",
    "    data = parse_data(f.read())\n",
    "\n",
    "print_data(data[:10, :10])"
   ]
  },
  {
   "cell_type": "code",
   "execution_count": 57,
   "metadata": {},
   "outputs": [
    {
     "data": {
      "text/plain": [
       "9522407"
      ]
     },
     "execution_count": 57,
     "metadata": {},
     "output_type": "execute_result"
    }
   ],
   "source": [
    "part1(data)"
   ]
  }
 ],
 "metadata": {
  "kernelspec": {
   "display_name": "aoc",
   "language": "python",
   "name": "python3"
  },
  "language_info": {
   "codemirror_mode": {
    "name": "ipython",
    "version": 3
   },
   "file_extension": ".py",
   "mimetype": "text/x-python",
   "name": "python",
   "nbconvert_exporter": "python",
   "pygments_lexer": "ipython3",
   "version": "3.11.1"
  }
 },
 "nbformat": 4,
 "nbformat_minor": 2
}
