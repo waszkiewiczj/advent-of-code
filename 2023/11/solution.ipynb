{
 "cells": [
  {
   "cell_type": "markdown",
   "metadata": {},
   "source": [
    "# Day 11: Cosmic Expansion"
   ]
  },
  {
   "cell_type": "markdown",
   "metadata": {},
   "source": [
    "## Part 1\n",
    "\n",
    "You continue following signs for \"Hot Springs\" and eventually come across an observatory. The Elf within turns out to be a researcher studying cosmic expansion using the giant telescope here.\n",
    "\n",
    "He doesn't know anything about the missing machine parts; he's only visiting for this research project. However, he confirms that the hot springs are the next-closest area likely to have people; he'll even take you straight there once he's done with today's observation analysis.\n",
    "\n",
    "Maybe you can help him with the analysis to speed things up?\n",
    "\n",
    "The researcher has collected a bunch of data and compiled the data into a single giant image (your puzzle input). The image includes empty space (`.`) and galaxies (`#`). For example:\n",
    "\n",
    "```\n",
    "...#......\n",
    ".......#..\n",
    "#.........\n",
    "..........\n",
    "......#...\n",
    ".#........\n",
    ".........#\n",
    "..........\n",
    ".......#..\n",
    "#...#.....\n",
    "```\n",
    "\n",
    "The researcher is trying to figure out the sum of the lengths of the shortest path between every pair of galaxies. However, there's a catch: the universe expanded in the time it took the light from those galaxies to reach the observatory.\n",
    "\n",
    "Due to something involving gravitational effects, only some space expands. In fact, the result is that any rows or columns that contain no galaxies should all actually be twice as big.\n",
    "\n",
    "In the above example, three columns and two rows contain no galaxies:\n",
    "\n",
    "```\n",
    "   v  v  v\n",
    " ...#......\n",
    " .......#..\n",
    " #.........\n",
    ">..........<\n",
    " ......#...\n",
    " .#........\n",
    " .........#\n",
    ">..........<\n",
    " .......#..\n",
    " #...#.....\n",
    "   ^  ^  ^\n",
    "```\n",
    "\n",
    "These rows and columns need to be twice as big; the result of cosmic expansion therefore looks like this:\n",
    "\n",
    "```\n",
    "....#........\n",
    ".........#...\n",
    "#............\n",
    ".............\n",
    ".............\n",
    "........#....\n",
    ".#...........\n",
    "............#\n",
    ".............\n",
    ".............\n",
    ".........#...\n",
    "#....#.......\n",
    "```\n",
    "\n",
    "Equipped with this expanded universe, the shortest path between every pair of galaxies can be found. It can help to assign every galaxy a unique number:\n",
    "\n",
    "```\n",
    "....1........\n",
    ".........2...\n",
    "3............\n",
    ".............\n",
    ".............\n",
    "........4....\n",
    ".5...........\n",
    "............6\n",
    ".............\n",
    ".............\n",
    ".........7...\n",
    "8....9.......\n",
    "```\n",
    "\n",
    "In these 9 galaxies, there are 36 pairs. Only count each pair once; order within the pair doesn't matter. For each pair, find any shortest path between the two galaxies using only steps that move up, down, left, or right exactly one `.` or `#` at a time. (The shortest path between two galaxies is allowed to pass through another galaxy.)\n",
    "\n",
    "For example, here is one of the shortest paths between galaxies `5` and `9`:\n",
    "\n",
    "```\n",
    "....1........\n",
    ".........2...\n",
    "3............\n",
    ".............\n",
    ".............\n",
    "........4....\n",
    ".5...........\n",
    ".##.........6\n",
    "..##.........\n",
    "...##........\n",
    "....##...7...\n",
    "8....9.......\n",
    "```\n",
    "\n",
    "This path has length `9` because it takes a minimum of nine steps to get from galaxy `5` to galaxy `9` (the eight locations marked # plus the step onto galaxy 9 itself). Here are some other example shortest path lengths:\n",
    "\n",
    "- Between galaxy `1` and galaxy `7`: `15`\n",
    "- Between galaxy `3` and galaxy `6`: `17`\n",
    "- Between galaxy `8` and galaxy `9`: `5`\n",
    "\n",
    "In this example, after expanding the universe, the sum of the shortest path between all 36 pairs of galaxies is `374`.\n",
    "\n",
    "Expand the universe, then find the length of the shortest path between every pair of galaxies. What is the sum of these lengths?"
   ]
  },
  {
   "cell_type": "code",
   "execution_count": 49,
   "metadata": {},
   "outputs": [
    {
     "name": "stdout",
     "output_type": "stream",
     "text": [
      "...#......\n",
      ".......#..\n",
      "#.........\n",
      "..........\n",
      "......#...\n",
      ".#........\n",
      ".........#\n",
      "..........\n",
      ".......#..\n",
      "#...#.....\n"
     ]
    }
   ],
   "source": [
    "import numpy as np\n",
    "\n",
    "\n",
    "test_data_raw = (\n",
    "\"\"\"...#......\n",
    ".......#..\n",
    "#.........\n",
    "..........\n",
    "......#...\n",
    ".#........\n",
    ".........#\n",
    "..........\n",
    ".......#..\n",
    "#...#.....\"\"\"\n",
    ")\n",
    "\n",
    "\n",
    "def parse_data(data):\n",
    "    return np.array([list(line) for line in data.splitlines()])\n",
    "\n",
    "\n",
    "def print_data(data):\n",
    "    for line in data:\n",
    "        print(''.join([str(s) for s in line]))\n",
    "\n",
    "\n",
    "test_data = parse_data(test_data_raw)\n",
    "print_data(test_data)"
   ]
  },
  {
   "cell_type": "code",
   "execution_count": 88,
   "metadata": {},
   "outputs": [
    {
     "name": "stdout",
     "output_type": "stream",
     "text": [
      "EXPANDED (12, 13)\n",
      "....#........\n",
      ".........#...\n",
      "#............\n",
      ".............\n",
      ".............\n",
      "........#....\n",
      ".#...........\n",
      "............#\n",
      ".............\n",
      ".............\n",
      ".........#...\n",
      "#....#.......\n",
      "EXPECTED (12, 13)\n",
      "....#........\n",
      ".........#...\n",
      "#............\n",
      ".............\n",
      ".............\n",
      "........#....\n",
      ".#...........\n",
      "............#\n",
      ".............\n",
      ".............\n",
      ".........#...\n",
      "#....#.......\n"
     ]
    }
   ],
   "source": [
    "def expand(data):\n",
    "    result = np.copy(data)\n",
    "    for axis in [0, 1]:\n",
    "        indices = []\n",
    "        for idx in range(data.shape[axis]):\n",
    "            indices.append(idx)\n",
    "            if np.all(np.take(data, idx, axis=axis) == \".\"):\n",
    "                indices.append(idx)\n",
    "        result = np.take(result, indices, axis=axis)\n",
    "    return result\n",
    "\n",
    "\n",
    "expected_test_data_expanded = parse_data(\n",
    "\"\"\"....#........\n",
    ".........#...\n",
    "#............\n",
    ".............\n",
    ".............\n",
    "........#....\n",
    ".#...........\n",
    "............#\n",
    ".............\n",
    ".............\n",
    ".........#...\n",
    "#....#.......\"\"\"\n",
    ")\n",
    "\n",
    "test_data_expanded = expand(test_data)\n",
    "print(\"EXPANDED\", test_data_expanded.shape)\n",
    "print_data(test_data_expanded)\n",
    "print(\"EXPECTED\", expected_test_data_expanded.shape)\n",
    "print_data(expected_test_data_expanded)"
   ]
  },
  {
   "cell_type": "code",
   "execution_count": 59,
   "metadata": {},
   "outputs": [
    {
     "data": {
      "text/plain": [
       "{(1, 2): 6,\n",
       " (1, 3): 6,\n",
       " (1, 4): 9,\n",
       " (1, 5): 9,\n",
       " (1, 6): 15,\n",
       " (1, 7): 15,\n",
       " (1, 8): 15,\n",
       " (1, 9): 12,\n",
       " (2, 3): 10,\n",
       " (2, 4): 5,\n",
       " (2, 5): 13,\n",
       " (2, 6): 9,\n",
       " (2, 7): 9,\n",
       " (2, 8): 19,\n",
       " (2, 9): 14,\n",
       " (3, 4): 11,\n",
       " (3, 5): 5,\n",
       " (3, 6): 17,\n",
       " (3, 7): 17,\n",
       " (3, 8): 9,\n",
       " (3, 9): 14,\n",
       " (4, 5): 8,\n",
       " (4, 6): 6,\n",
       " (4, 7): 6,\n",
       " (4, 8): 14,\n",
       " (4, 9): 9,\n",
       " (5, 6): 12,\n",
       " (5, 7): 12,\n",
       " (5, 8): 6,\n",
       " (5, 9): 9,\n",
       " (6, 7): 6,\n",
       " (6, 8): 16,\n",
       " (6, 9): 11,\n",
       " (7, 8): 10,\n",
       " (7, 9): 5,\n",
       " (8, 9): 5}"
      ]
     },
     "execution_count": 59,
     "metadata": {},
     "output_type": "execute_result"
    }
   ],
   "source": [
    "def get_galaxies_loc(data):\n",
    "    xs, ys = np.where(data == \"#\")\n",
    "    return list(zip(xs, ys))\n",
    "\n",
    "\n",
    "def get_galaxies_pairs(data):\n",
    "    galaxies = get_galaxies_loc(data)\n",
    "    for idx1, point1 in enumerate(galaxies):\n",
    "        for idx2, point2 in enumerate(galaxies[idx1 + 1:]):\n",
    "            yield idx1 + 1, point1, idx1 + idx2 + 2 ,point2\n",
    "\n",
    "\n",
    "def get_shortests_paths(data):\n",
    "    result = {}\n",
    "    for id1, point1, id2, point2 in get_galaxies_pairs(data):\n",
    "        result[(id1, id2)] = abs(point1[0] - point2[0]) + abs(point1[1] - point2[1])\n",
    "    return result\n",
    "\n",
    "\n",
    "get_shortests_paths(expand(test_data))"
   ]
  },
  {
   "cell_type": "code",
   "execution_count": 60,
   "metadata": {},
   "outputs": [
    {
     "data": {
      "text/plain": [
       "374"
      ]
     },
     "execution_count": 60,
     "metadata": {},
     "output_type": "execute_result"
    }
   ],
   "source": [
    "def part1(data):\n",
    "    data = expand(data)\n",
    "    paths = get_shortests_paths(data)\n",
    "    return sum(paths.values())\n",
    "\n",
    "\n",
    "part1(test_data)"
   ]
  },
  {
   "cell_type": "code",
   "execution_count": 61,
   "metadata": {},
   "outputs": [
    {
     "name": "stdout",
     "output_type": "stream",
     "text": [
      "..........\n",
      "..........\n",
      "..........\n",
      "...#......\n",
      "..........\n",
      "..........\n",
      "..........\n",
      "..........\n",
      "..........\n",
      "..........\n"
     ]
    }
   ],
   "source": [
    "with open(\"input.txt\") as f:\n",
    "    data = parse_data(f.read())\n",
    "\n",
    "print_data(data[:10, :10])"
   ]
  },
  {
   "cell_type": "code",
   "execution_count": 62,
   "metadata": {},
   "outputs": [
    {
     "data": {
      "text/plain": [
       "9522407"
      ]
     },
     "execution_count": 62,
     "metadata": {},
     "output_type": "execute_result"
    }
   ],
   "source": [
    "part1(data)"
   ]
  },
  {
   "cell_type": "markdown",
   "metadata": {},
   "source": [
    "## Part 2\n",
    "\n",
    "The galaxies are much older (and thus much farther apart) than the researcher initially estimated.\n",
    "\n",
    "Now, instead of the expansion you did before, make each empty row or column one million times larger. That is, each empty row should be replaced with `1000000` empty rows, and each empty column should be replaced with `1000000` empty columns.\n",
    "\n",
    "(In the example above, if each empty row or column were merely `10` times larger, the sum of the shortest paths between every pair of galaxies would be `1030`. If each empty row or column were merely `100` times larger, the sum of the shortest paths between every pair of galaxies would be `8410`. However, your universe will need to expand far beyond these values.)\n",
    "\n",
    "Starting with the same initial image, expand the universe according to these new rules, then find the length of the shortest path between every pair of galaxies. What is the sum of these lengths?"
   ]
  },
  {
   "cell_type": "code",
   "execution_count": 118,
   "metadata": {},
   "outputs": [
    {
     "name": "stdout",
     "output_type": "stream",
     "text": [
      "374\n",
      "1030\n",
      "8410\n"
     ]
    }
   ],
   "source": [
    "def part2(data, empty_distance_base=1000000):\n",
    "    empty = [\n",
    "        np.array([idx for idx in range(data.shape[axis]) if np.all(np.take(data, idx, axis=axis) == \".\")])\n",
    "        for axis in [0, 1]\n",
    "    ]\n",
    "    distances = {}\n",
    "\n",
    "    for id1, point1, id2, point2 in get_galaxies_pairs(data):\n",
    "        empty_distance = sum([\n",
    "            np.sum((empty[axis] > min(point1[axis], point2[axis])) & (empty[axis] < max(point1[axis], point2[axis])))\n",
    "            for axis in [0, 1]\n",
    "        ])\n",
    "        distance = abs(point1[0] - point2[0]) + empty_distance * (empty_distance_base - 1) + abs(point1[1] - point2[1])\n",
    "        distances[(id1, id2)] = distance\n",
    "\n",
    "    return sum(distances.values())\n",
    "\n",
    "\n",
    "print(part2(expand(test_data), 1))\n",
    "print(part2(test_data, 10))\n",
    "print(part2(test_data, 100))"
   ]
  },
  {
   "cell_type": "code",
   "execution_count": 98,
   "metadata": {},
   "outputs": [
    {
     "data": {
      "text/plain": [
       "544723432977"
      ]
     },
     "execution_count": 98,
     "metadata": {},
     "output_type": "execute_result"
    }
   ],
   "source": [
    "part2(data)"
   ]
  }
 ],
 "metadata": {
  "kernelspec": {
   "display_name": "aoc",
   "language": "python",
   "name": "python3"
  },
  "language_info": {
   "codemirror_mode": {
    "name": "ipython",
    "version": 3
   },
   "file_extension": ".py",
   "mimetype": "text/x-python",
   "name": "python",
   "nbconvert_exporter": "python",
   "pygments_lexer": "ipython3",
   "version": "3.11.1"
  }
 },
 "nbformat": 4,
 "nbformat_minor": 2
}
